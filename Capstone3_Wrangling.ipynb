{
 "cells": [
  {
   "cell_type": "markdown",
   "id": "dc76b965",
   "metadata": {},
   "source": [
    "# Capstone 3 Data Wrangling\n",
    "### This data has been provided for me by Cleburne ISD from the 2020-2021 school year. All personally identifying information was wiped before I recieved the file. "
   ]
  },
  {
   "cell_type": "markdown",
   "id": "72cdf903",
   "metadata": {},
   "source": [
    "Here I'll import the nessisary modules"
   ]
  },
  {
   "cell_type": "code",
   "execution_count": 5,
   "id": "ce2d6199",
   "metadata": {},
   "outputs": [],
   "source": [
    "import pandas as pd\n",
    "import matplotlib.pyplot as plt\n",
    "import seaborn as sns\n",
    "import os\n",
    "import numpy as np"
   ]
  },
  {
   "cell_type": "code",
   "execution_count": null,
   "id": "e6d0322d",
   "metadata": {},
   "outputs": [],
   "source": [
    "#Mentor Note: I've sumbitted this notebook for review, but I'm not entirely sure I've completed it to the rigor required by the\n",
    "# rubric. I'd be happy to make any changes and resubmit. "
   ]
  },
  {
   "cell_type": "markdown",
   "id": "dcf8fdc2",
   "metadata": {},
   "source": [
    "Here I'll load the dataset. I'm going to load the data in a manner that will make it convenient to apply the same steps to additional datasets if I'm provided past data for time series analysis."
   ]
  },
  {
   "cell_type": "code",
   "execution_count": 2,
   "id": "d5109dd6",
   "metadata": {},
   "outputs": [
    {
     "name": "stdout",
     "output_type": "stream",
     "text": [
      "C:\\Users\\Armstrongs\\Desktop\\GitHub\\Capstone_3\n"
     ]
    }
   ],
   "source": [
    "cd Desktop\\GitHub\\Capstone_3"
   ]
  },
  {
   "cell_type": "code",
   "execution_count": 3,
   "id": "c2d111be",
   "metadata": {},
   "outputs": [
    {
     "data": {
      "text/plain": [
       "'C:\\\\Users\\\\Armstrongs\\\\Desktop\\\\GitHub\\\\Capstone_3'"
      ]
     },
     "execution_count": 3,
     "metadata": {},
     "output_type": "execute_result"
    }
   ],
   "source": [
    "pwd"
   ]
  },
  {
   "cell_type": "code",
   "execution_count": 6,
   "id": "60f3cbe0",
   "metadata": {},
   "outputs": [
    {
     "data": {
      "text/html": [
       "<div>\n",
       "<style scoped>\n",
       "    .dataframe tbody tr th:only-of-type {\n",
       "        vertical-align: middle;\n",
       "    }\n",
       "\n",
       "    .dataframe tbody tr th {\n",
       "        vertical-align: top;\n",
       "    }\n",
       "\n",
       "    .dataframe thead th {\n",
       "        text-align: right;\n",
       "    }\n",
       "</style>\n",
       "<table border=\"1\" class=\"dataframe\">\n",
       "  <thead>\n",
       "    <tr style=\"text-align: right;\">\n",
       "      <th></th>\n",
       "      <th>Student Number</th>\n",
       "      <th>Grade Level</th>\n",
       "      <th>Campus Number</th>\n",
       "      <th>Gender</th>\n",
       "      <th>EthnicityRace</th>\n",
       "      <th>Economic Disadvantage</th>\n",
       "      <th>Economic Disadvantage Category</th>\n",
       "      <th>At Risk</th>\n",
       "      <th>Special Ed</th>\n",
       "      <th>LEP</th>\n",
       "      <th>...</th>\n",
       "      <th>Military Connected Student</th>\n",
       "      <th>New To Texas</th>\n",
       "      <th>&gt;=50.0% Remote SY 2020-21</th>\n",
       "      <th>Discipline Placement Incidents</th>\n",
       "      <th>Oral Administration</th>\n",
       "      <th>Test Admin Mode</th>\n",
       "      <th>Approaches</th>\n",
       "      <th>Meets</th>\n",
       "      <th>Masters</th>\n",
       "      <th>STAAR Progress from 2019</th>\n",
       "    </tr>\n",
       "  </thead>\n",
       "  <tbody>\n",
       "    <tr>\n",
       "      <th>0</th>\n",
       "      <td>1</td>\n",
       "      <td>Fifth</td>\n",
       "      <td>1</td>\n",
       "      <td>Female</td>\n",
       "      <td>Hispanic/Latino</td>\n",
       "      <td>Yes</td>\n",
       "      <td>Eligible for Free Meals</td>\n",
       "      <td>Yes</td>\n",
       "      <td>Yes</td>\n",
       "      <td>LEP</td>\n",
       "      <td>...</td>\n",
       "      <td>0</td>\n",
       "      <td>No</td>\n",
       "      <td>Yes</td>\n",
       "      <td>0</td>\n",
       "      <td>No</td>\n",
       "      <td>Online</td>\n",
       "      <td>No</td>\n",
       "      <td>No</td>\n",
       "      <td>No</td>\n",
       "      <td>Limited</td>\n",
       "    </tr>\n",
       "    <tr>\n",
       "      <th>1</th>\n",
       "      <td>2</td>\n",
       "      <td>Fifth</td>\n",
       "      <td>3</td>\n",
       "      <td>Female</td>\n",
       "      <td>Hispanic/Latino</td>\n",
       "      <td>No</td>\n",
       "      <td>Not Economically Disadvantaged</td>\n",
       "      <td>Yes</td>\n",
       "      <td>Yes</td>\n",
       "      <td>LEP</td>\n",
       "      <td>...</td>\n",
       "      <td>0</td>\n",
       "      <td>No</td>\n",
       "      <td>No</td>\n",
       "      <td>0</td>\n",
       "      <td>Yes</td>\n",
       "      <td>Paper</td>\n",
       "      <td>No</td>\n",
       "      <td>No</td>\n",
       "      <td>No</td>\n",
       "      <td>Limited</td>\n",
       "    </tr>\n",
       "    <tr>\n",
       "      <th>2</th>\n",
       "      <td>3</td>\n",
       "      <td>Fifth</td>\n",
       "      <td>7</td>\n",
       "      <td>Male</td>\n",
       "      <td>White</td>\n",
       "      <td>Yes</td>\n",
       "      <td>Eligible for Free Meals</td>\n",
       "      <td>Yes</td>\n",
       "      <td>No</td>\n",
       "      <td>Other Non-LEP Student</td>\n",
       "      <td>...</td>\n",
       "      <td>0</td>\n",
       "      <td>No</td>\n",
       "      <td>No</td>\n",
       "      <td>0</td>\n",
       "      <td>No</td>\n",
       "      <td>Online</td>\n",
       "      <td>Yes</td>\n",
       "      <td>Yes</td>\n",
       "      <td>No</td>\n",
       "      <td>Accelerated</td>\n",
       "    </tr>\n",
       "    <tr>\n",
       "      <th>3</th>\n",
       "      <td>4</td>\n",
       "      <td>Fifth</td>\n",
       "      <td>5</td>\n",
       "      <td>Female</td>\n",
       "      <td>Hispanic/Latino</td>\n",
       "      <td>No</td>\n",
       "      <td>Not Economically Disadvantaged</td>\n",
       "      <td>No</td>\n",
       "      <td>No</td>\n",
       "      <td>Other Non-LEP Student</td>\n",
       "      <td>...</td>\n",
       "      <td>0</td>\n",
       "      <td>No</td>\n",
       "      <td>No</td>\n",
       "      <td>0</td>\n",
       "      <td>No</td>\n",
       "      <td>Online</td>\n",
       "      <td>No</td>\n",
       "      <td>No</td>\n",
       "      <td>No</td>\n",
       "      <td>Expected</td>\n",
       "    </tr>\n",
       "    <tr>\n",
       "      <th>4</th>\n",
       "      <td>5</td>\n",
       "      <td>Fifth</td>\n",
       "      <td>3</td>\n",
       "      <td>Male</td>\n",
       "      <td>Hispanic/Latino</td>\n",
       "      <td>No</td>\n",
       "      <td>Not Economically Disadvantaged</td>\n",
       "      <td>Yes</td>\n",
       "      <td>Yes</td>\n",
       "      <td>LEP</td>\n",
       "      <td>...</td>\n",
       "      <td>0</td>\n",
       "      <td>No</td>\n",
       "      <td>No</td>\n",
       "      <td>0</td>\n",
       "      <td>No</td>\n",
       "      <td>Online</td>\n",
       "      <td>Yes</td>\n",
       "      <td>No</td>\n",
       "      <td>No</td>\n",
       "      <td>Accelerated</td>\n",
       "    </tr>\n",
       "  </tbody>\n",
       "</table>\n",
       "<p>5 rows × 24 columns</p>\n",
       "</div>"
      ],
      "text/plain": [
       "   Student Number Grade Level  Campus Number  Gender    EthnicityRace  \\\n",
       "0               1       Fifth              1  Female  Hispanic/Latino   \n",
       "1               2       Fifth              3  Female  Hispanic/Latino   \n",
       "2               3       Fifth              7    Male            White   \n",
       "3               4       Fifth              5  Female  Hispanic/Latino   \n",
       "4               5       Fifth              3    Male  Hispanic/Latino   \n",
       "\n",
       "  Economic Disadvantage  Economic Disadvantage Category At Risk Special Ed  \\\n",
       "0                   Yes         Eligible for Free Meals     Yes        Yes   \n",
       "1                    No  Not Economically Disadvantaged     Yes        Yes   \n",
       "2                   Yes         Eligible for Free Meals     Yes         No   \n",
       "3                    No  Not Economically Disadvantaged      No         No   \n",
       "4                    No  Not Economically Disadvantaged     Yes        Yes   \n",
       "\n",
       "                     LEP  ... Military Connected Student New To Texas  \\\n",
       "0                    LEP  ...                          0           No   \n",
       "1                    LEP  ...                          0           No   \n",
       "2  Other Non-LEP Student  ...                          0           No   \n",
       "3  Other Non-LEP Student  ...                          0           No   \n",
       "4                    LEP  ...                          0           No   \n",
       "\n",
       "  >=50.0% Remote SY 2020-21 Discipline Placement Incidents  \\\n",
       "0                       Yes                              0   \n",
       "1                        No                              0   \n",
       "2                        No                              0   \n",
       "3                        No                              0   \n",
       "4                        No                              0   \n",
       "\n",
       "   Oral Administration Test Admin Mode Approaches  Meets Masters  \\\n",
       "0                   No          Online         No     No      No   \n",
       "1                  Yes           Paper         No     No      No   \n",
       "2                   No          Online        Yes    Yes      No   \n",
       "3                   No          Online         No     No      No   \n",
       "4                   No          Online        Yes     No      No   \n",
       "\n",
       "  STAAR Progress from 2019  \n",
       "0                  Limited  \n",
       "1                  Limited  \n",
       "2              Accelerated  \n",
       "3                 Expected  \n",
       "4              Accelerated  \n",
       "\n",
       "[5 rows x 24 columns]"
      ]
     },
     "execution_count": 6,
     "metadata": {},
     "output_type": "execute_result"
    }
   ],
   "source": [
    "df = pd.read_csv('CleburneGrd5Math.csv')\n",
    "df.head()"
   ]
  },
  {
   "cell_type": "code",
   "execution_count": 7,
   "id": "9c8087a7",
   "metadata": {},
   "outputs": [
    {
     "data": {
      "text/html": [
       "<div>\n",
       "<style scoped>\n",
       "    .dataframe tbody tr th:only-of-type {\n",
       "        vertical-align: middle;\n",
       "    }\n",
       "\n",
       "    .dataframe tbody tr th {\n",
       "        vertical-align: top;\n",
       "    }\n",
       "\n",
       "    .dataframe thead th {\n",
       "        text-align: right;\n",
       "    }\n",
       "</style>\n",
       "<table border=\"1\" class=\"dataframe\">\n",
       "  <thead>\n",
       "    <tr style=\"text-align: right;\">\n",
       "      <th></th>\n",
       "      <th>Student Number</th>\n",
       "      <th>Campus Number</th>\n",
       "      <th>Military Connected Student</th>\n",
       "      <th>Discipline Placement Incidents</th>\n",
       "    </tr>\n",
       "  </thead>\n",
       "  <tbody>\n",
       "    <tr>\n",
       "      <th>count</th>\n",
       "      <td>433.000000</td>\n",
       "      <td>433.000000</td>\n",
       "      <td>433.000000</td>\n",
       "      <td>433.000000</td>\n",
       "    </tr>\n",
       "    <tr>\n",
       "      <th>mean</th>\n",
       "      <td>217.000000</td>\n",
       "      <td>4.249423</td>\n",
       "      <td>0.011547</td>\n",
       "      <td>0.120092</td>\n",
       "    </tr>\n",
       "    <tr>\n",
       "      <th>std</th>\n",
       "      <td>125.140588</td>\n",
       "      <td>1.894841</td>\n",
       "      <td>0.106960</td>\n",
       "      <td>0.499433</td>\n",
       "    </tr>\n",
       "    <tr>\n",
       "      <th>min</th>\n",
       "      <td>1.000000</td>\n",
       "      <td>1.000000</td>\n",
       "      <td>0.000000</td>\n",
       "      <td>0.000000</td>\n",
       "    </tr>\n",
       "    <tr>\n",
       "      <th>25%</th>\n",
       "      <td>109.000000</td>\n",
       "      <td>3.000000</td>\n",
       "      <td>0.000000</td>\n",
       "      <td>0.000000</td>\n",
       "    </tr>\n",
       "    <tr>\n",
       "      <th>50%</th>\n",
       "      <td>217.000000</td>\n",
       "      <td>4.000000</td>\n",
       "      <td>0.000000</td>\n",
       "      <td>0.000000</td>\n",
       "    </tr>\n",
       "    <tr>\n",
       "      <th>75%</th>\n",
       "      <td>325.000000</td>\n",
       "      <td>6.000000</td>\n",
       "      <td>0.000000</td>\n",
       "      <td>0.000000</td>\n",
       "    </tr>\n",
       "    <tr>\n",
       "      <th>max</th>\n",
       "      <td>433.000000</td>\n",
       "      <td>7.000000</td>\n",
       "      <td>1.000000</td>\n",
       "      <td>7.000000</td>\n",
       "    </tr>\n",
       "  </tbody>\n",
       "</table>\n",
       "</div>"
      ],
      "text/plain": [
       "       Student Number  Campus Number  Military Connected Student  \\\n",
       "count      433.000000     433.000000                  433.000000   \n",
       "mean       217.000000       4.249423                    0.011547   \n",
       "std        125.140588       1.894841                    0.106960   \n",
       "min          1.000000       1.000000                    0.000000   \n",
       "25%        109.000000       3.000000                    0.000000   \n",
       "50%        217.000000       4.000000                    0.000000   \n",
       "75%        325.000000       6.000000                    0.000000   \n",
       "max        433.000000       7.000000                    1.000000   \n",
       "\n",
       "       Discipline Placement Incidents  \n",
       "count                      433.000000  \n",
       "mean                         0.120092  \n",
       "std                          0.499433  \n",
       "min                          0.000000  \n",
       "25%                          0.000000  \n",
       "50%                          0.000000  \n",
       "75%                          0.000000  \n",
       "max                          7.000000  "
      ]
     },
     "execution_count": 7,
     "metadata": {},
     "output_type": "execute_result"
    }
   ],
   "source": [
    "df.describe()"
   ]
  },
  {
   "cell_type": "markdown",
   "id": "099232bc",
   "metadata": {},
   "source": [
    "It looks like the only numerical value is \"Discipline Placement Incidents\" with a maximum value of 7. "
   ]
  },
  {
   "cell_type": "code",
   "execution_count": 10,
   "id": "b971aa5c",
   "metadata": {},
   "outputs": [],
   "source": [
    "missing = pd.concat([df.isnull().sum(), 100 * df.isnull().mean()], axis=1)"
   ]
  },
  {
   "cell_type": "code",
   "execution_count": 11,
   "id": "c481845d",
   "metadata": {},
   "outputs": [
    {
     "data": {
      "text/html": [
       "<div>\n",
       "<style scoped>\n",
       "    .dataframe tbody tr th:only-of-type {\n",
       "        vertical-align: middle;\n",
       "    }\n",
       "\n",
       "    .dataframe tbody tr th {\n",
       "        vertical-align: top;\n",
       "    }\n",
       "\n",
       "    .dataframe thead th {\n",
       "        text-align: right;\n",
       "    }\n",
       "</style>\n",
       "<table border=\"1\" class=\"dataframe\">\n",
       "  <thead>\n",
       "    <tr style=\"text-align: right;\">\n",
       "      <th></th>\n",
       "      <th>0</th>\n",
       "      <th>1</th>\n",
       "    </tr>\n",
       "  </thead>\n",
       "  <tbody>\n",
       "    <tr>\n",
       "      <th>Student Number</th>\n",
       "      <td>0</td>\n",
       "      <td>0.000000</td>\n",
       "    </tr>\n",
       "    <tr>\n",
       "      <th>Grade Level</th>\n",
       "      <td>0</td>\n",
       "      <td>0.000000</td>\n",
       "    </tr>\n",
       "    <tr>\n",
       "      <th>Campus Number</th>\n",
       "      <td>0</td>\n",
       "      <td>0.000000</td>\n",
       "    </tr>\n",
       "    <tr>\n",
       "      <th>Gender</th>\n",
       "      <td>0</td>\n",
       "      <td>0.000000</td>\n",
       "    </tr>\n",
       "    <tr>\n",
       "      <th>EthnicityRace</th>\n",
       "      <td>0</td>\n",
       "      <td>0.000000</td>\n",
       "    </tr>\n",
       "    <tr>\n",
       "      <th>Economic Disadvantage</th>\n",
       "      <td>0</td>\n",
       "      <td>0.000000</td>\n",
       "    </tr>\n",
       "    <tr>\n",
       "      <th>Economic Disadvantage Category</th>\n",
       "      <td>0</td>\n",
       "      <td>0.000000</td>\n",
       "    </tr>\n",
       "    <tr>\n",
       "      <th>At Risk</th>\n",
       "      <td>0</td>\n",
       "      <td>0.000000</td>\n",
       "    </tr>\n",
       "    <tr>\n",
       "      <th>Special Ed</th>\n",
       "      <td>0</td>\n",
       "      <td>0.000000</td>\n",
       "    </tr>\n",
       "    <tr>\n",
       "      <th>LEP</th>\n",
       "      <td>0</td>\n",
       "      <td>0.000000</td>\n",
       "    </tr>\n",
       "    <tr>\n",
       "      <th>ESL</th>\n",
       "      <td>0</td>\n",
       "      <td>0.000000</td>\n",
       "    </tr>\n",
       "    <tr>\n",
       "      <th>Bilingual</th>\n",
       "      <td>0</td>\n",
       "      <td>0.000000</td>\n",
       "    </tr>\n",
       "    <tr>\n",
       "      <th>Gifted Talented</th>\n",
       "      <td>0</td>\n",
       "      <td>0.000000</td>\n",
       "    </tr>\n",
       "    <tr>\n",
       "      <th>Tested Language</th>\n",
       "      <td>0</td>\n",
       "      <td>0.000000</td>\n",
       "    </tr>\n",
       "    <tr>\n",
       "      <th>Military Connected Student</th>\n",
       "      <td>0</td>\n",
       "      <td>0.000000</td>\n",
       "    </tr>\n",
       "    <tr>\n",
       "      <th>New To Texas</th>\n",
       "      <td>0</td>\n",
       "      <td>0.000000</td>\n",
       "    </tr>\n",
       "    <tr>\n",
       "      <th>&gt;=50.0% Remote SY 2020-21</th>\n",
       "      <td>0</td>\n",
       "      <td>0.000000</td>\n",
       "    </tr>\n",
       "    <tr>\n",
       "      <th>Discipline Placement Incidents</th>\n",
       "      <td>0</td>\n",
       "      <td>0.000000</td>\n",
       "    </tr>\n",
       "    <tr>\n",
       "      <th>Oral Administration</th>\n",
       "      <td>0</td>\n",
       "      <td>0.000000</td>\n",
       "    </tr>\n",
       "    <tr>\n",
       "      <th>Test Admin Mode</th>\n",
       "      <td>0</td>\n",
       "      <td>0.000000</td>\n",
       "    </tr>\n",
       "    <tr>\n",
       "      <th>Approaches</th>\n",
       "      <td>0</td>\n",
       "      <td>0.000000</td>\n",
       "    </tr>\n",
       "    <tr>\n",
       "      <th>Meets</th>\n",
       "      <td>0</td>\n",
       "      <td>0.000000</td>\n",
       "    </tr>\n",
       "    <tr>\n",
       "      <th>Masters</th>\n",
       "      <td>0</td>\n",
       "      <td>0.000000</td>\n",
       "    </tr>\n",
       "    <tr>\n",
       "      <th>STAAR Progress from 2019</th>\n",
       "      <td>10</td>\n",
       "      <td>2.309469</td>\n",
       "    </tr>\n",
       "  </tbody>\n",
       "</table>\n",
       "</div>"
      ],
      "text/plain": [
       "                                 0         1\n",
       "Student Number                   0  0.000000\n",
       "Grade Level                      0  0.000000\n",
       "Campus Number                    0  0.000000\n",
       "Gender                           0  0.000000\n",
       "EthnicityRace                    0  0.000000\n",
       "Economic Disadvantage            0  0.000000\n",
       "Economic Disadvantage Category   0  0.000000\n",
       "At Risk                          0  0.000000\n",
       "Special Ed                       0  0.000000\n",
       "LEP                              0  0.000000\n",
       "ESL                              0  0.000000\n",
       "Bilingual                        0  0.000000\n",
       "Gifted Talented                  0  0.000000\n",
       "Tested Language                  0  0.000000\n",
       "Military Connected Student       0  0.000000\n",
       "New To Texas                     0  0.000000\n",
       ">=50.0% Remote SY 2020-21        0  0.000000\n",
       "Discipline Placement Incidents   0  0.000000\n",
       "Oral Administration              0  0.000000\n",
       "Test Admin Mode                  0  0.000000\n",
       "Approaches                       0  0.000000\n",
       "Meets                            0  0.000000\n",
       "Masters                          0  0.000000\n",
       "STAAR Progress from 2019        10  2.309469"
      ]
     },
     "execution_count": 11,
     "metadata": {},
     "output_type": "execute_result"
    }
   ],
   "source": [
    "missing"
   ]
  },
  {
   "cell_type": "markdown",
   "id": "4059aad4",
   "metadata": {},
   "source": [
    "It appears there is very little missing data here. I'll take a closer look at STAAR Progress from 2019"
   ]
  },
  {
   "cell_type": "code",
   "execution_count": 14,
   "id": "b59e0f3d",
   "metadata": {},
   "outputs": [],
   "source": [
    "missing_prog = df[df['STAAR Progress from 2019'].isnull()]"
   ]
  },
  {
   "cell_type": "code",
   "execution_count": 17,
   "id": "53674892",
   "metadata": {},
   "outputs": [
    {
     "data": {
      "text/html": [
       "<div>\n",
       "<style scoped>\n",
       "    .dataframe tbody tr th:only-of-type {\n",
       "        vertical-align: middle;\n",
       "    }\n",
       "\n",
       "    .dataframe tbody tr th {\n",
       "        vertical-align: top;\n",
       "    }\n",
       "\n",
       "    .dataframe thead th {\n",
       "        text-align: right;\n",
       "    }\n",
       "</style>\n",
       "<table border=\"1\" class=\"dataframe\">\n",
       "  <thead>\n",
       "    <tr style=\"text-align: right;\">\n",
       "      <th></th>\n",
       "      <th>Student Number</th>\n",
       "      <th>Grade Level</th>\n",
       "      <th>Campus Number</th>\n",
       "      <th>Gender</th>\n",
       "      <th>EthnicityRace</th>\n",
       "      <th>Economic Disadvantage</th>\n",
       "      <th>Economic Disadvantage Category</th>\n",
       "      <th>At Risk</th>\n",
       "      <th>Special Ed</th>\n",
       "      <th>LEP</th>\n",
       "    </tr>\n",
       "  </thead>\n",
       "  <tbody>\n",
       "    <tr>\n",
       "      <th>10</th>\n",
       "      <td>11</td>\n",
       "      <td>Fifth</td>\n",
       "      <td>3</td>\n",
       "      <td>Female</td>\n",
       "      <td>Hispanic/Latino</td>\n",
       "      <td>Yes</td>\n",
       "      <td>Eligible for Free Meals</td>\n",
       "      <td>Yes</td>\n",
       "      <td>No</td>\n",
       "      <td>Other Non-LEP Student</td>\n",
       "    </tr>\n",
       "    <tr>\n",
       "      <th>70</th>\n",
       "      <td>71</td>\n",
       "      <td>Fifth</td>\n",
       "      <td>3</td>\n",
       "      <td>Male</td>\n",
       "      <td>Native Hawaiian/Pacific Islander</td>\n",
       "      <td>No</td>\n",
       "      <td>Not Economically Disadvantaged</td>\n",
       "      <td>Yes</td>\n",
       "      <td>No</td>\n",
       "      <td>LEP</td>\n",
       "    </tr>\n",
       "    <tr>\n",
       "      <th>248</th>\n",
       "      <td>249</td>\n",
       "      <td>Fifth</td>\n",
       "      <td>2</td>\n",
       "      <td>Female</td>\n",
       "      <td>White</td>\n",
       "      <td>Yes</td>\n",
       "      <td>Eligible for Free Meals</td>\n",
       "      <td>Yes</td>\n",
       "      <td>No</td>\n",
       "      <td>Other Non-LEP Student</td>\n",
       "    </tr>\n",
       "    <tr>\n",
       "      <th>282</th>\n",
       "      <td>283</td>\n",
       "      <td>Fifth</td>\n",
       "      <td>4</td>\n",
       "      <td>Male</td>\n",
       "      <td>Two or More</td>\n",
       "      <td>No</td>\n",
       "      <td>Not Economically Disadvantaged</td>\n",
       "      <td>No</td>\n",
       "      <td>No</td>\n",
       "      <td>Other Non-LEP Student</td>\n",
       "    </tr>\n",
       "    <tr>\n",
       "      <th>400</th>\n",
       "      <td>401</td>\n",
       "      <td>Fifth</td>\n",
       "      <td>5</td>\n",
       "      <td>Female</td>\n",
       "      <td>White</td>\n",
       "      <td>No</td>\n",
       "      <td>Not Economically Disadvantaged</td>\n",
       "      <td>No</td>\n",
       "      <td>Yes</td>\n",
       "      <td>Other Non-LEP Student</td>\n",
       "    </tr>\n",
       "    <tr>\n",
       "      <th>406</th>\n",
       "      <td>407</td>\n",
       "      <td>Fifth</td>\n",
       "      <td>2</td>\n",
       "      <td>Male</td>\n",
       "      <td>Hispanic/Latino</td>\n",
       "      <td>No</td>\n",
       "      <td>Not Economically Disadvantaged</td>\n",
       "      <td>No</td>\n",
       "      <td>Yes</td>\n",
       "      <td>Other Non-LEP Student</td>\n",
       "    </tr>\n",
       "    <tr>\n",
       "      <th>412</th>\n",
       "      <td>413</td>\n",
       "      <td>Fifth</td>\n",
       "      <td>7</td>\n",
       "      <td>Female</td>\n",
       "      <td>White</td>\n",
       "      <td>Yes</td>\n",
       "      <td>Eligible for Free Meals</td>\n",
       "      <td>No</td>\n",
       "      <td>No</td>\n",
       "      <td>Other Non-LEP Student</td>\n",
       "    </tr>\n",
       "    <tr>\n",
       "      <th>420</th>\n",
       "      <td>421</td>\n",
       "      <td>Fifth</td>\n",
       "      <td>1</td>\n",
       "      <td>Male</td>\n",
       "      <td>White</td>\n",
       "      <td>No</td>\n",
       "      <td>Not Economically Disadvantaged</td>\n",
       "      <td>No</td>\n",
       "      <td>Yes</td>\n",
       "      <td>Other Non-LEP Student</td>\n",
       "    </tr>\n",
       "    <tr>\n",
       "      <th>422</th>\n",
       "      <td>423</td>\n",
       "      <td>Fifth</td>\n",
       "      <td>2</td>\n",
       "      <td>Female</td>\n",
       "      <td>American Indian or Alaskan Native</td>\n",
       "      <td>Yes</td>\n",
       "      <td>Eligible for Free Meals</td>\n",
       "      <td>Yes</td>\n",
       "      <td>Yes</td>\n",
       "      <td>Other Non-LEP Student</td>\n",
       "    </tr>\n",
       "    <tr>\n",
       "      <th>430</th>\n",
       "      <td>431</td>\n",
       "      <td>Fifth</td>\n",
       "      <td>7</td>\n",
       "      <td>Female</td>\n",
       "      <td>White</td>\n",
       "      <td>No</td>\n",
       "      <td>Not Economically Disadvantaged</td>\n",
       "      <td>Yes</td>\n",
       "      <td>Yes</td>\n",
       "      <td>Other Non-LEP Student</td>\n",
       "    </tr>\n",
       "  </tbody>\n",
       "</table>\n",
       "</div>"
      ],
      "text/plain": [
       "     Student Number Grade Level  Campus Number  Gender  \\\n",
       "10               11       Fifth              3  Female   \n",
       "70               71       Fifth              3    Male   \n",
       "248             249       Fifth              2  Female   \n",
       "282             283       Fifth              4    Male   \n",
       "400             401       Fifth              5  Female   \n",
       "406             407       Fifth              2    Male   \n",
       "412             413       Fifth              7  Female   \n",
       "420             421       Fifth              1    Male   \n",
       "422             423       Fifth              2  Female   \n",
       "430             431       Fifth              7  Female   \n",
       "\n",
       "                         EthnicityRace Economic Disadvantage  \\\n",
       "10                     Hispanic/Latino                   Yes   \n",
       "70    Native Hawaiian/Pacific Islander                    No   \n",
       "248                              White                   Yes   \n",
       "282                        Two or More                    No   \n",
       "400                              White                    No   \n",
       "406                    Hispanic/Latino                    No   \n",
       "412                              White                   Yes   \n",
       "420                              White                    No   \n",
       "422  American Indian or Alaskan Native                   Yes   \n",
       "430                              White                    No   \n",
       "\n",
       "     Economic Disadvantage Category At Risk Special Ed                    LEP  \n",
       "10          Eligible for Free Meals     Yes         No  Other Non-LEP Student  \n",
       "70   Not Economically Disadvantaged     Yes         No                    LEP  \n",
       "248         Eligible for Free Meals     Yes         No  Other Non-LEP Student  \n",
       "282  Not Economically Disadvantaged      No         No  Other Non-LEP Student  \n",
       "400  Not Economically Disadvantaged      No        Yes  Other Non-LEP Student  \n",
       "406  Not Economically Disadvantaged      No        Yes  Other Non-LEP Student  \n",
       "412         Eligible for Free Meals      No         No  Other Non-LEP Student  \n",
       "420  Not Economically Disadvantaged      No        Yes  Other Non-LEP Student  \n",
       "422         Eligible for Free Meals     Yes        Yes  Other Non-LEP Student  \n",
       "430  Not Economically Disadvantaged     Yes        Yes  Other Non-LEP Student  "
      ]
     },
     "execution_count": 17,
     "metadata": {},
     "output_type": "execute_result"
    }
   ],
   "source": [
    "missing_prog.iloc[:, :10]"
   ]
  },
  {
   "cell_type": "code",
   "execution_count": 18,
   "id": "5ecc6d87",
   "metadata": {},
   "outputs": [
    {
     "data": {
      "text/html": [
       "<div>\n",
       "<style scoped>\n",
       "    .dataframe tbody tr th:only-of-type {\n",
       "        vertical-align: middle;\n",
       "    }\n",
       "\n",
       "    .dataframe tbody tr th {\n",
       "        vertical-align: top;\n",
       "    }\n",
       "\n",
       "    .dataframe thead th {\n",
       "        text-align: right;\n",
       "    }\n",
       "</style>\n",
       "<table border=\"1\" class=\"dataframe\">\n",
       "  <thead>\n",
       "    <tr style=\"text-align: right;\">\n",
       "      <th></th>\n",
       "      <th>ESL</th>\n",
       "      <th>Bilingual</th>\n",
       "      <th>Gifted Talented</th>\n",
       "      <th>Tested Language</th>\n",
       "      <th>Military Connected Student</th>\n",
       "      <th>New To Texas</th>\n",
       "      <th>&gt;=50.0% Remote SY 2020-21</th>\n",
       "      <th>Discipline Placement Incidents</th>\n",
       "      <th>Oral Administration</th>\n",
       "      <th>Test Admin Mode</th>\n",
       "      <th>Approaches</th>\n",
       "      <th>Meets</th>\n",
       "      <th>Masters</th>\n",
       "      <th>STAAR Progress from 2019</th>\n",
       "    </tr>\n",
       "  </thead>\n",
       "  <tbody>\n",
       "    <tr>\n",
       "      <th>10</th>\n",
       "      <td>No</td>\n",
       "      <td>No</td>\n",
       "      <td>No</td>\n",
       "      <td>E</td>\n",
       "      <td>0</td>\n",
       "      <td>No</td>\n",
       "      <td>Yes</td>\n",
       "      <td>0</td>\n",
       "      <td>No</td>\n",
       "      <td>Online</td>\n",
       "      <td>Yes</td>\n",
       "      <td>No</td>\n",
       "      <td>No</td>\n",
       "      <td>NaN</td>\n",
       "    </tr>\n",
       "    <tr>\n",
       "      <th>70</th>\n",
       "      <td>No</td>\n",
       "      <td>No</td>\n",
       "      <td>No</td>\n",
       "      <td>E</td>\n",
       "      <td>0</td>\n",
       "      <td>No</td>\n",
       "      <td>No</td>\n",
       "      <td>0</td>\n",
       "      <td>No</td>\n",
       "      <td>Online</td>\n",
       "      <td>No</td>\n",
       "      <td>No</td>\n",
       "      <td>No</td>\n",
       "      <td>NaN</td>\n",
       "    </tr>\n",
       "    <tr>\n",
       "      <th>248</th>\n",
       "      <td>No</td>\n",
       "      <td>No</td>\n",
       "      <td>No</td>\n",
       "      <td>E</td>\n",
       "      <td>0</td>\n",
       "      <td>No</td>\n",
       "      <td>Yes</td>\n",
       "      <td>0</td>\n",
       "      <td>No</td>\n",
       "      <td>Online</td>\n",
       "      <td>Yes</td>\n",
       "      <td>No</td>\n",
       "      <td>No</td>\n",
       "      <td>NaN</td>\n",
       "    </tr>\n",
       "    <tr>\n",
       "      <th>282</th>\n",
       "      <td>No</td>\n",
       "      <td>No</td>\n",
       "      <td>No</td>\n",
       "      <td>E</td>\n",
       "      <td>0</td>\n",
       "      <td>No</td>\n",
       "      <td>No</td>\n",
       "      <td>0</td>\n",
       "      <td>No</td>\n",
       "      <td>Online</td>\n",
       "      <td>Yes</td>\n",
       "      <td>No</td>\n",
       "      <td>No</td>\n",
       "      <td>NaN</td>\n",
       "    </tr>\n",
       "    <tr>\n",
       "      <th>400</th>\n",
       "      <td>No</td>\n",
       "      <td>No</td>\n",
       "      <td>No</td>\n",
       "      <td>E</td>\n",
       "      <td>0</td>\n",
       "      <td>No</td>\n",
       "      <td>No</td>\n",
       "      <td>0</td>\n",
       "      <td>No</td>\n",
       "      <td>Online</td>\n",
       "      <td>Yes</td>\n",
       "      <td>Yes</td>\n",
       "      <td>No</td>\n",
       "      <td>NaN</td>\n",
       "    </tr>\n",
       "    <tr>\n",
       "      <th>406</th>\n",
       "      <td>No</td>\n",
       "      <td>No</td>\n",
       "      <td>No</td>\n",
       "      <td>E</td>\n",
       "      <td>0</td>\n",
       "      <td>No</td>\n",
       "      <td>No</td>\n",
       "      <td>0</td>\n",
       "      <td>No</td>\n",
       "      <td>Online</td>\n",
       "      <td>No</td>\n",
       "      <td>No</td>\n",
       "      <td>No</td>\n",
       "      <td>NaN</td>\n",
       "    </tr>\n",
       "    <tr>\n",
       "      <th>412</th>\n",
       "      <td>No</td>\n",
       "      <td>No</td>\n",
       "      <td>No</td>\n",
       "      <td>E</td>\n",
       "      <td>0</td>\n",
       "      <td>No</td>\n",
       "      <td>Yes</td>\n",
       "      <td>0</td>\n",
       "      <td>No</td>\n",
       "      <td>Online</td>\n",
       "      <td>No</td>\n",
       "      <td>No</td>\n",
       "      <td>No</td>\n",
       "      <td>NaN</td>\n",
       "    </tr>\n",
       "    <tr>\n",
       "      <th>420</th>\n",
       "      <td>No</td>\n",
       "      <td>No</td>\n",
       "      <td>No</td>\n",
       "      <td>E</td>\n",
       "      <td>0</td>\n",
       "      <td>No</td>\n",
       "      <td>No</td>\n",
       "      <td>0</td>\n",
       "      <td>No</td>\n",
       "      <td>Online</td>\n",
       "      <td>Yes</td>\n",
       "      <td>Yes</td>\n",
       "      <td>No</td>\n",
       "      <td>NaN</td>\n",
       "    </tr>\n",
       "    <tr>\n",
       "      <th>422</th>\n",
       "      <td>No</td>\n",
       "      <td>No</td>\n",
       "      <td>No</td>\n",
       "      <td>E</td>\n",
       "      <td>0</td>\n",
       "      <td>No</td>\n",
       "      <td>No</td>\n",
       "      <td>0</td>\n",
       "      <td>No</td>\n",
       "      <td>Online</td>\n",
       "      <td>No</td>\n",
       "      <td>No</td>\n",
       "      <td>No</td>\n",
       "      <td>NaN</td>\n",
       "    </tr>\n",
       "    <tr>\n",
       "      <th>430</th>\n",
       "      <td>No</td>\n",
       "      <td>No</td>\n",
       "      <td>No</td>\n",
       "      <td>E</td>\n",
       "      <td>0</td>\n",
       "      <td>Yes</td>\n",
       "      <td>No</td>\n",
       "      <td>0</td>\n",
       "      <td>No</td>\n",
       "      <td>Online</td>\n",
       "      <td>Yes</td>\n",
       "      <td>No</td>\n",
       "      <td>No</td>\n",
       "      <td>NaN</td>\n",
       "    </tr>\n",
       "  </tbody>\n",
       "</table>\n",
       "</div>"
      ],
      "text/plain": [
       "    ESL Bilingual Gifted Talented Tested Language  Military Connected Student  \\\n",
       "10   No        No              No               E                           0   \n",
       "70   No        No              No               E                           0   \n",
       "248  No        No              No               E                           0   \n",
       "282  No        No              No               E                           0   \n",
       "400  No        No              No               E                           0   \n",
       "406  No        No              No               E                           0   \n",
       "412  No        No              No               E                           0   \n",
       "420  No        No              No               E                           0   \n",
       "422  No        No              No               E                           0   \n",
       "430  No        No              No               E                           0   \n",
       "\n",
       "    New To Texas >=50.0% Remote SY 2020-21  Discipline Placement Incidents  \\\n",
       "10            No                       Yes                               0   \n",
       "70            No                        No                               0   \n",
       "248           No                       Yes                               0   \n",
       "282           No                        No                               0   \n",
       "400           No                        No                               0   \n",
       "406           No                        No                               0   \n",
       "412           No                       Yes                               0   \n",
       "420           No                        No                               0   \n",
       "422           No                        No                               0   \n",
       "430          Yes                        No                               0   \n",
       "\n",
       "    Oral Administration Test Admin Mode Approaches Meets Masters  \\\n",
       "10                   No          Online        Yes    No      No   \n",
       "70                   No          Online         No    No      No   \n",
       "248                  No          Online        Yes    No      No   \n",
       "282                  No          Online        Yes    No      No   \n",
       "400                  No          Online        Yes   Yes      No   \n",
       "406                  No          Online         No    No      No   \n",
       "412                  No          Online         No    No      No   \n",
       "420                  No          Online        Yes   Yes      No   \n",
       "422                  No          Online         No    No      No   \n",
       "430                  No          Online        Yes    No      No   \n",
       "\n",
       "    STAAR Progress from 2019  \n",
       "10                       NaN  \n",
       "70                       NaN  \n",
       "248                      NaN  \n",
       "282                      NaN  \n",
       "400                      NaN  \n",
       "406                      NaN  \n",
       "412                      NaN  \n",
       "420                      NaN  \n",
       "422                      NaN  \n",
       "430                      NaN  "
      ]
     },
     "execution_count": 18,
     "metadata": {},
     "output_type": "execute_result"
    }
   ],
   "source": [
    "missing_prog.iloc[:, 10:]"
   ]
  },
  {
   "cell_type": "markdown",
   "id": "12ec05ed",
   "metadata": {},
   "source": [
    "There doesn't seem to be any common factor connecting students with missing STAAR progress. I had a hunch that maybe they were all new to Texas. Seeing as they represent only 2.3% of the data I'm inclined to just drop them, but since I have such a small dataset to begin with I'm hesitant. I'll drop them for now, but make a note to contact the campus about why these scores would be missing. "
   ]
  },
  {
   "cell_type": "code",
   "execution_count": 22,
   "id": "d113f4d9",
   "metadata": {},
   "outputs": [],
   "source": [
    "df = df[~df['STAAR Progress from 2019'].isnull()]"
   ]
  },
  {
   "cell_type": "code",
   "execution_count": 23,
   "id": "cf905dd3",
   "metadata": {},
   "outputs": [
    {
     "data": {
      "text/html": [
       "<div>\n",
       "<style scoped>\n",
       "    .dataframe tbody tr th:only-of-type {\n",
       "        vertical-align: middle;\n",
       "    }\n",
       "\n",
       "    .dataframe tbody tr th {\n",
       "        vertical-align: top;\n",
       "    }\n",
       "\n",
       "    .dataframe thead th {\n",
       "        text-align: right;\n",
       "    }\n",
       "</style>\n",
       "<table border=\"1\" class=\"dataframe\">\n",
       "  <thead>\n",
       "    <tr style=\"text-align: right;\">\n",
       "      <th></th>\n",
       "      <th>0</th>\n",
       "      <th>1</th>\n",
       "    </tr>\n",
       "  </thead>\n",
       "  <tbody>\n",
       "    <tr>\n",
       "      <th>Student Number</th>\n",
       "      <td>0</td>\n",
       "      <td>0.0</td>\n",
       "    </tr>\n",
       "    <tr>\n",
       "      <th>Grade Level</th>\n",
       "      <td>0</td>\n",
       "      <td>0.0</td>\n",
       "    </tr>\n",
       "    <tr>\n",
       "      <th>Campus Number</th>\n",
       "      <td>0</td>\n",
       "      <td>0.0</td>\n",
       "    </tr>\n",
       "    <tr>\n",
       "      <th>Gender</th>\n",
       "      <td>0</td>\n",
       "      <td>0.0</td>\n",
       "    </tr>\n",
       "    <tr>\n",
       "      <th>EthnicityRace</th>\n",
       "      <td>0</td>\n",
       "      <td>0.0</td>\n",
       "    </tr>\n",
       "    <tr>\n",
       "      <th>Economic Disadvantage</th>\n",
       "      <td>0</td>\n",
       "      <td>0.0</td>\n",
       "    </tr>\n",
       "    <tr>\n",
       "      <th>Economic Disadvantage Category</th>\n",
       "      <td>0</td>\n",
       "      <td>0.0</td>\n",
       "    </tr>\n",
       "    <tr>\n",
       "      <th>At Risk</th>\n",
       "      <td>0</td>\n",
       "      <td>0.0</td>\n",
       "    </tr>\n",
       "    <tr>\n",
       "      <th>Special Ed</th>\n",
       "      <td>0</td>\n",
       "      <td>0.0</td>\n",
       "    </tr>\n",
       "    <tr>\n",
       "      <th>LEP</th>\n",
       "      <td>0</td>\n",
       "      <td>0.0</td>\n",
       "    </tr>\n",
       "    <tr>\n",
       "      <th>ESL</th>\n",
       "      <td>0</td>\n",
       "      <td>0.0</td>\n",
       "    </tr>\n",
       "    <tr>\n",
       "      <th>Bilingual</th>\n",
       "      <td>0</td>\n",
       "      <td>0.0</td>\n",
       "    </tr>\n",
       "    <tr>\n",
       "      <th>Gifted Talented</th>\n",
       "      <td>0</td>\n",
       "      <td>0.0</td>\n",
       "    </tr>\n",
       "    <tr>\n",
       "      <th>Tested Language</th>\n",
       "      <td>0</td>\n",
       "      <td>0.0</td>\n",
       "    </tr>\n",
       "    <tr>\n",
       "      <th>Military Connected Student</th>\n",
       "      <td>0</td>\n",
       "      <td>0.0</td>\n",
       "    </tr>\n",
       "    <tr>\n",
       "      <th>New To Texas</th>\n",
       "      <td>0</td>\n",
       "      <td>0.0</td>\n",
       "    </tr>\n",
       "    <tr>\n",
       "      <th>&gt;=50.0% Remote SY 2020-21</th>\n",
       "      <td>0</td>\n",
       "      <td>0.0</td>\n",
       "    </tr>\n",
       "    <tr>\n",
       "      <th>Discipline Placement Incidents</th>\n",
       "      <td>0</td>\n",
       "      <td>0.0</td>\n",
       "    </tr>\n",
       "    <tr>\n",
       "      <th>Oral Administration</th>\n",
       "      <td>0</td>\n",
       "      <td>0.0</td>\n",
       "    </tr>\n",
       "    <tr>\n",
       "      <th>Test Admin Mode</th>\n",
       "      <td>0</td>\n",
       "      <td>0.0</td>\n",
       "    </tr>\n",
       "    <tr>\n",
       "      <th>Approaches</th>\n",
       "      <td>0</td>\n",
       "      <td>0.0</td>\n",
       "    </tr>\n",
       "    <tr>\n",
       "      <th>Meets</th>\n",
       "      <td>0</td>\n",
       "      <td>0.0</td>\n",
       "    </tr>\n",
       "    <tr>\n",
       "      <th>Masters</th>\n",
       "      <td>0</td>\n",
       "      <td>0.0</td>\n",
       "    </tr>\n",
       "    <tr>\n",
       "      <th>STAAR Progress from 2019</th>\n",
       "      <td>0</td>\n",
       "      <td>0.0</td>\n",
       "    </tr>\n",
       "  </tbody>\n",
       "</table>\n",
       "</div>"
      ],
      "text/plain": [
       "                                0    1\n",
       "Student Number                  0  0.0\n",
       "Grade Level                     0  0.0\n",
       "Campus Number                   0  0.0\n",
       "Gender                          0  0.0\n",
       "EthnicityRace                   0  0.0\n",
       "Economic Disadvantage           0  0.0\n",
       "Economic Disadvantage Category  0  0.0\n",
       "At Risk                         0  0.0\n",
       "Special Ed                      0  0.0\n",
       "LEP                             0  0.0\n",
       "ESL                             0  0.0\n",
       "Bilingual                       0  0.0\n",
       "Gifted Talented                 0  0.0\n",
       "Tested Language                 0  0.0\n",
       "Military Connected Student      0  0.0\n",
       "New To Texas                    0  0.0\n",
       ">=50.0% Remote SY 2020-21       0  0.0\n",
       "Discipline Placement Incidents  0  0.0\n",
       "Oral Administration             0  0.0\n",
       "Test Admin Mode                 0  0.0\n",
       "Approaches                      0  0.0\n",
       "Meets                           0  0.0\n",
       "Masters                         0  0.0\n",
       "STAAR Progress from 2019        0  0.0"
      ]
     },
     "execution_count": 23,
     "metadata": {},
     "output_type": "execute_result"
    }
   ],
   "source": [
    "missing = pd.concat([df.isnull().sum(), 100 * df.isnull().mean()], axis=1)\n",
    "missing"
   ]
  },
  {
   "cell_type": "code",
   "execution_count": 24,
   "id": "8ec2bc40",
   "metadata": {},
   "outputs": [
    {
     "data": {
      "text/plain": [
       "Fifth    423\n",
       "Name: Grade Level, dtype: int64"
      ]
     },
     "execution_count": 24,
     "metadata": {},
     "output_type": "execute_result"
    }
   ],
   "source": [
    "#Making sure all students really are fifth grade\n",
    "df['Grade Level'].value_counts()"
   ]
  },
  {
   "cell_type": "code",
   "execution_count": 25,
   "id": "a6fe55e3",
   "metadata": {},
   "outputs": [
    {
     "data": {
      "text/plain": [
       "6    78\n",
       "5    70\n",
       "4    68\n",
       "3    58\n",
       "7    57\n",
       "2    49\n",
       "1    43\n",
       "Name: Campus Number, dtype: int64"
      ]
     },
     "execution_count": 25,
     "metadata": {},
     "output_type": "execute_result"
    }
   ],
   "source": [
    "#Making sure the proportions on each campus make sense\n",
    "df['Campus Number'].value_counts()"
   ]
  },
  {
   "cell_type": "code",
   "execution_count": 26,
   "id": "88c164a8",
   "metadata": {},
   "outputs": [
    {
     "data": {
      "text/plain": [
       "Female    215\n",
       "Male      208\n",
       "Name: Gender, dtype: int64"
      ]
     },
     "execution_count": 26,
     "metadata": {},
     "output_type": "execute_result"
    }
   ],
   "source": [
    "#Making sure gender is roughly equal. \n",
    "df['Gender'].value_counts()"
   ]
  },
  {
   "cell_type": "code",
   "execution_count": 27,
   "id": "c587a864",
   "metadata": {},
   "outputs": [
    {
     "data": {
      "text/plain": [
       "White                                204\n",
       "Hispanic/Latino                      179\n",
       "Native Hawaiian/Pacific Islander      13\n",
       "African American                      12\n",
       "Two or More                           11\n",
       "American Indian or Alaskan Native      2\n",
       "Asian                                  2\n",
       "Name: EthnicityRace, dtype: int64"
      ]
     },
     "execution_count": 27,
     "metadata": {},
     "output_type": "execute_result"
    }
   ],
   "source": [
    "#Sanity Check for all other feature\n",
    "df['EthnicityRace'].value_counts()"
   ]
  },
  {
   "cell_type": "code",
   "execution_count": 28,
   "id": "646b1cee",
   "metadata": {},
   "outputs": [
    {
     "data": {
      "text/plain": [
       "Yes    279\n",
       "No     144\n",
       "Name: Economic Disadvantage, dtype: int64"
      ]
     },
     "execution_count": 28,
     "metadata": {},
     "output_type": "execute_result"
    }
   ],
   "source": [
    "df['Economic Disadvantage'].value_counts()"
   ]
  },
  {
   "cell_type": "code",
   "execution_count": 29,
   "id": "289324e5",
   "metadata": {},
   "outputs": [
    {
     "data": {
      "text/plain": [
       "No     215\n",
       "Yes    208\n",
       "Name: At Risk, dtype: int64"
      ]
     },
     "execution_count": 29,
     "metadata": {},
     "output_type": "execute_result"
    }
   ],
   "source": [
    "df['At Risk'].value_counts()"
   ]
  },
  {
   "cell_type": "code",
   "execution_count": 30,
   "id": "9666bf39",
   "metadata": {},
   "outputs": [
    {
     "data": {
      "text/plain": [
       "Eligible for Free Meals             236\n",
       "Not Economically Disadvantaged      144\n",
       "Eligible for Reduced-Price Meals     23\n",
       "Other Economic Disadvantages         20\n",
       "Name: Economic Disadvantage Category, dtype: int64"
      ]
     },
     "execution_count": 30,
     "metadata": {},
     "output_type": "execute_result"
    }
   ],
   "source": [
    "df['Economic Disadvantage Category'].value_counts()"
   ]
  },
  {
   "cell_type": "code",
   "execution_count": 31,
   "id": "c6c8b3eb",
   "metadata": {},
   "outputs": [
    {
     "data": {
      "text/plain": [
       "No     372\n",
       "Yes     51\n",
       "Name: Special Ed, dtype: int64"
      ]
     },
     "execution_count": 31,
     "metadata": {},
     "output_type": "execute_result"
    }
   ],
   "source": [
    "df['Special Ed'].value_counts()"
   ]
  },
  {
   "cell_type": "code",
   "execution_count": 32,
   "id": "df4c4706",
   "metadata": {},
   "outputs": [
    {
     "data": {
      "text/plain": [
       "Other Non-LEP Student           303\n",
       "LEP                             115\n",
       "Third Year of Monitoring          3\n",
       "First Year of Monitoring          1\n",
       "Completed 4 Years Monitoring      1\n",
       "Name: LEP, dtype: int64"
      ]
     },
     "execution_count": 32,
     "metadata": {},
     "output_type": "execute_result"
    }
   ],
   "source": [
    "df['LEP'].value_counts()"
   ]
  },
  {
   "cell_type": "markdown",
   "id": "436b5963",
   "metadata": {},
   "source": [
    "I'm making a note here to find out the hiearchal nature of these LEP categories. Specifically how do the years of monitoring relate to General LEP. Since the numbers are so small I'll just switch the other categories to regular LEP for now. "
   ]
  },
  {
   "cell_type": "code",
   "execution_count": 40,
   "id": "de49db08",
   "metadata": {},
   "outputs": [
    {
     "data": {
      "text/plain": [
       "Other Non-LEP Student    303\n",
       "LEP                      120\n",
       "Name: LEP, dtype: int64"
      ]
     },
     "execution_count": 40,
     "metadata": {},
     "output_type": "execute_result"
    }
   ],
   "source": [
    "df[\"LEP\"].replace(['Third Year of Monitoring', 'First Year of Monitoring', 'Completed 4 Years Monitoring'], 'LEP', inplace=True)\n",
    "df['LEP'].value_counts()"
   ]
  },
  {
   "cell_type": "code",
   "execution_count": 41,
   "id": "ed9d0e79",
   "metadata": {},
   "outputs": [
    {
     "data": {
      "text/plain": [
       "No                   390\n",
       "ESL/content-based     33\n",
       "Name: ESL, dtype: int64"
      ]
     },
     "execution_count": 41,
     "metadata": {},
     "output_type": "execute_result"
    }
   ],
   "source": [
    "df['ESL'].value_counts()"
   ]
  },
  {
   "cell_type": "code",
   "execution_count": 42,
   "id": "9dd4c86c",
   "metadata": {},
   "outputs": [
    {
     "data": {
      "text/plain": [
       "No                                 353\n",
       "Dual language immersion/one-way     70\n",
       "Name: Bilingual, dtype: int64"
      ]
     },
     "execution_count": 42,
     "metadata": {},
     "output_type": "execute_result"
    }
   ],
   "source": [
    "df['Bilingual'].value_counts()"
   ]
  },
  {
   "cell_type": "code",
   "execution_count": 43,
   "id": "f2944a04",
   "metadata": {},
   "outputs": [
    {
     "data": {
      "text/plain": [
       "No     382\n",
       "Yes     41\n",
       "Name: Gifted Talented, dtype: int64"
      ]
     },
     "execution_count": 43,
     "metadata": {},
     "output_type": "execute_result"
    }
   ],
   "source": [
    "df['Gifted Talented'].value_counts()"
   ]
  },
  {
   "cell_type": "code",
   "execution_count": 44,
   "id": "b9cf598f",
   "metadata": {},
   "outputs": [
    {
     "data": {
      "text/plain": [
       "E    420\n",
       "S      3\n",
       "Name: Tested Language, dtype: int64"
      ]
     },
     "execution_count": 44,
     "metadata": {},
     "output_type": "execute_result"
    }
   ],
   "source": [
    "df['Tested Language'].value_counts()"
   ]
  },
  {
   "cell_type": "markdown",
   "id": "310f99e4",
   "metadata": {},
   "source": [
    "The proportions here may be too small to be useful. "
   ]
  },
  {
   "cell_type": "code",
   "execution_count": 45,
   "id": "e58c9783",
   "metadata": {},
   "outputs": [
    {
     "data": {
      "text/plain": [
       "0    418\n",
       "1      5\n",
       "Name: Military Connected Student, dtype: int64"
      ]
     },
     "execution_count": 45,
     "metadata": {},
     "output_type": "execute_result"
    }
   ],
   "source": [
    "df['Military Connected Student'].value_counts()"
   ]
  },
  {
   "cell_type": "code",
   "execution_count": 46,
   "id": "dade6f93",
   "metadata": {},
   "outputs": [
    {
     "data": {
      "text/plain": [
       "No    423\n",
       "Name: New To Texas, dtype: int64"
      ]
     },
     "execution_count": 46,
     "metadata": {},
     "output_type": "execute_result"
    }
   ],
   "source": [
    "df['New To Texas'].value_counts()"
   ]
  },
  {
   "cell_type": "code",
   "execution_count": 47,
   "id": "5d1cb6d0",
   "metadata": {},
   "outputs": [
    {
     "data": {
      "text/html": [
       "<div>\n",
       "<style scoped>\n",
       "    .dataframe tbody tr th:only-of-type {\n",
       "        vertical-align: middle;\n",
       "    }\n",
       "\n",
       "    .dataframe tbody tr th {\n",
       "        vertical-align: top;\n",
       "    }\n",
       "\n",
       "    .dataframe thead th {\n",
       "        text-align: right;\n",
       "    }\n",
       "</style>\n",
       "<table border=\"1\" class=\"dataframe\">\n",
       "  <thead>\n",
       "    <tr style=\"text-align: right;\">\n",
       "      <th></th>\n",
       "      <th>Student Number</th>\n",
       "      <th>Grade Level</th>\n",
       "      <th>Campus Number</th>\n",
       "      <th>Gender</th>\n",
       "      <th>EthnicityRace</th>\n",
       "      <th>Economic Disadvantage</th>\n",
       "      <th>Economic Disadvantage Category</th>\n",
       "      <th>At Risk</th>\n",
       "      <th>Special Ed</th>\n",
       "      <th>LEP</th>\n",
       "      <th>...</th>\n",
       "      <th>Military Connected Student</th>\n",
       "      <th>New To Texas</th>\n",
       "      <th>&gt;=50.0% Remote SY 2020-21</th>\n",
       "      <th>Discipline Placement Incidents</th>\n",
       "      <th>Oral Administration</th>\n",
       "      <th>Test Admin Mode</th>\n",
       "      <th>Approaches</th>\n",
       "      <th>Meets</th>\n",
       "      <th>Masters</th>\n",
       "      <th>STAAR Progress from 2019</th>\n",
       "    </tr>\n",
       "  </thead>\n",
       "  <tbody>\n",
       "  </tbody>\n",
       "</table>\n",
       "<p>0 rows × 24 columns</p>\n",
       "</div>"
      ],
      "text/plain": [
       "Empty DataFrame\n",
       "Columns: [Student Number, Grade Level, Campus Number, Gender, EthnicityRace, Economic Disadvantage, Economic Disadvantage Category, At Risk, Special Ed, LEP, ESL, Bilingual, Gifted Talented, Tested Language, Military Connected Student, New To Texas, >=50.0% Remote SY 2020-21, Discipline Placement Incidents, Oral Administration, Test Admin Mode, Approaches, Meets, Masters, STAAR Progress from 2019]\n",
       "Index: []\n",
       "\n",
       "[0 rows x 24 columns]"
      ]
     },
     "execution_count": 47,
     "metadata": {},
     "output_type": "execute_result"
    }
   ],
   "source": [
    "df[df['New To Texas'] != 'No']"
   ]
  },
  {
   "cell_type": "markdown",
   "id": "54917b92",
   "metadata": {},
   "source": [
    "Since none of these students are actually new to Texas there is nothing I can learn from that feature. I'll drop it for now. "
   ]
  },
  {
   "cell_type": "code",
   "execution_count": 48,
   "id": "819fa653",
   "metadata": {},
   "outputs": [],
   "source": [
    "df.drop(columns=['New To Texas'], inplace=True)"
   ]
  },
  {
   "cell_type": "code",
   "execution_count": 49,
   "id": "515d4f36",
   "metadata": {},
   "outputs": [
    {
     "data": {
      "text/plain": [
       "No     406\n",
       "Yes     17\n",
       "Name: >=50.0% Remote SY 2020-21, dtype: int64"
      ]
     },
     "execution_count": 49,
     "metadata": {},
     "output_type": "execute_result"
    }
   ],
   "source": [
    "df['>=50.0% Remote SY 2020-21'].value_counts()"
   ]
  },
  {
   "cell_type": "code",
   "execution_count": 50,
   "id": "a278833c",
   "metadata": {},
   "outputs": [
    {
     "data": {
      "text/plain": [
       "0    385\n",
       "1     31\n",
       "2      4\n",
       "3      2\n",
       "7      1\n",
       "Name: Discipline Placement Incidents, dtype: int64"
      ]
     },
     "execution_count": 50,
     "metadata": {},
     "output_type": "execute_result"
    }
   ],
   "source": [
    "df['Discipline Placement Incidents'].value_counts()"
   ]
  },
  {
   "cell_type": "code",
   "execution_count": 57,
   "id": "836d2bf9",
   "metadata": {},
   "outputs": [
    {
     "data": {
      "text/plain": [
       "dtype('int64')"
      ]
     },
     "execution_count": 57,
     "metadata": {},
     "output_type": "execute_result"
    }
   ],
   "source": [
    "df['Discipline Placement Incidents'].dtype"
   ]
  },
  {
   "cell_type": "markdown",
   "id": "7986e89d",
   "metadata": {},
   "source": [
    "I'm concerned that the 1 student with 7 discipline incidents is an outlier which may hinder prediction. I'm going to reduce this to 3 categories (0, 1, 2+)"
   ]
  },
  {
   "cell_type": "code",
   "execution_count": 58,
   "id": "a515c546",
   "metadata": {},
   "outputs": [],
   "source": [
    "df[\"Discipline Placement Incidents\"].replace([2, 3, 7], '2+', inplace=True)"
   ]
  },
  {
   "cell_type": "code",
   "execution_count": 59,
   "id": "c3d34227",
   "metadata": {},
   "outputs": [
    {
     "data": {
      "text/plain": [
       "0     385\n",
       "1      31\n",
       "2+      7\n",
       "Name: Discipline Placement Incidents, dtype: int64"
      ]
     },
     "execution_count": 59,
     "metadata": {},
     "output_type": "execute_result"
    }
   ],
   "source": [
    "df['Discipline Placement Incidents'].value_counts()"
   ]
  },
  {
   "cell_type": "code",
   "execution_count": 67,
   "id": "9cf1bcf3",
   "metadata": {},
   "outputs": [
    {
     "data": {
      "text/plain": [
       "dtype('O')"
      ]
     },
     "execution_count": 67,
     "metadata": {},
     "output_type": "execute_result"
    }
   ],
   "source": [
    "df.loc[df['Discipline Placement Incidents'] == '2+']['Discipline Placement Incidents'].dtype"
   ]
  },
  {
   "cell_type": "markdown",
   "id": "15e31b95",
   "metadata": {},
   "source": [
    "It's an object now and not an integer, but this is fine. I will fix this issue when I translate ordinal data into integer form. "
   ]
  },
  {
   "cell_type": "code",
   "execution_count": 68,
   "id": "2b0f89e2",
   "metadata": {},
   "outputs": [
    {
     "data": {
      "text/plain": [
       "No     408\n",
       "Yes     15\n",
       "Name: Oral Administration, dtype: int64"
      ]
     },
     "execution_count": 68,
     "metadata": {},
     "output_type": "execute_result"
    }
   ],
   "source": [
    "df['Oral Administration'].value_counts()"
   ]
  },
  {
   "cell_type": "code",
   "execution_count": 69,
   "id": "c1d4253c",
   "metadata": {},
   "outputs": [
    {
     "data": {
      "text/plain": [
       "Online    405\n",
       "Paper      18\n",
       "Name: Test Admin Mode, dtype: int64"
      ]
     },
     "execution_count": 69,
     "metadata": {},
     "output_type": "execute_result"
    }
   ],
   "source": [
    "df['Test Admin Mode'].value_counts()"
   ]
  },
  {
   "cell_type": "code",
   "execution_count": 70,
   "id": "c1c72527",
   "metadata": {},
   "outputs": [
    {
     "data": {
      "text/plain": [
       "Limited        166\n",
       "Expected       154\n",
       "Accelerated    103\n",
       "Name: STAAR Progress from 2019, dtype: int64"
      ]
     },
     "execution_count": 70,
     "metadata": {},
     "output_type": "execute_result"
    }
   ],
   "source": [
    "\n",
    "df['STAAR Progress from 2019'].value_counts()"
   ]
  },
  {
   "cell_type": "markdown",
   "id": "8b592cf8",
   "metadata": {},
   "source": [
    "All the data seems to be intact and make sense, which is to be expected from such a small dataset. Now I'll translate all of the staar results into 1 columns. "
   ]
  },
  {
   "cell_type": "code",
   "execution_count": 71,
   "id": "d84e360e",
   "metadata": {},
   "outputs": [
    {
     "data": {
      "text/html": [
       "<div>\n",
       "<style scoped>\n",
       "    .dataframe tbody tr th:only-of-type {\n",
       "        vertical-align: middle;\n",
       "    }\n",
       "\n",
       "    .dataframe tbody tr th {\n",
       "        vertical-align: top;\n",
       "    }\n",
       "\n",
       "    .dataframe thead th {\n",
       "        text-align: right;\n",
       "    }\n",
       "</style>\n",
       "<table border=\"1\" class=\"dataframe\">\n",
       "  <thead>\n",
       "    <tr style=\"text-align: right;\">\n",
       "      <th></th>\n",
       "      <th>Student Number</th>\n",
       "      <th>Grade Level</th>\n",
       "      <th>Campus Number</th>\n",
       "      <th>Gender</th>\n",
       "      <th>EthnicityRace</th>\n",
       "      <th>Economic Disadvantage</th>\n",
       "      <th>Economic Disadvantage Category</th>\n",
       "      <th>At Risk</th>\n",
       "      <th>Special Ed</th>\n",
       "      <th>LEP</th>\n",
       "      <th>...</th>\n",
       "      <th>Military Connected Student</th>\n",
       "      <th>&gt;=50.0% Remote SY 2020-21</th>\n",
       "      <th>Discipline Placement Incidents</th>\n",
       "      <th>Oral Administration</th>\n",
       "      <th>Test Admin Mode</th>\n",
       "      <th>Approaches</th>\n",
       "      <th>Meets</th>\n",
       "      <th>Masters</th>\n",
       "      <th>STAAR Progress from 2019</th>\n",
       "      <th>Target</th>\n",
       "    </tr>\n",
       "  </thead>\n",
       "  <tbody>\n",
       "    <tr>\n",
       "      <th>0</th>\n",
       "      <td>1</td>\n",
       "      <td>Fifth</td>\n",
       "      <td>1</td>\n",
       "      <td>Female</td>\n",
       "      <td>Hispanic/Latino</td>\n",
       "      <td>Yes</td>\n",
       "      <td>Eligible for Free Meals</td>\n",
       "      <td>Yes</td>\n",
       "      <td>Yes</td>\n",
       "      <td>LEP</td>\n",
       "      <td>...</td>\n",
       "      <td>0</td>\n",
       "      <td>Yes</td>\n",
       "      <td>0</td>\n",
       "      <td>No</td>\n",
       "      <td>Online</td>\n",
       "      <td>No</td>\n",
       "      <td>No</td>\n",
       "      <td>No</td>\n",
       "      <td>Limited</td>\n",
       "      <td>0</td>\n",
       "    </tr>\n",
       "    <tr>\n",
       "      <th>1</th>\n",
       "      <td>2</td>\n",
       "      <td>Fifth</td>\n",
       "      <td>3</td>\n",
       "      <td>Female</td>\n",
       "      <td>Hispanic/Latino</td>\n",
       "      <td>No</td>\n",
       "      <td>Not Economically Disadvantaged</td>\n",
       "      <td>Yes</td>\n",
       "      <td>Yes</td>\n",
       "      <td>LEP</td>\n",
       "      <td>...</td>\n",
       "      <td>0</td>\n",
       "      <td>No</td>\n",
       "      <td>0</td>\n",
       "      <td>Yes</td>\n",
       "      <td>Paper</td>\n",
       "      <td>No</td>\n",
       "      <td>No</td>\n",
       "      <td>No</td>\n",
       "      <td>Limited</td>\n",
       "      <td>0</td>\n",
       "    </tr>\n",
       "    <tr>\n",
       "      <th>2</th>\n",
       "      <td>3</td>\n",
       "      <td>Fifth</td>\n",
       "      <td>7</td>\n",
       "      <td>Male</td>\n",
       "      <td>White</td>\n",
       "      <td>Yes</td>\n",
       "      <td>Eligible for Free Meals</td>\n",
       "      <td>Yes</td>\n",
       "      <td>No</td>\n",
       "      <td>Other Non-LEP Student</td>\n",
       "      <td>...</td>\n",
       "      <td>0</td>\n",
       "      <td>No</td>\n",
       "      <td>0</td>\n",
       "      <td>No</td>\n",
       "      <td>Online</td>\n",
       "      <td>Yes</td>\n",
       "      <td>Yes</td>\n",
       "      <td>No</td>\n",
       "      <td>Accelerated</td>\n",
       "      <td>0</td>\n",
       "    </tr>\n",
       "    <tr>\n",
       "      <th>3</th>\n",
       "      <td>4</td>\n",
       "      <td>Fifth</td>\n",
       "      <td>5</td>\n",
       "      <td>Female</td>\n",
       "      <td>Hispanic/Latino</td>\n",
       "      <td>No</td>\n",
       "      <td>Not Economically Disadvantaged</td>\n",
       "      <td>No</td>\n",
       "      <td>No</td>\n",
       "      <td>Other Non-LEP Student</td>\n",
       "      <td>...</td>\n",
       "      <td>0</td>\n",
       "      <td>No</td>\n",
       "      <td>0</td>\n",
       "      <td>No</td>\n",
       "      <td>Online</td>\n",
       "      <td>No</td>\n",
       "      <td>No</td>\n",
       "      <td>No</td>\n",
       "      <td>Expected</td>\n",
       "      <td>0</td>\n",
       "    </tr>\n",
       "    <tr>\n",
       "      <th>4</th>\n",
       "      <td>5</td>\n",
       "      <td>Fifth</td>\n",
       "      <td>3</td>\n",
       "      <td>Male</td>\n",
       "      <td>Hispanic/Latino</td>\n",
       "      <td>No</td>\n",
       "      <td>Not Economically Disadvantaged</td>\n",
       "      <td>Yes</td>\n",
       "      <td>Yes</td>\n",
       "      <td>LEP</td>\n",
       "      <td>...</td>\n",
       "      <td>0</td>\n",
       "      <td>No</td>\n",
       "      <td>0</td>\n",
       "      <td>No</td>\n",
       "      <td>Online</td>\n",
       "      <td>Yes</td>\n",
       "      <td>No</td>\n",
       "      <td>No</td>\n",
       "      <td>Accelerated</td>\n",
       "      <td>0</td>\n",
       "    </tr>\n",
       "  </tbody>\n",
       "</table>\n",
       "<p>5 rows × 24 columns</p>\n",
       "</div>"
      ],
      "text/plain": [
       "   Student Number Grade Level  Campus Number  Gender    EthnicityRace  \\\n",
       "0               1       Fifth              1  Female  Hispanic/Latino   \n",
       "1               2       Fifth              3  Female  Hispanic/Latino   \n",
       "2               3       Fifth              7    Male            White   \n",
       "3               4       Fifth              5  Female  Hispanic/Latino   \n",
       "4               5       Fifth              3    Male  Hispanic/Latino   \n",
       "\n",
       "  Economic Disadvantage  Economic Disadvantage Category At Risk Special Ed  \\\n",
       "0                   Yes         Eligible for Free Meals     Yes        Yes   \n",
       "1                    No  Not Economically Disadvantaged     Yes        Yes   \n",
       "2                   Yes         Eligible for Free Meals     Yes         No   \n",
       "3                    No  Not Economically Disadvantaged      No         No   \n",
       "4                    No  Not Economically Disadvantaged     Yes        Yes   \n",
       "\n",
       "                     LEP  ... Military Connected Student  \\\n",
       "0                    LEP  ...                          0   \n",
       "1                    LEP  ...                          0   \n",
       "2  Other Non-LEP Student  ...                          0   \n",
       "3  Other Non-LEP Student  ...                          0   \n",
       "4                    LEP  ...                          0   \n",
       "\n",
       "  >=50.0% Remote SY 2020-21 Discipline Placement Incidents  \\\n",
       "0                       Yes                              0   \n",
       "1                        No                              0   \n",
       "2                        No                              0   \n",
       "3                        No                              0   \n",
       "4                        No                              0   \n",
       "\n",
       "  Oral Administration  Test Admin Mode Approaches Meets Masters  \\\n",
       "0                  No           Online         No    No      No   \n",
       "1                 Yes            Paper         No    No      No   \n",
       "2                  No           Online        Yes   Yes      No   \n",
       "3                  No           Online         No    No      No   \n",
       "4                  No           Online        Yes    No      No   \n",
       "\n",
       "  STAAR Progress from 2019 Target  \n",
       "0                  Limited      0  \n",
       "1                  Limited      0  \n",
       "2              Accelerated      0  \n",
       "3                 Expected      0  \n",
       "4              Accelerated      0  \n",
       "\n",
       "[5 rows x 24 columns]"
      ]
     },
     "execution_count": 71,
     "metadata": {},
     "output_type": "execute_result"
    }
   ],
   "source": [
    "df['Target'] = 0\n",
    "df.head()"
   ]
  },
  {
   "cell_type": "code",
   "execution_count": 84,
   "id": "760b7195",
   "metadata": {},
   "outputs": [],
   "source": [
    "df['Target'] = np.where(df['Masters']!= 'No', 'Masters', 0)"
   ]
  },
  {
   "cell_type": "code",
   "execution_count": 90,
   "id": "99067144",
   "metadata": {},
   "outputs": [
    {
     "data": {
      "text/html": [
       "<div>\n",
       "<style scoped>\n",
       "    .dataframe tbody tr th:only-of-type {\n",
       "        vertical-align: middle;\n",
       "    }\n",
       "\n",
       "    .dataframe tbody tr th {\n",
       "        vertical-align: top;\n",
       "    }\n",
       "\n",
       "    .dataframe thead th {\n",
       "        text-align: right;\n",
       "    }\n",
       "</style>\n",
       "<table border=\"1\" class=\"dataframe\">\n",
       "  <thead>\n",
       "    <tr style=\"text-align: right;\">\n",
       "      <th></th>\n",
       "      <th>Student Number</th>\n",
       "      <th>Grade Level</th>\n",
       "      <th>Campus Number</th>\n",
       "      <th>Gender</th>\n",
       "      <th>EthnicityRace</th>\n",
       "      <th>Economic Disadvantage</th>\n",
       "      <th>Economic Disadvantage Category</th>\n",
       "      <th>At Risk</th>\n",
       "      <th>Special Ed</th>\n",
       "      <th>LEP</th>\n",
       "      <th>...</th>\n",
       "      <th>Military Connected Student</th>\n",
       "      <th>&gt;=50.0% Remote SY 2020-21</th>\n",
       "      <th>Discipline Placement Incidents</th>\n",
       "      <th>Oral Administration</th>\n",
       "      <th>Test Admin Mode</th>\n",
       "      <th>Approaches</th>\n",
       "      <th>Meets</th>\n",
       "      <th>Masters</th>\n",
       "      <th>STAAR Progress from 2019</th>\n",
       "      <th>Target</th>\n",
       "    </tr>\n",
       "  </thead>\n",
       "  <tbody>\n",
       "    <tr>\n",
       "      <th>0</th>\n",
       "      <td>1</td>\n",
       "      <td>Fifth</td>\n",
       "      <td>1</td>\n",
       "      <td>Female</td>\n",
       "      <td>Hispanic/Latino</td>\n",
       "      <td>Yes</td>\n",
       "      <td>Eligible for Free Meals</td>\n",
       "      <td>Yes</td>\n",
       "      <td>Yes</td>\n",
       "      <td>LEP</td>\n",
       "      <td>...</td>\n",
       "      <td>0</td>\n",
       "      <td>Yes</td>\n",
       "      <td>0</td>\n",
       "      <td>No</td>\n",
       "      <td>Online</td>\n",
       "      <td>No</td>\n",
       "      <td>No</td>\n",
       "      <td>No</td>\n",
       "      <td>Limited</td>\n",
       "      <td>Fails</td>\n",
       "    </tr>\n",
       "    <tr>\n",
       "      <th>1</th>\n",
       "      <td>2</td>\n",
       "      <td>Fifth</td>\n",
       "      <td>3</td>\n",
       "      <td>Female</td>\n",
       "      <td>Hispanic/Latino</td>\n",
       "      <td>No</td>\n",
       "      <td>Not Economically Disadvantaged</td>\n",
       "      <td>Yes</td>\n",
       "      <td>Yes</td>\n",
       "      <td>LEP</td>\n",
       "      <td>...</td>\n",
       "      <td>0</td>\n",
       "      <td>No</td>\n",
       "      <td>0</td>\n",
       "      <td>Yes</td>\n",
       "      <td>Paper</td>\n",
       "      <td>No</td>\n",
       "      <td>No</td>\n",
       "      <td>No</td>\n",
       "      <td>Limited</td>\n",
       "      <td>Fails</td>\n",
       "    </tr>\n",
       "    <tr>\n",
       "      <th>2</th>\n",
       "      <td>3</td>\n",
       "      <td>Fifth</td>\n",
       "      <td>7</td>\n",
       "      <td>Male</td>\n",
       "      <td>White</td>\n",
       "      <td>Yes</td>\n",
       "      <td>Eligible for Free Meals</td>\n",
       "      <td>Yes</td>\n",
       "      <td>No</td>\n",
       "      <td>Other Non-LEP Student</td>\n",
       "      <td>...</td>\n",
       "      <td>0</td>\n",
       "      <td>No</td>\n",
       "      <td>0</td>\n",
       "      <td>No</td>\n",
       "      <td>Online</td>\n",
       "      <td>Yes</td>\n",
       "      <td>Yes</td>\n",
       "      <td>No</td>\n",
       "      <td>Accelerated</td>\n",
       "      <td>Meets</td>\n",
       "    </tr>\n",
       "    <tr>\n",
       "      <th>3</th>\n",
       "      <td>4</td>\n",
       "      <td>Fifth</td>\n",
       "      <td>5</td>\n",
       "      <td>Female</td>\n",
       "      <td>Hispanic/Latino</td>\n",
       "      <td>No</td>\n",
       "      <td>Not Economically Disadvantaged</td>\n",
       "      <td>No</td>\n",
       "      <td>No</td>\n",
       "      <td>Other Non-LEP Student</td>\n",
       "      <td>...</td>\n",
       "      <td>0</td>\n",
       "      <td>No</td>\n",
       "      <td>0</td>\n",
       "      <td>No</td>\n",
       "      <td>Online</td>\n",
       "      <td>No</td>\n",
       "      <td>No</td>\n",
       "      <td>No</td>\n",
       "      <td>Expected</td>\n",
       "      <td>Fails</td>\n",
       "    </tr>\n",
       "    <tr>\n",
       "      <th>4</th>\n",
       "      <td>5</td>\n",
       "      <td>Fifth</td>\n",
       "      <td>3</td>\n",
       "      <td>Male</td>\n",
       "      <td>Hispanic/Latino</td>\n",
       "      <td>No</td>\n",
       "      <td>Not Economically Disadvantaged</td>\n",
       "      <td>Yes</td>\n",
       "      <td>Yes</td>\n",
       "      <td>LEP</td>\n",
       "      <td>...</td>\n",
       "      <td>0</td>\n",
       "      <td>No</td>\n",
       "      <td>0</td>\n",
       "      <td>No</td>\n",
       "      <td>Online</td>\n",
       "      <td>Yes</td>\n",
       "      <td>No</td>\n",
       "      <td>No</td>\n",
       "      <td>Accelerated</td>\n",
       "      <td>Approaches</td>\n",
       "    </tr>\n",
       "  </tbody>\n",
       "</table>\n",
       "<p>5 rows × 24 columns</p>\n",
       "</div>"
      ],
      "text/plain": [
       "   Student Number Grade Level  Campus Number  Gender    EthnicityRace  \\\n",
       "0               1       Fifth              1  Female  Hispanic/Latino   \n",
       "1               2       Fifth              3  Female  Hispanic/Latino   \n",
       "2               3       Fifth              7    Male            White   \n",
       "3               4       Fifth              5  Female  Hispanic/Latino   \n",
       "4               5       Fifth              3    Male  Hispanic/Latino   \n",
       "\n",
       "  Economic Disadvantage  Economic Disadvantage Category At Risk Special Ed  \\\n",
       "0                   Yes         Eligible for Free Meals     Yes        Yes   \n",
       "1                    No  Not Economically Disadvantaged     Yes        Yes   \n",
       "2                   Yes         Eligible for Free Meals     Yes         No   \n",
       "3                    No  Not Economically Disadvantaged      No         No   \n",
       "4                    No  Not Economically Disadvantaged     Yes        Yes   \n",
       "\n",
       "                     LEP  ... Military Connected Student  \\\n",
       "0                    LEP  ...                          0   \n",
       "1                    LEP  ...                          0   \n",
       "2  Other Non-LEP Student  ...                          0   \n",
       "3  Other Non-LEP Student  ...                          0   \n",
       "4                    LEP  ...                          0   \n",
       "\n",
       "  >=50.0% Remote SY 2020-21 Discipline Placement Incidents  \\\n",
       "0                       Yes                              0   \n",
       "1                        No                              0   \n",
       "2                        No                              0   \n",
       "3                        No                              0   \n",
       "4                        No                              0   \n",
       "\n",
       "  Oral Administration  Test Admin Mode Approaches Meets Masters  \\\n",
       "0                  No           Online         No    No      No   \n",
       "1                 Yes            Paper         No    No      No   \n",
       "2                  No           Online        Yes   Yes      No   \n",
       "3                  No           Online         No    No      No   \n",
       "4                  No           Online        Yes    No      No   \n",
       "\n",
       "  STAAR Progress from 2019      Target  \n",
       "0                  Limited       Fails  \n",
       "1                  Limited       Fails  \n",
       "2              Accelerated       Meets  \n",
       "3                 Expected       Fails  \n",
       "4              Accelerated  Approaches  \n",
       "\n",
       "[5 rows x 24 columns]"
      ]
     },
     "execution_count": 90,
     "metadata": {},
     "output_type": "execute_result"
    }
   ],
   "source": [
    "# create a list of our conditions\n",
    "conditions = [\n",
    "    (df['Masters'] == 'Yes'),\n",
    "    (df['Masters'] == 'No') & (df['Meets'] == 'Yes'),\n",
    "    (df['Meets'] == 'No') & (df['Approaches'] == 'Yes'),\n",
    "    (df['Approaches'] == 'No')\n",
    "    ]\n",
    "\n",
    "# create a list of the values we want to assign for each condition\n",
    "values = ['Masters', 'Meets', 'Approaches', 'Fails']\n",
    "\n",
    "# create a new column and use np.select to assign values to it using our lists as arguments\n",
    "df['Target'] = np.select(conditions, values)\n",
    "\n",
    "# display updated DataFrame\n",
    "df.head()"
   ]
  },
  {
   "cell_type": "markdown",
   "id": "e74e5867",
   "metadata": {},
   "source": [
    "The code above was adapted from https://www.dataquest.io/blog/tutorial-add-column-pandas-dataframe-based-on-if-else-condition/\n",
    "I'll now drop the staar columns"
   ]
  },
  {
   "cell_type": "code",
   "execution_count": 91,
   "id": "e4251492",
   "metadata": {},
   "outputs": [],
   "source": [
    "df.drop(columns=['Approaches', 'Meets', 'Masters'], inplace=True)"
   ]
  },
  {
   "cell_type": "markdown",
   "id": "8c37a4c3",
   "metadata": {},
   "source": [
    "Now I'll translate all my ordinal data into numeric values. "
   ]
  },
  {
   "cell_type": "code",
   "execution_count": 93,
   "id": "07df7220",
   "metadata": {},
   "outputs": [],
   "source": [
    "odf = df\n",
    "odf['Economic Disadvantage Category'].replace({'Eligible for Free Meals':0,\n",
    "'Not Economically Disadvantaged':3,\n",
    "'Eligible for Reduced-Price Meals':1,\n",
    "'Other Economic Disadvantages':2}, inplace=True)"
   ]
  },
  {
   "cell_type": "code",
   "execution_count": 95,
   "id": "7d727d8e",
   "metadata": {},
   "outputs": [
    {
     "data": {
      "text/plain": [
       "0    236\n",
       "3    144\n",
       "1     23\n",
       "2     20\n",
       "Name: Economic Disadvantage Category, dtype: int64"
      ]
     },
     "execution_count": 95,
     "metadata": {},
     "output_type": "execute_result"
    }
   ],
   "source": [
    "odf['Economic Disadvantage Category'].value_counts()"
   ]
  },
  {
   "cell_type": "code",
   "execution_count": 96,
   "id": "7cf09758",
   "metadata": {},
   "outputs": [
    {
     "data": {
      "text/plain": [
       "0    385\n",
       "1     31\n",
       "2      7\n",
       "Name: Discipline Placement Incidents, dtype: int64"
      ]
     },
     "execution_count": 96,
     "metadata": {},
     "output_type": "execute_result"
    }
   ],
   "source": [
    "odf['Discipline Placement Incidents'].replace({'0':0, '1':1, '2+':2}, inplace=True)\n",
    "odf['Discipline Placement Incidents'].value_counts()"
   ]
  },
  {
   "cell_type": "code",
   "execution_count": 106,
   "id": "c5539f44",
   "metadata": {},
   "outputs": [
    {
     "data": {
      "text/plain": [
       "0    166\n",
       "1    154\n",
       "2    103\n",
       "Name: STAAR Progress from 2019, dtype: int64"
      ]
     },
     "execution_count": 106,
     "metadata": {},
     "output_type": "execute_result"
    }
   ],
   "source": [
    "odf['STAAR Progress from 2019'].replace({'Limited':0,\n",
    "'Expected':1,\n",
    "'Accelerated':2}, inplace=True)\n",
    "odf['STAAR Progress from 2019'].value_counts()"
   ]
  },
  {
   "cell_type": "code",
   "execution_count": 108,
   "id": "820a0327",
   "metadata": {},
   "outputs": [
    {
     "data": {
      "text/html": [
       "<div>\n",
       "<style scoped>\n",
       "    .dataframe tbody tr th:only-of-type {\n",
       "        vertical-align: middle;\n",
       "    }\n",
       "\n",
       "    .dataframe tbody tr th {\n",
       "        vertical-align: top;\n",
       "    }\n",
       "\n",
       "    .dataframe thead th {\n",
       "        text-align: right;\n",
       "    }\n",
       "</style>\n",
       "<table border=\"1\" class=\"dataframe\">\n",
       "  <thead>\n",
       "    <tr style=\"text-align: right;\">\n",
       "      <th></th>\n",
       "      <th>Student Number</th>\n",
       "      <th>Grade Level</th>\n",
       "      <th>Campus Number</th>\n",
       "      <th>Gender</th>\n",
       "      <th>EthnicityRace</th>\n",
       "      <th>Economic Disadvantage</th>\n",
       "      <th>Economic Disadvantage Category</th>\n",
       "      <th>At Risk</th>\n",
       "      <th>Special Ed</th>\n",
       "      <th>LEP</th>\n",
       "      <th>...</th>\n",
       "      <th>Bilingual</th>\n",
       "      <th>Gifted Talented</th>\n",
       "      <th>Tested Language</th>\n",
       "      <th>Military Connected Student</th>\n",
       "      <th>&gt;=50.0% Remote SY 2020-21</th>\n",
       "      <th>Discipline Placement Incidents</th>\n",
       "      <th>Oral Administration</th>\n",
       "      <th>Test Admin Mode</th>\n",
       "      <th>STAAR Progress from 2019</th>\n",
       "      <th>Target</th>\n",
       "    </tr>\n",
       "  </thead>\n",
       "  <tbody>\n",
       "    <tr>\n",
       "      <th>0</th>\n",
       "      <td>1</td>\n",
       "      <td>Fifth</td>\n",
       "      <td>1</td>\n",
       "      <td>Female</td>\n",
       "      <td>Hispanic/Latino</td>\n",
       "      <td>Yes</td>\n",
       "      <td>0</td>\n",
       "      <td>Yes</td>\n",
       "      <td>Yes</td>\n",
       "      <td>LEP</td>\n",
       "      <td>...</td>\n",
       "      <td>No</td>\n",
       "      <td>No</td>\n",
       "      <td>E</td>\n",
       "      <td>0</td>\n",
       "      <td>Yes</td>\n",
       "      <td>0</td>\n",
       "      <td>No</td>\n",
       "      <td>Online</td>\n",
       "      <td>0</td>\n",
       "      <td>Fails</td>\n",
       "    </tr>\n",
       "    <tr>\n",
       "      <th>1</th>\n",
       "      <td>2</td>\n",
       "      <td>Fifth</td>\n",
       "      <td>3</td>\n",
       "      <td>Female</td>\n",
       "      <td>Hispanic/Latino</td>\n",
       "      <td>No</td>\n",
       "      <td>3</td>\n",
       "      <td>Yes</td>\n",
       "      <td>Yes</td>\n",
       "      <td>LEP</td>\n",
       "      <td>...</td>\n",
       "      <td>No</td>\n",
       "      <td>No</td>\n",
       "      <td>E</td>\n",
       "      <td>0</td>\n",
       "      <td>No</td>\n",
       "      <td>0</td>\n",
       "      <td>Yes</td>\n",
       "      <td>Paper</td>\n",
       "      <td>0</td>\n",
       "      <td>Fails</td>\n",
       "    </tr>\n",
       "    <tr>\n",
       "      <th>2</th>\n",
       "      <td>3</td>\n",
       "      <td>Fifth</td>\n",
       "      <td>7</td>\n",
       "      <td>Male</td>\n",
       "      <td>White</td>\n",
       "      <td>Yes</td>\n",
       "      <td>0</td>\n",
       "      <td>Yes</td>\n",
       "      <td>No</td>\n",
       "      <td>Other Non-LEP Student</td>\n",
       "      <td>...</td>\n",
       "      <td>No</td>\n",
       "      <td>No</td>\n",
       "      <td>E</td>\n",
       "      <td>0</td>\n",
       "      <td>No</td>\n",
       "      <td>0</td>\n",
       "      <td>No</td>\n",
       "      <td>Online</td>\n",
       "      <td>2</td>\n",
       "      <td>Meets</td>\n",
       "    </tr>\n",
       "    <tr>\n",
       "      <th>3</th>\n",
       "      <td>4</td>\n",
       "      <td>Fifth</td>\n",
       "      <td>5</td>\n",
       "      <td>Female</td>\n",
       "      <td>Hispanic/Latino</td>\n",
       "      <td>No</td>\n",
       "      <td>3</td>\n",
       "      <td>No</td>\n",
       "      <td>No</td>\n",
       "      <td>Other Non-LEP Student</td>\n",
       "      <td>...</td>\n",
       "      <td>No</td>\n",
       "      <td>No</td>\n",
       "      <td>E</td>\n",
       "      <td>0</td>\n",
       "      <td>No</td>\n",
       "      <td>0</td>\n",
       "      <td>No</td>\n",
       "      <td>Online</td>\n",
       "      <td>1</td>\n",
       "      <td>Fails</td>\n",
       "    </tr>\n",
       "    <tr>\n",
       "      <th>4</th>\n",
       "      <td>5</td>\n",
       "      <td>Fifth</td>\n",
       "      <td>3</td>\n",
       "      <td>Male</td>\n",
       "      <td>Hispanic/Latino</td>\n",
       "      <td>No</td>\n",
       "      <td>3</td>\n",
       "      <td>Yes</td>\n",
       "      <td>Yes</td>\n",
       "      <td>LEP</td>\n",
       "      <td>...</td>\n",
       "      <td>No</td>\n",
       "      <td>No</td>\n",
       "      <td>E</td>\n",
       "      <td>0</td>\n",
       "      <td>No</td>\n",
       "      <td>0</td>\n",
       "      <td>No</td>\n",
       "      <td>Online</td>\n",
       "      <td>2</td>\n",
       "      <td>Approaches</td>\n",
       "    </tr>\n",
       "  </tbody>\n",
       "</table>\n",
       "<p>5 rows × 21 columns</p>\n",
       "</div>"
      ],
      "text/plain": [
       "   Student Number Grade Level  Campus Number  Gender    EthnicityRace  \\\n",
       "0               1       Fifth              1  Female  Hispanic/Latino   \n",
       "1               2       Fifth              3  Female  Hispanic/Latino   \n",
       "2               3       Fifth              7    Male            White   \n",
       "3               4       Fifth              5  Female  Hispanic/Latino   \n",
       "4               5       Fifth              3    Male  Hispanic/Latino   \n",
       "\n",
       "  Economic Disadvantage  Economic Disadvantage Category At Risk Special Ed  \\\n",
       "0                   Yes                               0     Yes        Yes   \n",
       "1                    No                               3     Yes        Yes   \n",
       "2                   Yes                               0     Yes         No   \n",
       "3                    No                               3      No         No   \n",
       "4                    No                               3     Yes        Yes   \n",
       "\n",
       "                     LEP  ... Bilingual Gifted Talented Tested Language  \\\n",
       "0                    LEP  ...        No              No               E   \n",
       "1                    LEP  ...        No              No               E   \n",
       "2  Other Non-LEP Student  ...        No              No               E   \n",
       "3  Other Non-LEP Student  ...        No              No               E   \n",
       "4                    LEP  ...        No              No               E   \n",
       "\n",
       "  Military Connected Student  >=50.0% Remote SY 2020-21  \\\n",
       "0                          0                        Yes   \n",
       "1                          0                         No   \n",
       "2                          0                         No   \n",
       "3                          0                         No   \n",
       "4                          0                         No   \n",
       "\n",
       "  Discipline Placement Incidents  Oral Administration Test Admin Mode  \\\n",
       "0                              0                   No          Online   \n",
       "1                              0                  Yes           Paper   \n",
       "2                              0                   No          Online   \n",
       "3                              0                   No          Online   \n",
       "4                              0                   No          Online   \n",
       "\n",
       "  STAAR Progress from 2019      Target  \n",
       "0                        0       Fails  \n",
       "1                        0       Fails  \n",
       "2                        2       Meets  \n",
       "3                        1       Fails  \n",
       "4                        2  Approaches  \n",
       "\n",
       "[5 rows x 21 columns]"
      ]
     },
     "execution_count": 108,
     "metadata": {},
     "output_type": "execute_result"
    }
   ],
   "source": [
    "odf.head()"
   ]
  },
  {
   "cell_type": "code",
   "execution_count": 109,
   "id": "b690fd0e",
   "metadata": {},
   "outputs": [],
   "source": [
    "odf['Target'].replace({'Fails':0,\n",
    "'Approaches':1,\n",
    "'Meets':2,\n",
    "'Masters':3}, inplace=True)"
   ]
  },
  {
   "cell_type": "code",
   "execution_count": 110,
   "id": "3659ca92",
   "metadata": {},
   "outputs": [
    {
     "data": {
      "text/plain": [
       "'C:\\\\Users\\\\Armstrongs\\\\Desktop\\\\GitHub\\\\Capstone_3'"
      ]
     },
     "execution_count": 110,
     "metadata": {},
     "output_type": "execute_result"
    }
   ],
   "source": [
    "pwd"
   ]
  },
  {
   "cell_type": "code",
   "execution_count": null,
   "id": "c568ce5d",
   "metadata": {},
   "outputs": [],
   "source": []
  }
 ],
 "metadata": {
  "kernelspec": {
   "display_name": "Python 3 (ipykernel)",
   "language": "python",
   "name": "python3"
  },
  "language_info": {
   "codemirror_mode": {
    "name": "ipython",
    "version": 3
   },
   "file_extension": ".py",
   "mimetype": "text/x-python",
   "name": "python",
   "nbconvert_exporter": "python",
   "pygments_lexer": "ipython3",
   "version": "3.9.7"
  }
 },
 "nbformat": 4,
 "nbformat_minor": 5
}
