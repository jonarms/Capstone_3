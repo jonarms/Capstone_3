{
 "cells": [
  {
   "cell_type": "code",
   "execution_count": 1,
   "id": "e9a05da3",
   "metadata": {},
   "outputs": [],
   "source": [
    "import pandas as pd\n",
    "import numpy as np\n",
    "import random\n",
    "import matplotlib.pyplot as plt\n",
    "import seaborn as sns\n",
    "from statistics import mean\n",
    "from random import seed\n",
    "from random import sample\n",
    "import copy\n",
    "import itertools\n",
    "from sklearn.ensemble import RandomForestClassifier\n",
    "from statsmodels.stats.weightstats import ztest\n",
    "import math\n",
    "from statsmodels.stats.weightstats import ztest as ztest"
   ]
  },
  {
   "cell_type": "code",
   "execution_count": 2,
   "id": "7157ceda",
   "metadata": {},
   "outputs": [
    {
     "data": {
      "text/html": [
       "<div>\n",
       "<style scoped>\n",
       "    .dataframe tbody tr th:only-of-type {\n",
       "        vertical-align: middle;\n",
       "    }\n",
       "\n",
       "    .dataframe tbody tr th {\n",
       "        vertical-align: top;\n",
       "    }\n",
       "\n",
       "    .dataframe thead th {\n",
       "        text-align: right;\n",
       "    }\n",
       "</style>\n",
       "<table border=\"1\" class=\"dataframe\">\n",
       "  <thead>\n",
       "    <tr style=\"text-align: right;\">\n",
       "      <th></th>\n",
       "      <th>Campus Number_1</th>\n",
       "      <th>Campus Number_2</th>\n",
       "      <th>Campus Number_3</th>\n",
       "      <th>Campus Number_4</th>\n",
       "      <th>Campus Number_5</th>\n",
       "      <th>Campus Number_6</th>\n",
       "      <th>Campus Number_7</th>\n",
       "      <th>Gender_Female</th>\n",
       "      <th>Gender_Male</th>\n",
       "      <th>EthnicityRace_African American</th>\n",
       "      <th>...</th>\n",
       "      <th>Military Connected Student_1</th>\n",
       "      <th>&gt;=50.0% Remote SY 2020-21_No</th>\n",
       "      <th>&gt;=50.0% Remote SY 2020-21_Yes</th>\n",
       "      <th>Oral Administration_No</th>\n",
       "      <th>Oral Administration_Yes</th>\n",
       "      <th>Test Admin Mode_Online</th>\n",
       "      <th>Test Admin Mode_Paper</th>\n",
       "      <th>Discipline Placement Incidents</th>\n",
       "      <th>STAAR Progress from 2019</th>\n",
       "      <th>target</th>\n",
       "    </tr>\n",
       "  </thead>\n",
       "  <tbody>\n",
       "    <tr>\n",
       "      <th>0</th>\n",
       "      <td>1</td>\n",
       "      <td>0</td>\n",
       "      <td>0</td>\n",
       "      <td>0</td>\n",
       "      <td>0</td>\n",
       "      <td>0</td>\n",
       "      <td>0</td>\n",
       "      <td>1</td>\n",
       "      <td>0</td>\n",
       "      <td>0</td>\n",
       "      <td>...</td>\n",
       "      <td>0</td>\n",
       "      <td>1</td>\n",
       "      <td>0</td>\n",
       "      <td>1</td>\n",
       "      <td>0</td>\n",
       "      <td>1</td>\n",
       "      <td>0</td>\n",
       "      <td>-0.297161</td>\n",
       "      <td>-1.086340</td>\n",
       "      <td>1</td>\n",
       "    </tr>\n",
       "    <tr>\n",
       "      <th>1</th>\n",
       "      <td>0</td>\n",
       "      <td>0</td>\n",
       "      <td>0</td>\n",
       "      <td>1</td>\n",
       "      <td>0</td>\n",
       "      <td>0</td>\n",
       "      <td>0</td>\n",
       "      <td>1</td>\n",
       "      <td>0</td>\n",
       "      <td>0</td>\n",
       "      <td>...</td>\n",
       "      <td>0</td>\n",
       "      <td>1</td>\n",
       "      <td>0</td>\n",
       "      <td>1</td>\n",
       "      <td>0</td>\n",
       "      <td>1</td>\n",
       "      <td>0</td>\n",
       "      <td>-0.297161</td>\n",
       "      <td>-1.086340</td>\n",
       "      <td>1</td>\n",
       "    </tr>\n",
       "    <tr>\n",
       "      <th>2</th>\n",
       "      <td>0</td>\n",
       "      <td>1</td>\n",
       "      <td>0</td>\n",
       "      <td>0</td>\n",
       "      <td>0</td>\n",
       "      <td>0</td>\n",
       "      <td>0</td>\n",
       "      <td>1</td>\n",
       "      <td>0</td>\n",
       "      <td>0</td>\n",
       "      <td>...</td>\n",
       "      <td>0</td>\n",
       "      <td>1</td>\n",
       "      <td>0</td>\n",
       "      <td>1</td>\n",
       "      <td>0</td>\n",
       "      <td>1</td>\n",
       "      <td>0</td>\n",
       "      <td>-0.297161</td>\n",
       "      <td>0.190109</td>\n",
       "      <td>3</td>\n",
       "    </tr>\n",
       "    <tr>\n",
       "      <th>3</th>\n",
       "      <td>0</td>\n",
       "      <td>1</td>\n",
       "      <td>0</td>\n",
       "      <td>0</td>\n",
       "      <td>0</td>\n",
       "      <td>0</td>\n",
       "      <td>0</td>\n",
       "      <td>0</td>\n",
       "      <td>1</td>\n",
       "      <td>0</td>\n",
       "      <td>...</td>\n",
       "      <td>0</td>\n",
       "      <td>1</td>\n",
       "      <td>0</td>\n",
       "      <td>1</td>\n",
       "      <td>0</td>\n",
       "      <td>1</td>\n",
       "      <td>0</td>\n",
       "      <td>2.496151</td>\n",
       "      <td>-1.086340</td>\n",
       "      <td>0</td>\n",
       "    </tr>\n",
       "    <tr>\n",
       "      <th>4</th>\n",
       "      <td>0</td>\n",
       "      <td>0</td>\n",
       "      <td>0</td>\n",
       "      <td>1</td>\n",
       "      <td>0</td>\n",
       "      <td>0</td>\n",
       "      <td>0</td>\n",
       "      <td>0</td>\n",
       "      <td>1</td>\n",
       "      <td>0</td>\n",
       "      <td>...</td>\n",
       "      <td>0</td>\n",
       "      <td>1</td>\n",
       "      <td>0</td>\n",
       "      <td>1</td>\n",
       "      <td>0</td>\n",
       "      <td>1</td>\n",
       "      <td>0</td>\n",
       "      <td>-0.297161</td>\n",
       "      <td>0.190109</td>\n",
       "      <td>3</td>\n",
       "    </tr>\n",
       "  </tbody>\n",
       "</table>\n",
       "<p>5 rows × 47 columns</p>\n",
       "</div>"
      ],
      "text/plain": [
       "   Campus Number_1  Campus Number_2  Campus Number_3  Campus Number_4  \\\n",
       "0                1                0                0                0   \n",
       "1                0                0                0                1   \n",
       "2                0                1                0                0   \n",
       "3                0                1                0                0   \n",
       "4                0                0                0                1   \n",
       "\n",
       "   Campus Number_5  Campus Number_6  Campus Number_7  Gender_Female  \\\n",
       "0                0                0                0              1   \n",
       "1                0                0                0              1   \n",
       "2                0                0                0              1   \n",
       "3                0                0                0              0   \n",
       "4                0                0                0              0   \n",
       "\n",
       "   Gender_Male  EthnicityRace_African American  ...  \\\n",
       "0            0                               0  ...   \n",
       "1            0                               0  ...   \n",
       "2            0                               0  ...   \n",
       "3            1                               0  ...   \n",
       "4            1                               0  ...   \n",
       "\n",
       "   Military Connected Student_1  >=50.0% Remote SY 2020-21_No  \\\n",
       "0                             0                             1   \n",
       "1                             0                             1   \n",
       "2                             0                             1   \n",
       "3                             0                             1   \n",
       "4                             0                             1   \n",
       "\n",
       "   >=50.0% Remote SY 2020-21_Yes  Oral Administration_No  \\\n",
       "0                              0                       1   \n",
       "1                              0                       1   \n",
       "2                              0                       1   \n",
       "3                              0                       1   \n",
       "4                              0                       1   \n",
       "\n",
       "   Oral Administration_Yes  Test Admin Mode_Online  Test Admin Mode_Paper  \\\n",
       "0                        0                       1                      0   \n",
       "1                        0                       1                      0   \n",
       "2                        0                       1                      0   \n",
       "3                        0                       1                      0   \n",
       "4                        0                       1                      0   \n",
       "\n",
       "   Discipline Placement Incidents  STAAR Progress from 2019  target  \n",
       "0                       -0.297161                 -1.086340       1  \n",
       "1                       -0.297161                 -1.086340       1  \n",
       "2                       -0.297161                  0.190109       3  \n",
       "3                        2.496151                 -1.086340       0  \n",
       "4                       -0.297161                  0.190109       3  \n",
       "\n",
       "[5 rows x 47 columns]"
      ]
     },
     "execution_count": 2,
     "metadata": {},
     "output_type": "execute_result"
    }
   ],
   "source": [
    "seed(4)\n",
    "df = pd.read_csv('c3_test_data')\n",
    "df.drop(columns=['Unnamed: 0'], inplace=True)\n",
    "df.head()\n"
   ]
  },
  {
   "cell_type": "code",
   "execution_count": 3,
   "id": "a82cbb58",
   "metadata": {},
   "outputs": [
    {
     "data": {
      "text/plain": [
       "(85, 47)"
      ]
     },
     "execution_count": 3,
     "metadata": {},
     "output_type": "execute_result"
    }
   ],
   "source": [
    "df.shape"
   ]
  },
  {
   "cell_type": "code",
   "execution_count": 4,
   "id": "ba95ac87",
   "metadata": {},
   "outputs": [],
   "source": [
    "def randsam(num, amount):\n",
    "    bs_array = np.empty([amount, num])\n",
    "    for i in range(amount):\n",
    "        bs_array[i] = np.random.choice(df.index, size=num)\n",
    "    return(bs_array)"
   ]
  },
  {
   "cell_type": "code",
   "execution_count": 5,
   "id": "b6d3abdb",
   "metadata": {},
   "outputs": [],
   "source": [
    "#Generating i randomly generated districts containing j classrooms of 20 students each\n",
    "districts = {}\n",
    "for i in range(1000):\n",
    "    district = []\n",
    "    \n",
    "    for j in range(25):\n",
    "        clsindex = np.random.choice(85, 20)\n",
    "        cls = df.iloc[clsindex]\n",
    "        district.append(cls)\n",
    "    districts[i] = district\n",
    "        "
   ]
  },
  {
   "cell_type": "code",
   "execution_count": 6,
   "id": "ca3df71c",
   "metadata": {},
   "outputs": [
    {
     "data": {
      "text/plain": [
       "pandas.core.frame.DataFrame"
      ]
     },
     "execution_count": 6,
     "metadata": {},
     "output_type": "execute_result"
    }
   ],
   "source": [
    "type(districts[0][0])\n",
    "    "
   ]
  },
  {
   "cell_type": "code",
   "execution_count": 7,
   "id": "d9f852b8",
   "metadata": {},
   "outputs": [
    {
     "name": "stderr",
     "output_type": "stream",
     "text": [
      "C:\\Users\\ARMSTR~1\\AppData\\Local\\Temp/ipykernel_6516/35514146.py:7: SettingWithCopyWarning: \n",
      "A value is trying to be set on a copy of a slice from a DataFrame.\n",
      "Try using .loc[row_indexer,col_indexer] = value instead\n",
      "\n",
      "See the caveats in the documentation: https://pandas.pydata.org/pandas-docs/stable/user_guide/indexing.html#returning-a-view-versus-a-copy\n",
      "  cls['poor'] = sum(cls['Economic Disadvantage_Yes'])\n",
      "C:\\Users\\ARMSTR~1\\AppData\\Local\\Temp/ipykernel_6516/35514146.py:8: SettingWithCopyWarning: \n",
      "A value is trying to be set on a copy of a slice from a DataFrame.\n",
      "Try using .loc[row_indexer,col_indexer] = value instead\n",
      "\n",
      "See the caveats in the documentation: https://pandas.pydata.org/pandas-docs/stable/user_guide/indexing.html#returning-a-view-versus-a-copy\n",
      "  cls['sped'] = sum(cls['Special Ed_Yes'])\n",
      "C:\\Users\\ARMSTR~1\\AppData\\Local\\Temp/ipykernel_6516/35514146.py:9: SettingWithCopyWarning: \n",
      "A value is trying to be set on a copy of a slice from a DataFrame.\n",
      "Try using .loc[row_indexer,col_indexer] = value instead\n",
      "\n",
      "See the caveats in the documentation: https://pandas.pydata.org/pandas-docs/stable/user_guide/indexing.html#returning-a-view-versus-a-copy\n",
      "  cls['handicap'] = cls['poor'] + cls['sped']\n",
      "C:\\Users\\ARMSTR~1\\AppData\\Local\\Temp/ipykernel_6516/35514146.py:10: SettingWithCopyWarning: \n",
      "A value is trying to be set on a copy of a slice from a DataFrame.\n",
      "Try using .loc[row_indexer,col_indexer] = value instead\n",
      "\n",
      "See the caveats in the documentation: https://pandas.pydata.org/pandas-docs/stable/user_guide/indexing.html#returning-a-view-versus-a-copy\n",
      "  cls['resource'] = 0\n",
      "C:\\Users\\ARMSTR~1\\AppData\\Local\\Temp/ipykernel_6516/35514146.py:16: SettingWithCopyWarning: \n",
      "A value is trying to be set on a copy of a slice from a DataFrame.\n",
      "Try using .loc[row_indexer,col_indexer] = value instead\n",
      "\n",
      "See the caveats in the documentation: https://pandas.pydata.org/pandas-docs/stable/user_guide/indexing.html#returning-a-view-versus-a-copy\n",
      "  cls['pass'] = np.select(conditions, values)\n"
     ]
    }
   ],
   "source": [
    "beforepass = []\n",
    "beforeavg = []\n",
    "for district in districts:\n",
    "    dbeforepass = []\n",
    "    dbeforeavg = []\n",
    "    for cls in districts[district]:\n",
    "        cls['poor'] = sum(cls['Economic Disadvantage_Yes'])\n",
    "        cls['sped'] = sum(cls['Special Ed_Yes'])\n",
    "        cls['handicap'] = cls['poor'] + cls['sped']\n",
    "        cls['resource'] = 0\n",
    "        conditions = [\n",
    "        (cls['target'] > 1),\n",
    "        (cls['target'] < 1),\n",
    "        (cls['target'] == 1)]\n",
    "        values = [1, 0, 0]\n",
    "        cls['pass'] = np.select(conditions, values)\n",
    "        #cls.drop(columns=['poor', 'sped'])\n",
    "        pass1 = sum(cls['pass'])\n",
    "        avgtarget = cls['target'].mean()\n",
    "        dbeforeavg.append(avgtarget)\n",
    "        dbeforepass.append(pass1)\n",
    "    beforepass.append(mean(dbeforepass))\n",
    "    beforeavg.append(mean(dbeforeavg))"
   ]
  },
  {
   "cell_type": "code",
   "execution_count": 8,
   "id": "2170da8b",
   "metadata": {},
   "outputs": [
    {
     "data": {
      "text/plain": [
       "8.43752"
      ]
     },
     "execution_count": 8,
     "metadata": {},
     "output_type": "execute_result"
    }
   ],
   "source": [
    "mean(beforepass)"
   ]
  },
  {
   "cell_type": "code",
   "execution_count": 9,
   "id": "91f2d07b",
   "metadata": {},
   "outputs": [
    {
     "data": {
      "text/plain": [
       "[9.56, 8.12, 8.28, 8.6, 8.64]"
      ]
     },
     "execution_count": 9,
     "metadata": {},
     "output_type": "execute_result"
    }
   ],
   "source": [
    "beforepass[:5]"
   ]
  },
  {
   "cell_type": "code",
   "execution_count": 10,
   "id": "c4dd0f96",
   "metadata": {},
   "outputs": [],
   "source": [
    "districts2 = copy.deepcopy(districts)\n",
    "#districts2[0][0]['canary'] = True\n",
    "#districts[0][0]"
   ]
  },
  {
   "cell_type": "code",
   "execution_count": 11,
   "id": "59792f67",
   "metadata": {},
   "outputs": [
    {
     "name": "stdout",
     "output_type": "stream",
     "text": [
      "The experiment called: districts2 is a <class 'dict'>\n",
      "Each districts within the experiment is a <class 'list'>\n",
      "Each class within the district is a <class 'pandas.core.frame.DataFrame'>\n"
     ]
    }
   ],
   "source": [
    "print(\"The experiment called: districts2 is a \" + str(type(districts2)))\n",
    "print(\"Each districts within the experiment is a \" + str(type(districts2[0])))\n",
    "print(\"Each class within the district is a \" + str(type(districts2[0][0])))"
   ]
  },
  {
   "cell_type": "code",
   "execution_count": 12,
   "id": "81e357df",
   "metadata": {},
   "outputs": [
    {
     "data": {
      "text/plain": [
       "\"#Assigning resources within each district to the classes with the top 20% proportion of poor/sped\\n#poor student = 1 point\\n#sped student = 1 point\\n#poor/sped student = 2 points\\nfor i in range(len(districts2)):\\n    for clsind in range(1,len(districts2[i])):\\n        #Now I want to sort the classes\\n        key_item = districts2[i][clsind].iloc[3]['handicap']\\n        pkey_item = districts2[i][clsind-1].iloc[3]['handicap']\\n        fixj = int(clsind-1)\\n        while fixj >= 0 and pkey_item > key_item:\\n            districts2[i][clsind]\\n            districts2[i][j + 1] = districts2[i][j]\\n            #j -= 1\\n        #districts2[i][j + 1] = key_item\""
      ]
     },
     "execution_count": 12,
     "metadata": {},
     "output_type": "execute_result"
    }
   ],
   "source": [
    "\"\"\"#Assigning resources within each district to the classes with the top 20% proportion of poor/sped\n",
    "#poor student = 1 point\n",
    "#sped student = 1 point\n",
    "#poor/sped student = 2 points\n",
    "for i in range(len(districts2)):\n",
    "    for clsind in range(1,len(districts2[i])):\n",
    "        #Now I want to sort the classes\n",
    "        key_item = districts2[i][clsind].iloc[3]['handicap']\n",
    "        pkey_item = districts2[i][clsind-1].iloc[3]['handicap']\n",
    "        fixj = int(clsind-1)\n",
    "        while fixj >= 0 and pkey_item > key_item:\n",
    "            districts2[i][clsind]\n",
    "            districts2[i][j + 1] = districts2[i][j]\n",
    "            #j -= 1\n",
    "        #districts2[i][j + 1] = key_item\"\"\""
   ]
  },
  {
   "cell_type": "code",
   "execution_count": 13,
   "id": "4322845a",
   "metadata": {},
   "outputs": [],
   "source": [
    "for dis in range(len(districts2)):\n",
    "    for i in range(len(districts2[dis])):\n",
    "        # Create a flag that will allow the function to\n",
    "        # terminate early if there's nothing left to sort\n",
    "        already_sorted = True\n",
    "\n",
    "        # Start looking at each item of the list one by one,\n",
    "        # comparing it with its adjacent value. With each\n",
    "        # iteration, the portion of the array that you look at\n",
    "        # shrinks because the remaining items have already been\n",
    "        # sorted.\n",
    "        for j in range(len(districts2[dis]) - i - 1):\n",
    "            if districts2[dis][j].iloc[3]['handicap'] > districts2[dis][j + 1].iloc[3]['handicap']:\n",
    "                # If the item you're looking at is greater than its\n",
    "                # adjacent value, then swap them\n",
    "                districts2[dis][j], districts2[dis][j + 1] = districts2[dis][j + 1], districts2[dis][j]\n",
    "\n",
    "                # Since you had to swap two elements,\n",
    "                # set the `already_sorted` flag to `False` so the\n",
    "                # algorithm doesn't finish prematurely\n",
    "                already_sorted = False\n",
    "\n",
    "        # If there were no swaps during the last iteration,\n",
    "        # the array is already sorted, and you can terminate\n",
    "        if already_sorted:\n",
    "            break\n",
    "#Sorting Algorithm adapted from https://realpython.com/sorting-algorithms-python/"
   ]
  },
  {
   "cell_type": "code",
   "execution_count": 14,
   "id": "016294bb",
   "metadata": {},
   "outputs": [
    {
     "name": "stdout",
     "output_type": "stream",
     "text": [
      "11.0\n",
      "12.0\n",
      "13.0\n",
      "13.0\n",
      "13.0\n",
      "13.0\n",
      "14.0\n",
      "14.0\n",
      "14.0\n",
      "14.0\n",
      "14.0\n",
      "15.0\n",
      "15.0\n",
      "16.0\n",
      "16.0\n",
      "16.0\n",
      "16.0\n",
      "17.0\n",
      "18.0\n",
      "18.0\n",
      "19.0\n",
      "19.0\n",
      "20.0\n",
      "20.0\n",
      "21.0\n"
     ]
    }
   ],
   "source": [
    "for cls in districts2[0]:\n",
    "    print(cls.iloc[3]['handicap'])"
   ]
  },
  {
   "cell_type": "code",
   "execution_count": 15,
   "id": "29715cb6",
   "metadata": {},
   "outputs": [],
   "source": [
    "#OMG It's sorted! Deliverying resources to the groups with the highest number of handicap\n",
    "for dis in districts2:\n",
    "    for cls in districts2[dis]:\n",
    "        cls['resource'] = 0\n",
    "    for cls in districts2[dis][-5:]:\n",
    "        cls['resource'] += 1"
   ]
  },
  {
   "cell_type": "code",
   "execution_count": 16,
   "id": "a731dd9b",
   "metadata": {},
   "outputs": [],
   "source": [
    "#Improving the test scores of 20% of the students in classes that recieve extra resources\n",
    "for i in range(len(districts2)):\n",
    "    for cls in districts2[i]:\n",
    "        cls.reset_index(inplace=True, drop=True)\n",
    "        if cls['resource'].sum() == 0:\n",
    "            continue\n",
    "        else: \n",
    "            clsupdate = cls.sample(n=5)\n",
    "            clsupdate['target'] +=1\n",
    "            cls.update(clsupdate)"
   ]
  },
  {
   "cell_type": "code",
   "execution_count": 17,
   "id": "d332a62b",
   "metadata": {},
   "outputs": [],
   "source": [
    "#Updating the new passing rate after updating scores\n",
    "for i in range(len(districts2)):\n",
    "    for cls in districts2[i]:\n",
    "        conditions = [\n",
    "        (cls['target'] > 1),\n",
    "        (cls['target'] < 1),\n",
    "        (cls['target'] == 1)]\n",
    "        values = [1, 0, 0]\n",
    "        cls['pass'] = np.select(conditions, values)"
   ]
  },
  {
   "cell_type": "code",
   "execution_count": 18,
   "id": "ff3c6b89",
   "metadata": {},
   "outputs": [],
   "source": [
    "#Counting the new average test scores and new amount passing\n",
    "afterpass = []\n",
    "afteravg = []\n",
    "for i in range(len(districts2)):\n",
    "    dnavgtarget = []\n",
    "    dnpass = []\n",
    "    for cls in districts2[i]:\n",
    "        navgtarget = cls['target'].mean()\n",
    "        dnavgtarget.append(navgtarget)\n",
    "        npass = cls['pass'].sum()\n",
    "        dnpass.append(npass)\n",
    "    afterpass.append(np.mean(dnpass))\n",
    "    afteravg.append(np.mean(dnavgtarget))"
   ]
  },
  {
   "cell_type": "code",
   "execution_count": 19,
   "id": "de4bf007",
   "metadata": {},
   "outputs": [
    {
     "name": "stdout",
     "output_type": "stream",
     "text": [
      "8.437520000000001\n",
      "1.3606399999999998\n",
      "8.718039999999998\n",
      "1.41064\n"
     ]
    }
   ],
   "source": [
    "print(np.mean(beforepass))\n",
    "print(np.mean(beforeavg))\n",
    "print(np.mean(afterpass))\n",
    "print(np.mean(afteravg))"
   ]
  },
  {
   "cell_type": "markdown",
   "id": "793e3c62",
   "metadata": {},
   "source": [
    "Ok Great. Just as expected we're seeing a modest improvement to both the average test scores and the number of students passing.\n",
    "\n",
    "My expectation is that by using machine learning to direct resources to classes with the highest number of predicted \"approaching\" students will not improve the average target any more than the current approach. The assumption here is that the extra math resources will have an equal impact on any students they are applied to.\n",
    "\n",
    "However I do expect that by using machine learning to direct resources to classrooms with the highest number of predicted \"approaching\" students we should get a higher average number of students who pass the STAAR.\n",
    "\n",
    "Note: This method provides an 4% increase in the average staar scores but only a 3% increase in the number of passing students"
   ]
  },
  {
   "cell_type": "code",
   "execution_count": 20,
   "id": "df1d4cad",
   "metadata": {},
   "outputs": [
    {
     "name": "stdout",
     "output_type": "stream",
     "text": [
      "With the old method the passrate increased by 0.03\n",
      "With the old method the target increased by 0.04\n"
     ]
    }
   ],
   "source": [
    "passincrease = (mean(afterpass) - mean(beforepass))/mean(beforepass)\n",
    "targetincrease = (mean(afteravg) - mean(beforeavg))/mean(beforeavg)\n",
    "print(\"With the old method the passrate increased by \" + str(round(passincrease, 2)))\n",
    "print(\"With the old method the target increased by \" + str(round(targetincrease, 2)))"
   ]
  },
  {
   "cell_type": "code",
   "execution_count": 21,
   "id": "4a13d5e1",
   "metadata": {},
   "outputs": [],
   "source": [
    "#Now I am going to use the RandomForest model to predict scores and assign resources to the classes with the highest number of \n",
    "#\"approaching\" students\n",
    "#importing training data\n",
    "X_train = pd.read_csv('c3_sim_x.csv')\n",
    "y_train = pd.read_csv('c3_sim_y.csv')"
   ]
  },
  {
   "cell_type": "code",
   "execution_count": 22,
   "id": "62488a46",
   "metadata": {},
   "outputs": [],
   "source": [
    "clf = RandomForestClassifier(n_estimators=1000, min_samples_split = 10, min_samples_leaf = 2, max_features = 'sqrt', \\\n",
    "                            max_depth = 10, bootstrap = True)\n",
    "model = clf.fit(X_train.drop(columns=['Unnamed: 0']), y_train)"
   ]
  },
  {
   "cell_type": "code",
   "execution_count": 23,
   "id": "8e71b78b",
   "metadata": {},
   "outputs": [
    {
     "data": {
      "text/plain": [
       "47"
      ]
     },
     "execution_count": 23,
     "metadata": {},
     "output_type": "execute_result"
    }
   ],
   "source": [
    "len(X_train.columns)"
   ]
  },
  {
   "cell_type": "code",
   "execution_count": 24,
   "id": "567a4ff6",
   "metadata": {},
   "outputs": [
    {
     "data": {
      "text/plain": [
       "47"
      ]
     },
     "execution_count": 24,
     "metadata": {},
     "output_type": "execute_result"
    }
   ],
   "source": [
    "len(df.columns)"
   ]
  },
  {
   "cell_type": "code",
   "execution_count": 25,
   "id": "ccb4bd91",
   "metadata": {},
   "outputs": [],
   "source": [
    "df2 = df\n",
    "y_pred = model.predict(df2.drop(columns=['target']))"
   ]
  },
  {
   "cell_type": "code",
   "execution_count": 26,
   "id": "814458da",
   "metadata": {},
   "outputs": [],
   "source": [
    "preds = []\n",
    "for i in y_pred:\n",
    "    preds.append(i[1])"
   ]
  },
  {
   "cell_type": "code",
   "execution_count": 27,
   "id": "1ff81b5a",
   "metadata": {},
   "outputs": [],
   "source": [
    "df2['pred'] = preds\n",
    "df2['target'] = df['target']"
   ]
  },
  {
   "cell_type": "code",
   "execution_count": 28,
   "id": "91ac9769",
   "metadata": {},
   "outputs": [],
   "source": [
    "#Generating i randomly generated districts containing j classrooms of 20 students each\n",
    "districtsml = {}\n",
    "for i in range(1000):\n",
    "    district = []\n",
    "    \n",
    "    for j in range(25):\n",
    "        clsindex = np.random.choice(85, 20)\n",
    "        cls = df2.iloc[clsindex]\n",
    "        district.append(cls)\n",
    "    districtsml[i] = district"
   ]
  },
  {
   "cell_type": "code",
   "execution_count": 29,
   "id": "6b705384",
   "metadata": {},
   "outputs": [
    {
     "name": "stderr",
     "output_type": "stream",
     "text": [
      "C:\\Users\\ARMSTR~1\\AppData\\Local\\Temp/ipykernel_6516/2989145491.py:9: SettingWithCopyWarning: \n",
      "A value is trying to be set on a copy of a slice from a DataFrame.\n",
      "Try using .loc[row_indexer,col_indexer] = value instead\n",
      "\n",
      "See the caveats in the documentation: https://pandas.pydata.org/pandas-docs/stable/user_guide/indexing.html#returning-a-view-versus-a-copy\n",
      "  cls['approach'] = np.select(conditions, values)\n"
     ]
    }
   ],
   "source": [
    "#Counting the number of approaching students in each classroom\n",
    "for i in range(len(districtsml)):\n",
    "    for cls in districtsml[i]:\n",
    "        conditions = [\n",
    "        (cls['pred'] > 1),\n",
    "        (cls['pred'] < 1),\n",
    "        (cls['pred'] == 1)]\n",
    "        values = [0, 0, 1]\n",
    "        cls['approach'] = np.select(conditions, values)"
   ]
  },
  {
   "cell_type": "code",
   "execution_count": 30,
   "id": "23bbe52e",
   "metadata": {},
   "outputs": [
    {
     "name": "stderr",
     "output_type": "stream",
     "text": [
      "C:\\Users\\ARMSTR~1\\AppData\\Local\\Temp/ipykernel_6516/1548356332.py:3: SettingWithCopyWarning: \n",
      "A value is trying to be set on a copy of a slice from a DataFrame.\n",
      "Try using .loc[row_indexer,col_indexer] = value instead\n",
      "\n",
      "See the caveats in the documentation: https://pandas.pydata.org/pandas-docs/stable/user_guide/indexing.html#returning-a-view-versus-a-copy\n",
      "  cls['sum'] = cls['approach'].sum()\n"
     ]
    }
   ],
   "source": [
    "for i in range(len(districtsml)):\n",
    "    for cls in districtsml[i]:\n",
    "        cls['sum'] = cls['approach'].sum()"
   ]
  },
  {
   "cell_type": "code",
   "execution_count": 31,
   "id": "0b234265",
   "metadata": {},
   "outputs": [
    {
     "name": "stderr",
     "output_type": "stream",
     "text": [
      "C:\\Users\\ARMSTR~1\\AppData\\Local\\Temp/ipykernel_6516/850371655.py:12: SettingWithCopyWarning: \n",
      "A value is trying to be set on a copy of a slice from a DataFrame.\n",
      "Try using .loc[row_indexer,col_indexer] = value instead\n",
      "\n",
      "See the caveats in the documentation: https://pandas.pydata.org/pandas-docs/stable/user_guide/indexing.html#returning-a-view-versus-a-copy\n",
      "  cls['pass'] = np.select(conditions, values)\n"
     ]
    }
   ],
   "source": [
    "beforepassml = []\n",
    "beforeavgml = []\n",
    "for district in districtsml:\n",
    "    dbeforepassml = []\n",
    "    dbeforeavgml = []\n",
    "    for cls in districtsml[district]:\n",
    "        conditions = [\n",
    "        (cls['target'] > 1),\n",
    "        (cls['target'] < 1),\n",
    "        (cls['target'] == 1)]\n",
    "        values = [1, 0, 0]\n",
    "        cls['pass'] = np.select(conditions, values)\n",
    "        #cls.drop(columns=['poor', 'sped'])\n",
    "        pass1ml = sum(cls['pass'])\n",
    "        avgtargetml = cls['target'].mean()\n",
    "        dbeforeavgml.append(avgtargetml)\n",
    "        dbeforepassml.append(pass1ml)\n",
    "    beforepassml.append(mean(dbeforepassml))\n",
    "    beforeavgml.append(mean(dbeforeavgml))"
   ]
  },
  {
   "cell_type": "code",
   "execution_count": 32,
   "id": "5858c71a",
   "metadata": {},
   "outputs": [
    {
     "data": {
      "text/plain": [
       "8.48056"
      ]
     },
     "execution_count": 32,
     "metadata": {},
     "output_type": "execute_result"
    }
   ],
   "source": [
    "mean(beforepassml)"
   ]
  },
  {
   "cell_type": "code",
   "execution_count": 33,
   "id": "c6a43f00",
   "metadata": {},
   "outputs": [
    {
     "data": {
      "text/plain": [
       "8.43752"
      ]
     },
     "execution_count": 33,
     "metadata": {},
     "output_type": "execute_result"
    }
   ],
   "source": [
    "mean(beforepass)"
   ]
  },
  {
   "cell_type": "code",
   "execution_count": 34,
   "id": "23c14285",
   "metadata": {},
   "outputs": [],
   "source": [
    "#Sorting by classes with most level 1s\n",
    "for dis in range(len(districtsml)):\n",
    "    for i in range(len(districtsml[dis])):\n",
    "        # Create a flag that will allow the function to\n",
    "        # terminate early if there's nothing left to sort\n",
    "        already_sorted = True\n",
    "\n",
    "        # Start looking at each item of the list one by one,\n",
    "        # comparing it with its adjacent value. With each\n",
    "        # iteration, the portion of the array that you look at\n",
    "        # shrinks because the remaining items have already been\n",
    "        # sorted.\n",
    "        for j in range(len(districtsml[dis]) - i - 1):\n",
    "            if districtsml[dis][j].iloc[3]['sum'] > districtsml[dis][j + 1].iloc[3]['sum']:\n",
    "                # If the item you're looking at is greater than its\n",
    "                # adjacent value, then swap them\n",
    "                districtsml[dis][j], districtsml[dis][j + 1] = districtsml[dis][j + 1], districtsml[dis][j]\n",
    "\n",
    "                # Since you had to swap two elements,\n",
    "                # set the `already_sorted` flag to `False` so the\n",
    "                # algorithm doesn't finish prematurely\n",
    "                already_sorted = False\n",
    "\n",
    "        # If there were no swaps during the last iteration,\n",
    "        # the array is already sorted, and you can terminate\n",
    "        if already_sorted:\n",
    "            break"
   ]
  },
  {
   "cell_type": "code",
   "execution_count": 35,
   "id": "f91dbf21",
   "metadata": {},
   "outputs": [
    {
     "name": "stderr",
     "output_type": "stream",
     "text": [
      "C:\\Users\\ARMSTR~1\\AppData\\Local\\Temp/ipykernel_6516/3195068291.py:4: SettingWithCopyWarning: \n",
      "A value is trying to be set on a copy of a slice from a DataFrame.\n",
      "Try using .loc[row_indexer,col_indexer] = value instead\n",
      "\n",
      "See the caveats in the documentation: https://pandas.pydata.org/pandas-docs/stable/user_guide/indexing.html#returning-a-view-versus-a-copy\n",
      "  cls['resource'] = 0\n",
      "C:\\Users\\ARMSTR~1\\AppData\\Local\\Temp/ipykernel_6516/3195068291.py:6: SettingWithCopyWarning: \n",
      "A value is trying to be set on a copy of a slice from a DataFrame.\n",
      "Try using .loc[row_indexer,col_indexer] = value instead\n",
      "\n",
      "See the caveats in the documentation: https://pandas.pydata.org/pandas-docs/stable/user_guide/indexing.html#returning-a-view-versus-a-copy\n",
      "  cls['resource']+=1\n"
     ]
    }
   ],
   "source": [
    "#Giving resource to classes with highest sum\n",
    "for i in range(len(districtsml)):\n",
    "    for cls in districtsml[i]:\n",
    "        cls['resource'] = 0\n",
    "    for cls in districtsml[i][-5:]:\n",
    "        cls['resource']+=1"
   ]
  },
  {
   "cell_type": "code",
   "execution_count": 36,
   "id": "b353f85f",
   "metadata": {},
   "outputs": [],
   "source": [
    "#improving the scores of 20% of the students who recieve the math resource\n",
    "districtsml2 = copy.deepcopy(districtsml)\n",
    "for i in range(len(districtsml2)):\n",
    "    for cls in districtsml2[i]:\n",
    "        cls.reset_index(inplace=True, drop=True)\n",
    "        if cls['resource'].sum() == 0:\n",
    "            continue\n",
    "        else: \n",
    "            clsupdate = cls.sample(n=5)\n",
    "            clsupdate['target'] +=1\n",
    "            cls.update(clsupdate)"
   ]
  },
  {
   "cell_type": "code",
   "execution_count": 37,
   "id": "d301e68f",
   "metadata": {},
   "outputs": [],
   "source": [
    "#Recalculating passing students\n",
    "for i in range(len(districtsml2)):\n",
    "    for cls in districtsml2[i]:\n",
    "        conditions = [\n",
    "        (cls['target'] > 1),\n",
    "        (cls['target'] < 1),\n",
    "        (cls['target'] == 1)]\n",
    "        values = [1, 0, 0]\n",
    "        cls['pass'] = np.select(conditions, values)"
   ]
  },
  {
   "cell_type": "code",
   "execution_count": 38,
   "id": "2ead4244",
   "metadata": {},
   "outputs": [],
   "source": [
    "afterpassml = []\n",
    "afteravgml = []\n",
    "for i in range(len(districtsml2)):\n",
    "    dnavgtargetml = []\n",
    "    dnpassml = []\n",
    "    for cls in districtsml2[i]:\n",
    "        navgtargetml = cls['target'].mean()\n",
    "        dnavgtargetml.append(navgtargetml)\n",
    "        npassml = cls['pass'].sum()\n",
    "        dnpassml.append(npassml)\n",
    "    afterpassml.append(np.mean(dnpassml))\n",
    "    afteravgml.append(np.mean(dnavgtargetml))"
   ]
  },
  {
   "cell_type": "code",
   "execution_count": 39,
   "id": "07b4db1e",
   "metadata": {},
   "outputs": [
    {
     "name": "stdout",
     "output_type": "stream",
     "text": [
      "8.48056\n",
      "1.365446\n",
      "8.80496\n",
      "1.415446\n"
     ]
    }
   ],
   "source": [
    "print(mean(beforepassml))\n",
    "print(mean(beforeavgml))\n",
    "print(mean(afterpassml))\n",
    "print(mean(afteravgml))"
   ]
  },
  {
   "cell_type": "markdown",
   "id": "b56605aa",
   "metadata": {},
   "source": [
    "Now to compare how the machine learning method compared. \n",
    "Avg target increased by 4%\n",
    "Passing growth went up to 4%"
   ]
  },
  {
   "cell_type": "code",
   "execution_count": 40,
   "id": "3aad3e71",
   "metadata": {},
   "outputs": [
    {
     "name": "stdout",
     "output_type": "stream",
     "text": [
      "With the new method the passrate increased by 0.04\n",
      "With the new method the target increased by 0.04\n"
     ]
    }
   ],
   "source": [
    "passincreaseml = (mean(afterpassml) - mean(beforepassml))/mean(beforepassml)\n",
    "targetincreaseml = (mean(afteravgml) - mean(beforeavgml))/mean(beforeavgml)\n",
    "print(\"With the new method the passrate increased by \" + str(round(passincreaseml, 2)))\n",
    "print(\"With the new method the target increased by \" + str(round(targetincreaseml, 2)))"
   ]
  },
  {
   "cell_type": "markdown",
   "id": "41bbd1d3",
   "metadata": {},
   "source": [
    "Now to determine the p-value that the difference is statistically significant. \n",
    "My hypothesis: The passrate increases at a higher rate on average for the new method than for the old method\n",
    "Null hypothesis: The passrate increase for both samples have the same mean"
   ]
  },
  {
   "cell_type": "code",
   "execution_count": 41,
   "id": "b26d42d4",
   "metadata": {},
   "outputs": [],
   "source": [
    "#Generating increases for the each method\n",
    "oldincreases = []\n",
    "for i in range(len(beforepass)):\n",
    "    answer = (afterpass[i]-beforepass[i])/beforepass[i]\n",
    "    oldincreases.append(answer)\n",
    "newincreases = []\n",
    "for i in range(len(beforepassml)):\n",
    "    answerml = (afterpassml[i]-beforepassml[i])/beforepassml[i]\n",
    "    newincreases.append(answerml)"
   ]
  },
  {
   "cell_type": "code",
   "execution_count": 42,
   "id": "12911f8c",
   "metadata": {},
   "outputs": [
    {
     "data": {
      "text/plain": [
       "[0.03347280334728036,\n",
       " 0.024630541871921315,\n",
       " 0.02898550724637684,\n",
       " 0.03255813953488385,\n",
       " 0.041666666666666595]"
      ]
     },
     "execution_count": 42,
     "metadata": {},
     "output_type": "execute_result"
    }
   ],
   "source": [
    "oldincreases[:5]"
   ]
  },
  {
   "cell_type": "code",
   "execution_count": 43,
   "id": "384740dd",
   "metadata": {},
   "outputs": [
    {
     "data": {
      "text/plain": [
       "[0.07246376811594221,\n",
       " 0.05263157894736858,\n",
       " 0.04477611940298523,\n",
       " 0.04545454545454529,\n",
       " 0.052083333333333384]"
      ]
     },
     "execution_count": 43,
     "metadata": {},
     "output_type": "execute_result"
    }
   ],
   "source": [
    "newincreases[:5]"
   ]
  },
  {
   "cell_type": "code",
   "execution_count": 44,
   "id": "dc7ccbe4",
   "metadata": {},
   "outputs": [],
   "source": [
    "def permutation_sample(data1, data2):\n",
    "    data = np.concatenate((data1, data2))\n",
    "    permuted_data = np.random.permutation(data)\n",
    "    perm_sample_1 = permuted_data[:len(data1)]\n",
    "    perm_sample_2 = permuted_data[len(data1):]\n",
    "    return perm_sample_1, perm_sample_2\n",
    "def draw_perm_reps(data_1, data_2, func, size=1):\n",
    "    perm_replicates = np.empty(size)\n",
    "    for i in range(size):\n",
    "        # Generate permutation sample\n",
    "        perm_sample_1, perm_sample_2 = permutation_sample(data_1, data_2)\n",
    " \n",
    "        # Compute the test statistic\n",
    "        perm_replicates[i] = func(perm_sample_1, perm_sample_2)\n",
    " \n",
    "    return perm_replicates\n",
    "def diff_of_means(data_1, data_2):\n",
    "    diff = np.mean(data_1) - np.mean(data_2)\n",
    "    return diff\n",
    "empirical_diff_means = diff_of_means(oldincreases, newincreases)\n",
    "perm_replicates = draw_perm_reps(oldincreases, newincreases,\n",
    "                                 diff_of_means, size=10000)\n",
    "p = np.sum(perm_replicates >= empirical_diff_means) / len(perm_replicates)\n",
    "#Code above adapted from datacamp.com"
   ]
  },
  {
   "cell_type": "code",
   "execution_count": 45,
   "id": "e798612b",
   "metadata": {},
   "outputs": [
    {
     "name": "stdout",
     "output_type": "stream",
     "text": [
      "1.0\n"
     ]
    }
   ],
   "source": [
    "print(p)"
   ]
  },
  {
   "cell_type": "code",
   "execution_count": 46,
   "id": "426dff9c",
   "metadata": {},
   "outputs": [
    {
     "data": {
      "text/plain": [
       "(-19.858450482142903, 9.314008270802703e-88)"
      ]
     },
     "execution_count": 46,
     "metadata": {},
     "output_type": "execute_result"
    }
   ],
   "source": [
    "ztest(oldincreases, newincreases, value=mean(newincreases)-mean(oldincreases))"
   ]
  },
  {
   "cell_type": "code",
   "execution_count": 47,
   "id": "cfc9116f",
   "metadata": {},
   "outputs": [
    {
     "data": {
      "text/plain": [
       "True"
      ]
     },
     "execution_count": 47,
     "metadata": {},
     "output_type": "execute_result"
    }
   ],
   "source": [
    "8.782446492316547e-227 > 0"
   ]
  },
  {
   "cell_type": "code",
   "execution_count": 48,
   "id": "a618ef1d",
   "metadata": {},
   "outputs": [
    {
     "data": {
      "text/plain": [
       "False"
      ]
     },
     "execution_count": 48,
     "metadata": {},
     "output_type": "execute_result"
    }
   ],
   "source": [
    "8.782446492316547e-227 > 0.05"
   ]
  },
  {
   "cell_type": "markdown",
   "id": "4775fdad",
   "metadata": {},
   "source": [
    "From this I can determine that seeing this difference of means is statistically significant"
   ]
  },
  {
   "cell_type": "code",
   "execution_count": 52,
   "id": "359636c4",
   "metadata": {},
   "outputs": [
    {
     "data": {
      "image/png": "[encoded data removed]",
      "text/plain": [
       "<Figure size 432x288 with 1 Axes>"
      ]
     },
     "metadata": {
      "needs_background": "light"
     },
     "output_type": "display_data"
    }
   ],
   "source": [
    "plt.hist(oldincreases, bins = 100, histtype = 'step')\n",
    "plt.hist(newincreases, bins = 100, histtype = 'step')\n",
    "_ = plt.legend(('old', 'new'))\n",
    "_ = plt.title('Pass Increase')\n",
    "plt.show()"
   ]
  },
  {
   "cell_type": "code",
   "execution_count": 50,
   "id": "f865c445",
   "metadata": {},
   "outputs": [],
   "source": [
    "targetincreaseold = []\n",
    "for i in range(len(beforeavg)):\n",
    "    answer = (afteravg[i]-beforeavg[i])/beforeavg[i]\n",
    "    targetincreaseold.append(answer)\n",
    "targetincreasenew = []\n",
    "for i in range(len(beforeavgml)):\n",
    "    answer = (afteravgml[i]-beforeavgml[i])/beforeavgml[i]\n",
    "    targetincreasenew.append(answer)"
   ]
  },
  {
   "cell_type": "code",
   "execution_count": 53,
   "id": "ea6440af",
   "metadata": {},
   "outputs": [
    {
     "data": {
      "image/png": "[encoded data removed]",
      "text/plain": [
       "<Figure size 432x288 with 1 Axes>"
      ]
     },
     "metadata": {
      "needs_background": "light"
     },
     "output_type": "display_data"
    }
   ],
   "source": [
    "plt.hist(targetincreaseold, bins = 100, histtype = 'step')\n",
    "plt.hist(targetincreasenew, bins = 100, histtype = 'step')\n",
    "_ = plt.legend(('old', 'new'))\n",
    "_ = plt.title('Score Increase')\n",
    "plt.show()"
   ]
  },
  {
   "cell_type": "code",
   "execution_count": null,
   "id": "803f68f6",
   "metadata": {},
   "outputs": [],
   "source": []
  }
 ],
 "metadata": {
  "kernelspec": {
   "display_name": "Python 3 (ipykernel)",
   "language": "python",
   "name": "python3"
  },
  "language_info": {
   "codemirror_mode": {
    "name": "ipython",
    "version": 3
   },
   "file_extension": ".py",
   "mimetype": "text/x-python",
   "name": "python",
   "nbconvert_exporter": "python",
   "pygments_lexer": "ipython3",
   "version": "3.9.7"
  }
 },
 "nbformat": 4,
 "nbformat_minor": 5
}
