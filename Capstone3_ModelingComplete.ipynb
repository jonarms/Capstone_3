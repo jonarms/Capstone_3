{
 "cells": [
  {
   "cell_type": "markdown",
   "id": "871e68fd",
   "metadata": {},
   "source": [
    "# Capstone Project 2: Cleburne Student Data - Predicting STAAR placement"
   ]
  },
  {
   "cell_type": "code",
   "execution_count": 138,
   "id": "9506ef09",
   "metadata": {},
   "outputs": [],
   "source": [
    "#Imports\n",
    "import pandas as pd\n",
    "import numpy as np\n",
    "from sklearn.preprocessing import StandardScaler\n",
    "from sklearn.model_selection import train_test_split\n",
    "from sklearn.linear_model import LogisticRegression\n",
    "from sklearn.metrics import f1_score\n",
    "import matplotlib.pyplot as plt\n",
    "from sklearn.metrics import confusion_matrix\n",
    "import itertools\n",
    "from sklearn.model_selection import GridSearchCV\n",
    "from sklearn.ensemble import RandomForestClassifier\n",
    "from sklearn.model_selection import RandomizedSearchCV\n",
    "from sklearn.metrics import accuracy_score,log_loss\n",
    "from sklearn.ensemble import GradientBoostingClassifier\n",
    "from sklearn.neighbors import KNeighborsClassifier\n",
    "import seaborn as sns"
   ]
  },
  {
   "cell_type": "markdown",
   "id": "1b4367a6",
   "metadata": {},
   "source": [
    "### Loading Data"
   ]
  },
  {
   "cell_type": "code",
   "execution_count": 61,
   "id": "d6405831",
   "metadata": {},
   "outputs": [
    {
     "data": {
      "text/html": [
       "<div>\n",
       "<style scoped>\n",
       "    .dataframe tbody tr th:only-of-type {\n",
       "        vertical-align: middle;\n",
       "    }\n",
       "\n",
       "    .dataframe tbody tr th {\n",
       "        vertical-align: top;\n",
       "    }\n",
       "\n",
       "    .dataframe thead th {\n",
       "        text-align: right;\n",
       "    }\n",
       "</style>\n",
       "<table border=\"1\" class=\"dataframe\">\n",
       "  <thead>\n",
       "    <tr style=\"text-align: right;\">\n",
       "      <th></th>\n",
       "      <th>Unnamed: 0</th>\n",
       "      <th>Student Number</th>\n",
       "      <th>Campus Number</th>\n",
       "      <th>Economic Disadvantage Category</th>\n",
       "    </tr>\n",
       "  </thead>\n",
       "  <tbody>\n",
       "    <tr>\n",
       "      <th>count</th>\n",
       "      <td>423.000000</td>\n",
       "      <td>423.000000</td>\n",
       "      <td>423.000000</td>\n",
       "      <td>423.000000</td>\n",
       "    </tr>\n",
       "    <tr>\n",
       "      <th>mean</th>\n",
       "      <td>213.777778</td>\n",
       "      <td>214.777778</td>\n",
       "      <td>4.264775</td>\n",
       "      <td>1.170213</td>\n",
       "    </tr>\n",
       "    <tr>\n",
       "      <th>std</th>\n",
       "      <td>123.685037</td>\n",
       "      <td>123.685037</td>\n",
       "      <td>1.889322</td>\n",
       "      <td>1.393744</td>\n",
       "    </tr>\n",
       "    <tr>\n",
       "      <th>min</th>\n",
       "      <td>0.000000</td>\n",
       "      <td>1.000000</td>\n",
       "      <td>1.000000</td>\n",
       "      <td>0.000000</td>\n",
       "    </tr>\n",
       "    <tr>\n",
       "      <th>25%</th>\n",
       "      <td>107.500000</td>\n",
       "      <td>108.500000</td>\n",
       "      <td>3.000000</td>\n",
       "      <td>0.000000</td>\n",
       "    </tr>\n",
       "    <tr>\n",
       "      <th>50%</th>\n",
       "      <td>213.000000</td>\n",
       "      <td>214.000000</td>\n",
       "      <td>4.000000</td>\n",
       "      <td>0.000000</td>\n",
       "    </tr>\n",
       "    <tr>\n",
       "      <th>75%</th>\n",
       "      <td>320.500000</td>\n",
       "      <td>321.500000</td>\n",
       "      <td>6.000000</td>\n",
       "      <td>3.000000</td>\n",
       "    </tr>\n",
       "    <tr>\n",
       "      <th>max</th>\n",
       "      <td>432.000000</td>\n",
       "      <td>433.000000</td>\n",
       "      <td>7.000000</td>\n",
       "      <td>3.000000</td>\n",
       "    </tr>\n",
       "  </tbody>\n",
       "</table>\n",
       "</div>"
      ],
      "text/plain": [
       "       Unnamed: 0  Student Number  Campus Number  \\\n",
       "count  423.000000      423.000000     423.000000   \n",
       "mean   213.777778      214.777778       4.264775   \n",
       "std    123.685037      123.685037       1.889322   \n",
       "min      0.000000        1.000000       1.000000   \n",
       "25%    107.500000      108.500000       3.000000   \n",
       "50%    213.000000      214.000000       4.000000   \n",
       "75%    320.500000      321.500000       6.000000   \n",
       "max    432.000000      433.000000       7.000000   \n",
       "\n",
       "       Economic Disadvantage Category  \n",
       "count                      423.000000  \n",
       "mean                         1.170213  \n",
       "std                          1.393744  \n",
       "min                          0.000000  \n",
       "25%                          0.000000  \n",
       "50%                          0.000000  \n",
       "75%                          3.000000  \n",
       "max                          3.000000  "
      ]
     },
     "execution_count": 61,
     "metadata": {},
     "output_type": "execute_result"
    }
   ],
   "source": [
    "df = pd.read_csv('c3wrangled.csv')\n",
    "df.iloc[:,:10].describe()"
   ]
  },
  {
   "cell_type": "code",
   "execution_count": 62,
   "id": "0e21ff22",
   "metadata": {},
   "outputs": [],
   "source": [
    "df.drop(columns = ['Unnamed: 0', 'Student Number'], inplace=True)"
   ]
  },
  {
   "cell_type": "code",
   "execution_count": 63,
   "id": "a646553e",
   "metadata": {},
   "outputs": [],
   "source": [
    "nums = df[['Discipline Placement Incidents', 'STAAR Progress from 2019']]"
   ]
  },
  {
   "cell_type": "code",
   "execution_count": 64,
   "id": "93621ed9",
   "metadata": {},
   "outputs": [],
   "source": [
    "scaler = StandardScaler()\n",
    "nums_scaled = pd.DataFrame(scaler.fit_transform(nums), columns= nums.columns)"
   ]
  },
  {
   "cell_type": "code",
   "execution_count": 65,
   "id": "b480c281",
   "metadata": {},
   "outputs": [],
   "source": [
    "dfcat = df.drop(columns = ['Economic Disadvantage Category', 'Discipline Placement Incidents', 'STAAR Progress from 2019'])"
   ]
  },
  {
   "cell_type": "code",
   "execution_count": 66,
   "id": "56e085ad",
   "metadata": {},
   "outputs": [],
   "source": [
    "dfcat = df.astype({\"Campus Number\": str, \"Target\": str, \"Military Connected Student\": str, 'Economic Disadvantage Category': str})"
   ]
  },
  {
   "cell_type": "code",
   "execution_count": 67,
   "id": "2982c0dc",
   "metadata": {},
   "outputs": [],
   "source": [
    "dfcat.drop(columns=['Grade Level', 'STAAR Progress from 2019', 'Discipline Placement Incidents'], inplace=True)"
   ]
  },
  {
   "cell_type": "code",
   "execution_count": 68,
   "id": "6aa48b63",
   "metadata": {},
   "outputs": [],
   "source": [
    "dfcat = pd.get_dummies(dfcat.drop(columns=['Target']))\n",
    "dfcat['Target'] = df['Target']"
   ]
  },
  {
   "cell_type": "code",
   "execution_count": 69,
   "id": "574003cd",
   "metadata": {},
   "outputs": [
    {
     "data": {
      "text/html": [
       "<div>\n",
       "<style scoped>\n",
       "    .dataframe tbody tr th:only-of-type {\n",
       "        vertical-align: middle;\n",
       "    }\n",
       "\n",
       "    .dataframe tbody tr th {\n",
       "        vertical-align: top;\n",
       "    }\n",
       "\n",
       "    .dataframe thead th {\n",
       "        text-align: right;\n",
       "    }\n",
       "</style>\n",
       "<table border=\"1\" class=\"dataframe\">\n",
       "  <thead>\n",
       "    <tr style=\"text-align: right;\">\n",
       "      <th></th>\n",
       "      <th>Campus Number_1</th>\n",
       "      <th>Campus Number_2</th>\n",
       "      <th>Campus Number_3</th>\n",
       "      <th>Campus Number_4</th>\n",
       "      <th>Campus Number_5</th>\n",
       "      <th>Campus Number_6</th>\n",
       "      <th>Campus Number_7</th>\n",
       "      <th>Gender_Female</th>\n",
       "      <th>Gender_Male</th>\n",
       "      <th>EthnicityRace_African American</th>\n",
       "      <th>...</th>\n",
       "      <th>Tested Language_S</th>\n",
       "      <th>Military Connected Student_0</th>\n",
       "      <th>Military Connected Student_1</th>\n",
       "      <th>&gt;=50.0% Remote SY 2020-21_No</th>\n",
       "      <th>&gt;=50.0% Remote SY 2020-21_Yes</th>\n",
       "      <th>Oral Administration_No</th>\n",
       "      <th>Oral Administration_Yes</th>\n",
       "      <th>Test Admin Mode_Online</th>\n",
       "      <th>Test Admin Mode_Paper</th>\n",
       "      <th>Target</th>\n",
       "    </tr>\n",
       "  </thead>\n",
       "  <tbody>\n",
       "    <tr>\n",
       "      <th>0</th>\n",
       "      <td>1</td>\n",
       "      <td>0</td>\n",
       "      <td>0</td>\n",
       "      <td>0</td>\n",
       "      <td>0</td>\n",
       "      <td>0</td>\n",
       "      <td>0</td>\n",
       "      <td>1</td>\n",
       "      <td>0</td>\n",
       "      <td>0</td>\n",
       "      <td>...</td>\n",
       "      <td>0</td>\n",
       "      <td>1</td>\n",
       "      <td>0</td>\n",
       "      <td>0</td>\n",
       "      <td>1</td>\n",
       "      <td>1</td>\n",
       "      <td>0</td>\n",
       "      <td>1</td>\n",
       "      <td>0</td>\n",
       "      <td>0</td>\n",
       "    </tr>\n",
       "    <tr>\n",
       "      <th>1</th>\n",
       "      <td>0</td>\n",
       "      <td>0</td>\n",
       "      <td>1</td>\n",
       "      <td>0</td>\n",
       "      <td>0</td>\n",
       "      <td>0</td>\n",
       "      <td>0</td>\n",
       "      <td>1</td>\n",
       "      <td>0</td>\n",
       "      <td>0</td>\n",
       "      <td>...</td>\n",
       "      <td>0</td>\n",
       "      <td>1</td>\n",
       "      <td>0</td>\n",
       "      <td>1</td>\n",
       "      <td>0</td>\n",
       "      <td>0</td>\n",
       "      <td>1</td>\n",
       "      <td>0</td>\n",
       "      <td>1</td>\n",
       "      <td>0</td>\n",
       "    </tr>\n",
       "    <tr>\n",
       "      <th>2</th>\n",
       "      <td>0</td>\n",
       "      <td>0</td>\n",
       "      <td>0</td>\n",
       "      <td>0</td>\n",
       "      <td>0</td>\n",
       "      <td>0</td>\n",
       "      <td>1</td>\n",
       "      <td>0</td>\n",
       "      <td>1</td>\n",
       "      <td>0</td>\n",
       "      <td>...</td>\n",
       "      <td>0</td>\n",
       "      <td>1</td>\n",
       "      <td>0</td>\n",
       "      <td>1</td>\n",
       "      <td>0</td>\n",
       "      <td>1</td>\n",
       "      <td>0</td>\n",
       "      <td>1</td>\n",
       "      <td>0</td>\n",
       "      <td>2</td>\n",
       "    </tr>\n",
       "    <tr>\n",
       "      <th>3</th>\n",
       "      <td>0</td>\n",
       "      <td>0</td>\n",
       "      <td>0</td>\n",
       "      <td>0</td>\n",
       "      <td>1</td>\n",
       "      <td>0</td>\n",
       "      <td>0</td>\n",
       "      <td>1</td>\n",
       "      <td>0</td>\n",
       "      <td>0</td>\n",
       "      <td>...</td>\n",
       "      <td>0</td>\n",
       "      <td>1</td>\n",
       "      <td>0</td>\n",
       "      <td>1</td>\n",
       "      <td>0</td>\n",
       "      <td>1</td>\n",
       "      <td>0</td>\n",
       "      <td>1</td>\n",
       "      <td>0</td>\n",
       "      <td>0</td>\n",
       "    </tr>\n",
       "    <tr>\n",
       "      <th>4</th>\n",
       "      <td>0</td>\n",
       "      <td>0</td>\n",
       "      <td>1</td>\n",
       "      <td>0</td>\n",
       "      <td>0</td>\n",
       "      <td>0</td>\n",
       "      <td>0</td>\n",
       "      <td>0</td>\n",
       "      <td>1</td>\n",
       "      <td>0</td>\n",
       "      <td>...</td>\n",
       "      <td>0</td>\n",
       "      <td>1</td>\n",
       "      <td>0</td>\n",
       "      <td>1</td>\n",
       "      <td>0</td>\n",
       "      <td>1</td>\n",
       "      <td>0</td>\n",
       "      <td>1</td>\n",
       "      <td>0</td>\n",
       "      <td>1</td>\n",
       "    </tr>\n",
       "  </tbody>\n",
       "</table>\n",
       "<p>5 rows × 45 columns</p>\n",
       "</div>"
      ],
      "text/plain": [
       "   Campus Number_1  Campus Number_2  Campus Number_3  Campus Number_4  \\\n",
       "0                1                0                0                0   \n",
       "1                0                0                1                0   \n",
       "2                0                0                0                0   \n",
       "3                0                0                0                0   \n",
       "4                0                0                1                0   \n",
       "\n",
       "   Campus Number_5  Campus Number_6  Campus Number_7  Gender_Female  \\\n",
       "0                0                0                0              1   \n",
       "1                0                0                0              1   \n",
       "2                0                0                1              0   \n",
       "3                1                0                0              1   \n",
       "4                0                0                0              0   \n",
       "\n",
       "   Gender_Male  EthnicityRace_African American  ...  Tested Language_S  \\\n",
       "0            0                               0  ...                  0   \n",
       "1            0                               0  ...                  0   \n",
       "2            1                               0  ...                  0   \n",
       "3            0                               0  ...                  0   \n",
       "4            1                               0  ...                  0   \n",
       "\n",
       "   Military Connected Student_0  Military Connected Student_1  \\\n",
       "0                             1                             0   \n",
       "1                             1                             0   \n",
       "2                             1                             0   \n",
       "3                             1                             0   \n",
       "4                             1                             0   \n",
       "\n",
       "   >=50.0% Remote SY 2020-21_No  >=50.0% Remote SY 2020-21_Yes  \\\n",
       "0                             0                              1   \n",
       "1                             1                              0   \n",
       "2                             1                              0   \n",
       "3                             1                              0   \n",
       "4                             1                              0   \n",
       "\n",
       "   Oral Administration_No  Oral Administration_Yes  Test Admin Mode_Online  \\\n",
       "0                       1                        0                       1   \n",
       "1                       0                        1                       0   \n",
       "2                       1                        0                       1   \n",
       "3                       1                        0                       1   \n",
       "4                       1                        0                       1   \n",
       "\n",
       "   Test Admin Mode_Paper  Target  \n",
       "0                      0       0  \n",
       "1                      1       0  \n",
       "2                      0       2  \n",
       "3                      0       0  \n",
       "4                      0       1  \n",
       "\n",
       "[5 rows x 45 columns]"
      ]
     },
     "execution_count": 69,
     "metadata": {},
     "output_type": "execute_result"
    }
   ],
   "source": [
    "dfcat.head()"
   ]
  },
  {
   "cell_type": "code",
   "execution_count": 70,
   "id": "b54dd584",
   "metadata": {},
   "outputs": [],
   "source": [
    "df = pd.concat([dfcat, nums_scaled], axis = 1)"
   ]
  },
  {
   "cell_type": "code",
   "execution_count": 71,
   "id": "8248914a",
   "metadata": {},
   "outputs": [
    {
     "name": "stdout",
     "output_type": "stream",
     "text": [
      "<class 'pandas.core.frame.DataFrame'>\n",
      "RangeIndex: 423 entries, 0 to 422\n",
      "Data columns (total 47 columns):\n",
      " #   Column                                           Non-Null Count  Dtype  \n",
      "---  ------                                           --------------  -----  \n",
      " 0   Campus Number_1                                  423 non-null    uint8  \n",
      " 1   Campus Number_2                                  423 non-null    uint8  \n",
      " 2   Campus Number_3                                  423 non-null    uint8  \n",
      " 3   Campus Number_4                                  423 non-null    uint8  \n",
      " 4   Campus Number_5                                  423 non-null    uint8  \n",
      " 5   Campus Number_6                                  423 non-null    uint8  \n",
      " 6   Campus Number_7                                  423 non-null    uint8  \n",
      " 7   Gender_Female                                    423 non-null    uint8  \n",
      " 8   Gender_Male                                      423 non-null    uint8  \n",
      " 9   EthnicityRace_African American                   423 non-null    uint8  \n",
      " 10  EthnicityRace_American Indian or Alaskan Native  423 non-null    uint8  \n",
      " 11  EthnicityRace_Asian                              423 non-null    uint8  \n",
      " 12  EthnicityRace_Hispanic/Latino                    423 non-null    uint8  \n",
      " 13  EthnicityRace_Native Hawaiian/Pacific Islander   423 non-null    uint8  \n",
      " 14  EthnicityRace_Two or More                        423 non-null    uint8  \n",
      " 15  EthnicityRace_White                              423 non-null    uint8  \n",
      " 16  Economic Disadvantage_No                         423 non-null    uint8  \n",
      " 17  Economic Disadvantage_Yes                        423 non-null    uint8  \n",
      " 18  Economic Disadvantage Category_0                 423 non-null    uint8  \n",
      " 19  Economic Disadvantage Category_1                 423 non-null    uint8  \n",
      " 20  Economic Disadvantage Category_2                 423 non-null    uint8  \n",
      " 21  Economic Disadvantage Category_3                 423 non-null    uint8  \n",
      " 22  At Risk_No                                       423 non-null    uint8  \n",
      " 23  At Risk_Yes                                      423 non-null    uint8  \n",
      " 24  Special Ed_No                                    423 non-null    uint8  \n",
      " 25  Special Ed_Yes                                   423 non-null    uint8  \n",
      " 26  LEP_LEP                                          423 non-null    uint8  \n",
      " 27  LEP_Other Non-LEP Student                        423 non-null    uint8  \n",
      " 28  ESL_ESL/content-based                            423 non-null    uint8  \n",
      " 29  ESL_No                                           423 non-null    uint8  \n",
      " 30  Bilingual_Dual language immersion/one-way        423 non-null    uint8  \n",
      " 31  Bilingual_No                                     423 non-null    uint8  \n",
      " 32  Gifted Talented_No                               423 non-null    uint8  \n",
      " 33  Gifted Talented_Yes                              423 non-null    uint8  \n",
      " 34  Tested Language_E                                423 non-null    uint8  \n",
      " 35  Tested Language_S                                423 non-null    uint8  \n",
      " 36  Military Connected Student_0                     423 non-null    uint8  \n",
      " 37  Military Connected Student_1                     423 non-null    uint8  \n",
      " 38  >=50.0% Remote SY 2020-21_No                     423 non-null    uint8  \n",
      " 39  >=50.0% Remote SY 2020-21_Yes                    423 non-null    uint8  \n",
      " 40  Oral Administration_No                           423 non-null    uint8  \n",
      " 41  Oral Administration_Yes                          423 non-null    uint8  \n",
      " 42  Test Admin Mode_Online                           423 non-null    uint8  \n",
      " 43  Test Admin Mode_Paper                            423 non-null    uint8  \n",
      " 44  Target                                           423 non-null    int64  \n",
      " 45  Discipline Placement Incidents                   423 non-null    float64\n",
      " 46  STAAR Progress from 2019                         423 non-null    float64\n",
      "dtypes: float64(2), int64(1), uint8(44)\n",
      "memory usage: 28.2 KB\n"
     ]
    }
   ],
   "source": [
    "df.info()"
   ]
  },
  {
   "cell_type": "code",
   "execution_count": 72,
   "id": "d533e8b7",
   "metadata": {},
   "outputs": [],
   "source": [
    "df = df.astype({\"Target\": str})"
   ]
  },
  {
   "cell_type": "code",
   "execution_count": 73,
   "id": "e29a16bc",
   "metadata": {},
   "outputs": [],
   "source": [
    "X = df.drop(columns=['Target'])\n",
    "y = df['Target']\n",
    "X_train, X_test, y_train, y_test = train_test_split(X, y, test_size = 0.2, random_state=42)"
   ]
  },
  {
   "cell_type": "markdown",
   "id": "d96d7490",
   "metadata": {},
   "source": [
    "### Baseline Model"
   ]
  },
  {
   "cell_type": "markdown",
   "id": "d8cfacb0",
   "metadata": {},
   "source": [
    "I'll be using A logistic regression categorization model without optimization through gridsearch to determine a baseline. "
   ]
  },
  {
   "cell_type": "code",
   "execution_count": 74,
   "id": "d1e352e8",
   "metadata": {},
   "outputs": [
    {
     "name": "stderr",
     "output_type": "stream",
     "text": [
      "C:\\Users\\Armstrongs\\anaconda3\\lib\\site-packages\\sklearn\\linear_model\\_logistic.py:763: ConvergenceWarning: lbfgs failed to converge (status=1):\n",
      "STOP: TOTAL NO. of ITERATIONS REACHED LIMIT.\n",
      "\n",
      "Increase the number of iterations (max_iter) or scale the data as shown in:\n",
      "    https://scikit-learn.org/stable/modules/preprocessing.html\n",
      "Please also refer to the documentation for alternative solver options:\n",
      "    https://scikit-learn.org/stable/modules/linear_model.html#logistic-regression\n",
      "  n_iter_i = _check_optimize_result(\n"
     ]
    }
   ],
   "source": [
    "lrmodel = LogisticRegression()\n",
    "lrmodel.fit(X_train, y_train)\n",
    "lr_y_pred = lrmodel.predict(X_test)\n",
    "lr_accuracy = lrmodel.score(X_test, y_test)\n",
    "lr_f1 = f1_score(y_test, lr_y_pred, average='weighted')"
   ]
  },
  {
   "cell_type": "code",
   "execution_count": 75,
   "id": "af108382",
   "metadata": {},
   "outputs": [
    {
     "name": "stdout",
     "output_type": "stream",
     "text": [
      "Logist Regression: Accuracy=0.506\n",
      "Logist Regression: f1-score=0.498\n"
     ]
    }
   ],
   "source": [
    "print('Logist Regression: Accuracy=%.3f' % (lr_accuracy))\n",
    "\n",
    "print('Logist Regression: f1-score=%.3f' % (lr_f1))"
   ]
  },
  {
   "cell_type": "code",
   "execution_count": 76,
   "id": "2a42b39d",
   "metadata": {},
   "outputs": [
    {
     "data": {
      "text/plain": [
       "0    111\n",
       "1    109\n",
       "3    102\n",
       "2    101\n",
       "Name: Target, dtype: int64"
      ]
     },
     "execution_count": 76,
     "metadata": {},
     "output_type": "execute_result"
    }
   ],
   "source": [
    "df['Target'].value_counts()"
   ]
  },
  {
   "cell_type": "markdown",
   "id": "d64d6e3a",
   "metadata": {},
   "source": [
    "Since the values of my target are roughly equal, I will use accuracy as my primary metric. However because of the nature of STAAR categorization I will also take a look at the confusion matrix."
   ]
  },
  {
   "cell_type": "code",
   "execution_count": 77,
   "id": "ac63e9fa",
   "metadata": {},
   "outputs": [],
   "source": [
    "class_names=[0, 1, 2, 3]"
   ]
  },
  {
   "cell_type": "code",
   "execution_count": 78,
   "id": "3949b8b6",
   "metadata": {},
   "outputs": [],
   "source": [
    "def plot_confusion_matrix(cm, classes,\n",
    "                          title='Confusion matrix',\n",
    "                          cmap=plt.cm.Blues):\n",
    "        cm = cm.astype('float') / cm.sum(axis=1)[:, np.newaxis]\n",
    "        print(\"Normalized confusion matrix\")\n",
    "        plt.imshow(cm, interpolation='nearest', cmap=cmap)\n",
    "        plt.title(title)\n",
    "        plt.colorbar()\n",
    "        tick_marks = np.arange(len(classes))\n",
    "        plt.xticks(tick_marks, classes, rotation=45)\n",
    "        plt.yticks(tick_marks, classes)\n",
    "        thresh = cm.max() / 2.\n",
    "        for i, j in itertools.product(range(cm.shape[0]), range(cm.shape[1])):\n",
    "            plt.text(j, i, format(cm[i, j], '.2f'),\n",
    "                     horizontalalignment=\"center\",\n",
    "                     color=\"white\" if cm[i, j] > thresh else \"black\")\n",
    "\n",
    "        plt.ylabel('True label')\n",
    "        plt.xlabel('Predicted label')\n",
    "        plt.tight_layout()\n",
    "#Adapted from the Random Forest Case study from Springboard"
   ]
  },
  {
   "cell_type": "code",
   "execution_count": 79,
   "id": "477f75bd",
   "metadata": {},
   "outputs": [
    {
     "name": "stdout",
     "output_type": "stream",
     "text": [
      "Normalized confusion matrix\n"
     ]
    },
    {
     "data": {
      "image/png": "[encoded data removed]",
      "text/plain": [
       "<Figure size 432x288 with 2 Axes>"
      ]
     },
     "metadata": {
      "needs_background": "light"
     },
     "output_type": "display_data"
    }
   ],
   "source": [
    "cnf_matrix = confusion_matrix(y_test, lr_y_pred)\n",
    "np.set_printoptions(precision=2)\n",
    "plt.figure()\n",
    "plot_confusion_matrix(cnf_matrix, classes=class_names,\n",
    "                      title='Normalized confusion matrix Logistic Regression')"
   ]
  },
  {
   "cell_type": "markdown",
   "id": "0874fc0a",
   "metadata": {},
   "source": [
    "As is displayed above, logistic regression is good at predicting extreme values, but not those in the middle. This is non-optimum as unassisted human performed student analysis would have little trouble predicting the top and bottom performers. However, since there is much more accuracy at the extreme values I am going to also use machine learning to predict straight pass/fail per student for better accuracy. "
   ]
  },
  {
   "cell_type": "code",
   "execution_count": 80,
   "id": "6f46b9e1",
   "metadata": {},
   "outputs": [
    {
     "data": {
      "text/plain": [
       "0    0\n",
       "1    0\n",
       "2    1\n",
       "3    0\n",
       "4    1\n",
       "Name: Pass, dtype: int32"
      ]
     },
     "execution_count": 80,
     "metadata": {},
     "output_type": "execute_result"
    }
   ],
   "source": [
    "conditions = [\n",
    "    (df['Target'] == '0'),\n",
    "    (df['Target'] == '1'),\n",
    "    (df['Target'] == '2'),\n",
    "    (df['Target'] == '3')\n",
    "    ]\n",
    "\n",
    "values = [0, 1, 1, 1]\n",
    "\n",
    "df['Pass'] = np.select(conditions, values)\n",
    "\n",
    "df['Pass'].head()"
   ]
  },
  {
   "cell_type": "code",
   "execution_count": 81,
   "id": "b1caad4e",
   "metadata": {},
   "outputs": [],
   "source": [
    "y2 = df['Pass']\n",
    "X2 = df.drop(columns=['Pass', 'Target'])\n",
    "sX_train, sX_test, sy_train, sy_test = train_test_split(X2, y2, test_size=.2, random_state=42)"
   ]
  },
  {
   "cell_type": "code",
   "execution_count": 82,
   "id": "c7b68cbb",
   "metadata": {},
   "outputs": [],
   "source": [
    "slrmodel = LogisticRegression()\n",
    "slrmodel.fit(sX_train, sy_train)\n",
    "slr_y_pred = slrmodel.predict(sX_test)\n",
    "slr_accuracy = slrmodel.score(sX_test, sy_test)\n",
    "slr_f1 = f1_score(sy_test, slr_y_pred, average='weighted')"
   ]
  },
  {
   "cell_type": "code",
   "execution_count": 83,
   "id": "e9d1b19b",
   "metadata": {},
   "outputs": [
    {
     "name": "stdout",
     "output_type": "stream",
     "text": [
      "Pass/Fail Logist Regression: Accuracy=0.800\n",
      "Pass/Fail Logist Regression: f1-score=0.792\n"
     ]
    }
   ],
   "source": [
    "print('Pass/Fail Logist Regression: Accuracy=%.3f' % (slr_accuracy))\n",
    "\n",
    "print('Pass/Fail Logist Regression: f1-score=%.3f' % (slr_f1))"
   ]
  },
  {
   "cell_type": "markdown",
   "id": "73eb22d2",
   "metadata": {},
   "source": [
    "### Gridsearch Tuned Logistic Regression"
   ]
  },
  {
   "cell_type": "code",
   "execution_count": 89,
   "id": "375f636e",
   "metadata": {},
   "outputs": [
    {
     "name": "stderr",
     "output_type": "stream",
     "text": [
      "C:\\Users\\Armstrongs\\anaconda3\\lib\\site-packages\\sklearn\\linear_model\\_logistic.py:763: ConvergenceWarning: lbfgs failed to converge (status=1):\n",
      "STOP: TOTAL NO. of ITERATIONS REACHED LIMIT.\n",
      "\n",
      "Increase the number of iterations (max_iter) or scale the data as shown in:\n",
      "    https://scikit-learn.org/stable/modules/preprocessing.html\n",
      "Please also refer to the documentation for alternative solver options:\n",
      "    https://scikit-learn.org/stable/modules/linear_model.html#logistic-regression\n",
      "  n_iter_i = _check_optimize_result(\n",
      "C:\\Users\\Armstrongs\\anaconda3\\lib\\site-packages\\sklearn\\linear_model\\_logistic.py:763: ConvergenceWarning: lbfgs failed to converge (status=1):\n",
      "STOP: TOTAL NO. of ITERATIONS REACHED LIMIT.\n",
      "\n",
      "Increase the number of iterations (max_iter) or scale the data as shown in:\n",
      "    https://scikit-learn.org/stable/modules/preprocessing.html\n",
      "Please also refer to the documentation for alternative solver options:\n",
      "    https://scikit-learn.org/stable/modules/linear_model.html#logistic-regression\n",
      "  n_iter_i = _check_optimize_result(\n",
      "C:\\Users\\Armstrongs\\anaconda3\\lib\\site-packages\\sklearn\\linear_model\\_logistic.py:763: ConvergenceWarning: lbfgs failed to converge (status=1):\n",
      "STOP: TOTAL NO. of ITERATIONS REACHED LIMIT.\n",
      "\n",
      "Increase the number of iterations (max_iter) or scale the data as shown in:\n",
      "    https://scikit-learn.org/stable/modules/preprocessing.html\n",
      "Please also refer to the documentation for alternative solver options:\n",
      "    https://scikit-learn.org/stable/modules/linear_model.html#logistic-regression\n",
      "  n_iter_i = _check_optimize_result(\n",
      "C:\\Users\\Armstrongs\\anaconda3\\lib\\site-packages\\sklearn\\linear_model\\_logistic.py:763: ConvergenceWarning: lbfgs failed to converge (status=1):\n",
      "STOP: TOTAL NO. of ITERATIONS REACHED LIMIT.\n",
      "\n",
      "Increase the number of iterations (max_iter) or scale the data as shown in:\n",
      "    https://scikit-learn.org/stable/modules/preprocessing.html\n",
      "Please also refer to the documentation for alternative solver options:\n",
      "    https://scikit-learn.org/stable/modules/linear_model.html#logistic-regression\n",
      "  n_iter_i = _check_optimize_result(\n",
      "C:\\Users\\Armstrongs\\anaconda3\\lib\\site-packages\\sklearn\\linear_model\\_logistic.py:763: ConvergenceWarning: lbfgs failed to converge (status=1):\n",
      "STOP: TOTAL NO. of ITERATIONS REACHED LIMIT.\n",
      "\n",
      "Increase the number of iterations (max_iter) or scale the data as shown in:\n",
      "    https://scikit-learn.org/stable/modules/preprocessing.html\n",
      "Please also refer to the documentation for alternative solver options:\n",
      "    https://scikit-learn.org/stable/modules/linear_model.html#logistic-regression\n",
      "  n_iter_i = _check_optimize_result(\n",
      "C:\\Users\\Armstrongs\\anaconda3\\lib\\site-packages\\sklearn\\linear_model\\_logistic.py:763: ConvergenceWarning: lbfgs failed to converge (status=1):\n",
      "STOP: TOTAL NO. of ITERATIONS REACHED LIMIT.\n",
      "\n",
      "Increase the number of iterations (max_iter) or scale the data as shown in:\n",
      "    https://scikit-learn.org/stable/modules/preprocessing.html\n",
      "Please also refer to the documentation for alternative solver options:\n",
      "    https://scikit-learn.org/stable/modules/linear_model.html#logistic-regression\n",
      "  n_iter_i = _check_optimize_result(\n",
      "C:\\Users\\Armstrongs\\anaconda3\\lib\\site-packages\\sklearn\\linear_model\\_logistic.py:763: ConvergenceWarning: lbfgs failed to converge (status=1):\n",
      "STOP: TOTAL NO. of ITERATIONS REACHED LIMIT.\n",
      "\n",
      "Increase the number of iterations (max_iter) or scale the data as shown in:\n",
      "    https://scikit-learn.org/stable/modules/preprocessing.html\n",
      "Please also refer to the documentation for alternative solver options:\n",
      "    https://scikit-learn.org/stable/modules/linear_model.html#logistic-regression\n",
      "  n_iter_i = _check_optimize_result(\n",
      "C:\\Users\\Armstrongs\\anaconda3\\lib\\site-packages\\sklearn\\linear_model\\_logistic.py:763: ConvergenceWarning: lbfgs failed to converge (status=1):\n",
      "STOP: TOTAL NO. of ITERATIONS REACHED LIMIT.\n",
      "\n",
      "Increase the number of iterations (max_iter) or scale the data as shown in:\n",
      "    https://scikit-learn.org/stable/modules/preprocessing.html\n",
      "Please also refer to the documentation for alternative solver options:\n",
      "    https://scikit-learn.org/stable/modules/linear_model.html#logistic-regression\n",
      "  n_iter_i = _check_optimize_result(\n",
      "C:\\Users\\Armstrongs\\anaconda3\\lib\\site-packages\\sklearn\\linear_model\\_logistic.py:763: ConvergenceWarning: lbfgs failed to converge (status=1):\n",
      "STOP: TOTAL NO. of ITERATIONS REACHED LIMIT.\n",
      "\n",
      "Increase the number of iterations (max_iter) or scale the data as shown in:\n",
      "    https://scikit-learn.org/stable/modules/preprocessing.html\n",
      "Please also refer to the documentation for alternative solver options:\n",
      "    https://scikit-learn.org/stable/modules/linear_model.html#logistic-regression\n",
      "  n_iter_i = _check_optimize_result(\n",
      "C:\\Users\\Armstrongs\\anaconda3\\lib\\site-packages\\sklearn\\linear_model\\_logistic.py:763: ConvergenceWarning: lbfgs failed to converge (status=1):\n",
      "STOP: TOTAL NO. of ITERATIONS REACHED LIMIT.\n",
      "\n",
      "Increase the number of iterations (max_iter) or scale the data as shown in:\n",
      "    https://scikit-learn.org/stable/modules/preprocessing.html\n",
      "Please also refer to the documentation for alternative solver options:\n",
      "    https://scikit-learn.org/stable/modules/linear_model.html#logistic-regression\n",
      "  n_iter_i = _check_optimize_result(\n",
      "C:\\Users\\Armstrongs\\anaconda3\\lib\\site-packages\\sklearn\\linear_model\\_logistic.py:763: ConvergenceWarning: lbfgs failed to converge (status=1):\n",
      "STOP: TOTAL NO. of ITERATIONS REACHED LIMIT.\n",
      "\n",
      "Increase the number of iterations (max_iter) or scale the data as shown in:\n",
      "    https://scikit-learn.org/stable/modules/preprocessing.html\n",
      "Please also refer to the documentation for alternative solver options:\n",
      "    https://scikit-learn.org/stable/modules/linear_model.html#logistic-regression\n",
      "  n_iter_i = _check_optimize_result(\n",
      "C:\\Users\\Armstrongs\\anaconda3\\lib\\site-packages\\sklearn\\linear_model\\_logistic.py:763: ConvergenceWarning: lbfgs failed to converge (status=1):\n",
      "STOP: TOTAL NO. of ITERATIONS REACHED LIMIT.\n",
      "\n",
      "Increase the number of iterations (max_iter) or scale the data as shown in:\n",
      "    https://scikit-learn.org/stable/modules/preprocessing.html\n",
      "Please also refer to the documentation for alternative solver options:\n",
      "    https://scikit-learn.org/stable/modules/linear_model.html#logistic-regression\n",
      "  n_iter_i = _check_optimize_result(\n",
      "C:\\Users\\Armstrongs\\anaconda3\\lib\\site-packages\\sklearn\\linear_model\\_logistic.py:763: ConvergenceWarning: lbfgs failed to converge (status=1):\n",
      "STOP: TOTAL NO. of ITERATIONS REACHED LIMIT.\n",
      "\n",
      "Increase the number of iterations (max_iter) or scale the data as shown in:\n",
      "    https://scikit-learn.org/stable/modules/preprocessing.html\n",
      "Please also refer to the documentation for alternative solver options:\n",
      "    https://scikit-learn.org/stable/modules/linear_model.html#logistic-regression\n",
      "  n_iter_i = _check_optimize_result(\n",
      "C:\\Users\\Armstrongs\\anaconda3\\lib\\site-packages\\sklearn\\linear_model\\_logistic.py:763: ConvergenceWarning: lbfgs failed to converge (status=1):\n",
      "STOP: TOTAL NO. of ITERATIONS REACHED LIMIT.\n",
      "\n",
      "Increase the number of iterations (max_iter) or scale the data as shown in:\n",
      "    https://scikit-learn.org/stable/modules/preprocessing.html\n",
      "Please also refer to the documentation for alternative solver options:\n",
      "    https://scikit-learn.org/stable/modules/linear_model.html#logistic-regression\n",
      "  n_iter_i = _check_optimize_result(\n",
      "C:\\Users\\Armstrongs\\anaconda3\\lib\\site-packages\\sklearn\\linear_model\\_logistic.py:763: ConvergenceWarning: lbfgs failed to converge (status=1):\n",
      "STOP: TOTAL NO. of ITERATIONS REACHED LIMIT.\n",
      "\n",
      "Increase the number of iterations (max_iter) or scale the data as shown in:\n",
      "    https://scikit-learn.org/stable/modules/preprocessing.html\n",
      "Please also refer to the documentation for alternative solver options:\n",
      "    https://scikit-learn.org/stable/modules/linear_model.html#logistic-regression\n",
      "  n_iter_i = _check_optimize_result(\n",
      "C:\\Users\\Armstrongs\\anaconda3\\lib\\site-packages\\sklearn\\linear_model\\_logistic.py:763: ConvergenceWarning: lbfgs failed to converge (status=1):\n",
      "STOP: TOTAL NO. of ITERATIONS REACHED LIMIT.\n",
      "\n",
      "Increase the number of iterations (max_iter) or scale the data as shown in:\n",
      "    https://scikit-learn.org/stable/modules/preprocessing.html\n",
      "Please also refer to the documentation for alternative solver options:\n",
      "    https://scikit-learn.org/stable/modules/linear_model.html#logistic-regression\n",
      "  n_iter_i = _check_optimize_result(\n"
     ]
    },
    {
     "name": "stderr",
     "output_type": "stream",
     "text": [
      "C:\\Users\\Armstrongs\\anaconda3\\lib\\site-packages\\sklearn\\linear_model\\_logistic.py:763: ConvergenceWarning: lbfgs failed to converge (status=1):\n",
      "STOP: TOTAL NO. of ITERATIONS REACHED LIMIT.\n",
      "\n",
      "Increase the number of iterations (max_iter) or scale the data as shown in:\n",
      "    https://scikit-learn.org/stable/modules/preprocessing.html\n",
      "Please also refer to the documentation for alternative solver options:\n",
      "    https://scikit-learn.org/stable/modules/linear_model.html#logistic-regression\n",
      "  n_iter_i = _check_optimize_result(\n",
      "C:\\Users\\Armstrongs\\anaconda3\\lib\\site-packages\\sklearn\\linear_model\\_logistic.py:763: ConvergenceWarning: lbfgs failed to converge (status=1):\n",
      "STOP: TOTAL NO. of ITERATIONS REACHED LIMIT.\n",
      "\n",
      "Increase the number of iterations (max_iter) or scale the data as shown in:\n",
      "    https://scikit-learn.org/stable/modules/preprocessing.html\n",
      "Please also refer to the documentation for alternative solver options:\n",
      "    https://scikit-learn.org/stable/modules/linear_model.html#logistic-regression\n",
      "  n_iter_i = _check_optimize_result(\n",
      "C:\\Users\\Armstrongs\\anaconda3\\lib\\site-packages\\sklearn\\linear_model\\_logistic.py:763: ConvergenceWarning: lbfgs failed to converge (status=1):\n",
      "STOP: TOTAL NO. of ITERATIONS REACHED LIMIT.\n",
      "\n",
      "Increase the number of iterations (max_iter) or scale the data as shown in:\n",
      "    https://scikit-learn.org/stable/modules/preprocessing.html\n",
      "Please also refer to the documentation for alternative solver options:\n",
      "    https://scikit-learn.org/stable/modules/linear_model.html#logistic-regression\n",
      "  n_iter_i = _check_optimize_result(\n",
      "C:\\Users\\Armstrongs\\anaconda3\\lib\\site-packages\\sklearn\\linear_model\\_logistic.py:763: ConvergenceWarning: lbfgs failed to converge (status=1):\n",
      "STOP: TOTAL NO. of ITERATIONS REACHED LIMIT.\n",
      "\n",
      "Increase the number of iterations (max_iter) or scale the data as shown in:\n",
      "    https://scikit-learn.org/stable/modules/preprocessing.html\n",
      "Please also refer to the documentation for alternative solver options:\n",
      "    https://scikit-learn.org/stable/modules/linear_model.html#logistic-regression\n",
      "  n_iter_i = _check_optimize_result(\n",
      "C:\\Users\\Armstrongs\\anaconda3\\lib\\site-packages\\sklearn\\linear_model\\_logistic.py:763: ConvergenceWarning: lbfgs failed to converge (status=1):\n",
      "STOP: TOTAL NO. of ITERATIONS REACHED LIMIT.\n",
      "\n",
      "Increase the number of iterations (max_iter) or scale the data as shown in:\n",
      "    https://scikit-learn.org/stable/modules/preprocessing.html\n",
      "Please also refer to the documentation for alternative solver options:\n",
      "    https://scikit-learn.org/stable/modules/linear_model.html#logistic-regression\n",
      "  n_iter_i = _check_optimize_result(\n",
      "C:\\Users\\Armstrongs\\anaconda3\\lib\\site-packages\\sklearn\\linear_model\\_logistic.py:763: ConvergenceWarning: lbfgs failed to converge (status=1):\n",
      "STOP: TOTAL NO. of ITERATIONS REACHED LIMIT.\n",
      "\n",
      "Increase the number of iterations (max_iter) or scale the data as shown in:\n",
      "    https://scikit-learn.org/stable/modules/preprocessing.html\n",
      "Please also refer to the documentation for alternative solver options:\n",
      "    https://scikit-learn.org/stable/modules/linear_model.html#logistic-regression\n",
      "  n_iter_i = _check_optimize_result(\n",
      "C:\\Users\\Armstrongs\\anaconda3\\lib\\site-packages\\sklearn\\linear_model\\_logistic.py:763: ConvergenceWarning: lbfgs failed to converge (status=1):\n",
      "STOP: TOTAL NO. of ITERATIONS REACHED LIMIT.\n",
      "\n",
      "Increase the number of iterations (max_iter) or scale the data as shown in:\n",
      "    https://scikit-learn.org/stable/modules/preprocessing.html\n",
      "Please also refer to the documentation for alternative solver options:\n",
      "    https://scikit-learn.org/stable/modules/linear_model.html#logistic-regression\n",
      "  n_iter_i = _check_optimize_result(\n",
      "C:\\Users\\Armstrongs\\anaconda3\\lib\\site-packages\\sklearn\\linear_model\\_logistic.py:763: ConvergenceWarning: lbfgs failed to converge (status=1):\n",
      "STOP: TOTAL NO. of ITERATIONS REACHED LIMIT.\n",
      "\n",
      "Increase the number of iterations (max_iter) or scale the data as shown in:\n",
      "    https://scikit-learn.org/stable/modules/preprocessing.html\n",
      "Please also refer to the documentation for alternative solver options:\n",
      "    https://scikit-learn.org/stable/modules/linear_model.html#logistic-regression\n",
      "  n_iter_i = _check_optimize_result(\n",
      "C:\\Users\\Armstrongs\\anaconda3\\lib\\site-packages\\sklearn\\linear_model\\_logistic.py:763: ConvergenceWarning: lbfgs failed to converge (status=1):\n",
      "STOP: TOTAL NO. of ITERATIONS REACHED LIMIT.\n",
      "\n",
      "Increase the number of iterations (max_iter) or scale the data as shown in:\n",
      "    https://scikit-learn.org/stable/modules/preprocessing.html\n",
      "Please also refer to the documentation for alternative solver options:\n",
      "    https://scikit-learn.org/stable/modules/linear_model.html#logistic-regression\n",
      "  n_iter_i = _check_optimize_result(\n",
      "C:\\Users\\Armstrongs\\anaconda3\\lib\\site-packages\\sklearn\\linear_model\\_logistic.py:763: ConvergenceWarning: lbfgs failed to converge (status=1):\n",
      "STOP: TOTAL NO. of ITERATIONS REACHED LIMIT.\n",
      "\n",
      "Increase the number of iterations (max_iter) or scale the data as shown in:\n",
      "    https://scikit-learn.org/stable/modules/preprocessing.html\n",
      "Please also refer to the documentation for alternative solver options:\n",
      "    https://scikit-learn.org/stable/modules/linear_model.html#logistic-regression\n",
      "  n_iter_i = _check_optimize_result(\n",
      "C:\\Users\\Armstrongs\\anaconda3\\lib\\site-packages\\sklearn\\linear_model\\_logistic.py:763: ConvergenceWarning: lbfgs failed to converge (status=1):\n",
      "STOP: TOTAL NO. of ITERATIONS REACHED LIMIT.\n",
      "\n",
      "Increase the number of iterations (max_iter) or scale the data as shown in:\n",
      "    https://scikit-learn.org/stable/modules/preprocessing.html\n",
      "Please also refer to the documentation for alternative solver options:\n",
      "    https://scikit-learn.org/stable/modules/linear_model.html#logistic-regression\n",
      "  n_iter_i = _check_optimize_result(\n",
      "C:\\Users\\Armstrongs\\anaconda3\\lib\\site-packages\\sklearn\\linear_model\\_logistic.py:763: ConvergenceWarning: lbfgs failed to converge (status=1):\n",
      "STOP: TOTAL NO. of ITERATIONS REACHED LIMIT.\n",
      "\n",
      "Increase the number of iterations (max_iter) or scale the data as shown in:\n",
      "    https://scikit-learn.org/stable/modules/preprocessing.html\n",
      "Please also refer to the documentation for alternative solver options:\n",
      "    https://scikit-learn.org/stable/modules/linear_model.html#logistic-regression\n",
      "  n_iter_i = _check_optimize_result(\n",
      "C:\\Users\\Armstrongs\\anaconda3\\lib\\site-packages\\sklearn\\linear_model\\_logistic.py:763: ConvergenceWarning: lbfgs failed to converge (status=1):\n",
      "STOP: TOTAL NO. of ITERATIONS REACHED LIMIT.\n",
      "\n",
      "Increase the number of iterations (max_iter) or scale the data as shown in:\n",
      "    https://scikit-learn.org/stable/modules/preprocessing.html\n",
      "Please also refer to the documentation for alternative solver options:\n",
      "    https://scikit-learn.org/stable/modules/linear_model.html#logistic-regression\n",
      "  n_iter_i = _check_optimize_result(\n",
      "C:\\Users\\Armstrongs\\anaconda3\\lib\\site-packages\\sklearn\\linear_model\\_logistic.py:763: ConvergenceWarning: lbfgs failed to converge (status=1):\n",
      "STOP: TOTAL NO. of ITERATIONS REACHED LIMIT.\n",
      "\n",
      "Increase the number of iterations (max_iter) or scale the data as shown in:\n",
      "    https://scikit-learn.org/stable/modules/preprocessing.html\n",
      "Please also refer to the documentation for alternative solver options:\n",
      "    https://scikit-learn.org/stable/modules/linear_model.html#logistic-regression\n",
      "  n_iter_i = _check_optimize_result(\n",
      "C:\\Users\\Armstrongs\\anaconda3\\lib\\site-packages\\sklearn\\linear_model\\_logistic.py:763: ConvergenceWarning: lbfgs failed to converge (status=1):\n",
      "STOP: TOTAL NO. of ITERATIONS REACHED LIMIT.\n",
      "\n",
      "Increase the number of iterations (max_iter) or scale the data as shown in:\n",
      "    https://scikit-learn.org/stable/modules/preprocessing.html\n",
      "Please also refer to the documentation for alternative solver options:\n",
      "    https://scikit-learn.org/stable/modules/linear_model.html#logistic-regression\n",
      "  n_iter_i = _check_optimize_result(\n",
      "C:\\Users\\Armstrongs\\anaconda3\\lib\\site-packages\\sklearn\\linear_model\\_logistic.py:763: ConvergenceWarning: lbfgs failed to converge (status=1):\n",
      "STOP: TOTAL NO. of ITERATIONS REACHED LIMIT.\n",
      "\n",
      "Increase the number of iterations (max_iter) or scale the data as shown in:\n",
      "    https://scikit-learn.org/stable/modules/preprocessing.html\n",
      "Please also refer to the documentation for alternative solver options:\n",
      "    https://scikit-learn.org/stable/modules/linear_model.html#logistic-regression\n",
      "  n_iter_i = _check_optimize_result(\n"
     ]
    },
    {
     "name": "stderr",
     "output_type": "stream",
     "text": [
      "C:\\Users\\Armstrongs\\anaconda3\\lib\\site-packages\\sklearn\\linear_model\\_logistic.py:763: ConvergenceWarning: lbfgs failed to converge (status=1):\n",
      "STOP: TOTAL NO. of ITERATIONS REACHED LIMIT.\n",
      "\n",
      "Increase the number of iterations (max_iter) or scale the data as shown in:\n",
      "    https://scikit-learn.org/stable/modules/preprocessing.html\n",
      "Please also refer to the documentation for alternative solver options:\n",
      "    https://scikit-learn.org/stable/modules/linear_model.html#logistic-regression\n",
      "  n_iter_i = _check_optimize_result(\n",
      "C:\\Users\\Armstrongs\\anaconda3\\lib\\site-packages\\sklearn\\linear_model\\_logistic.py:763: ConvergenceWarning: lbfgs failed to converge (status=1):\n",
      "STOP: TOTAL NO. of ITERATIONS REACHED LIMIT.\n",
      "\n",
      "Increase the number of iterations (max_iter) or scale the data as shown in:\n",
      "    https://scikit-learn.org/stable/modules/preprocessing.html\n",
      "Please also refer to the documentation for alternative solver options:\n",
      "    https://scikit-learn.org/stable/modules/linear_model.html#logistic-regression\n",
      "  n_iter_i = _check_optimize_result(\n",
      "C:\\Users\\Armstrongs\\anaconda3\\lib\\site-packages\\sklearn\\linear_model\\_logistic.py:763: ConvergenceWarning: lbfgs failed to converge (status=1):\n",
      "STOP: TOTAL NO. of ITERATIONS REACHED LIMIT.\n",
      "\n",
      "Increase the number of iterations (max_iter) or scale the data as shown in:\n",
      "    https://scikit-learn.org/stable/modules/preprocessing.html\n",
      "Please also refer to the documentation for alternative solver options:\n",
      "    https://scikit-learn.org/stable/modules/linear_model.html#logistic-regression\n",
      "  n_iter_i = _check_optimize_result(\n",
      "C:\\Users\\Armstrongs\\anaconda3\\lib\\site-packages\\sklearn\\linear_model\\_logistic.py:763: ConvergenceWarning: lbfgs failed to converge (status=1):\n",
      "STOP: TOTAL NO. of ITERATIONS REACHED LIMIT.\n",
      "\n",
      "Increase the number of iterations (max_iter) or scale the data as shown in:\n",
      "    https://scikit-learn.org/stable/modules/preprocessing.html\n",
      "Please also refer to the documentation for alternative solver options:\n",
      "    https://scikit-learn.org/stable/modules/linear_model.html#logistic-regression\n",
      "  n_iter_i = _check_optimize_result(\n",
      "C:\\Users\\Armstrongs\\anaconda3\\lib\\site-packages\\sklearn\\linear_model\\_logistic.py:763: ConvergenceWarning: lbfgs failed to converge (status=1):\n",
      "STOP: TOTAL NO. of ITERATIONS REACHED LIMIT.\n",
      "\n",
      "Increase the number of iterations (max_iter) or scale the data as shown in:\n",
      "    https://scikit-learn.org/stable/modules/preprocessing.html\n",
      "Please also refer to the documentation for alternative solver options:\n",
      "    https://scikit-learn.org/stable/modules/linear_model.html#logistic-regression\n",
      "  n_iter_i = _check_optimize_result(\n",
      "C:\\Users\\Armstrongs\\anaconda3\\lib\\site-packages\\sklearn\\linear_model\\_logistic.py:763: ConvergenceWarning: lbfgs failed to converge (status=1):\n",
      "STOP: TOTAL NO. of ITERATIONS REACHED LIMIT.\n",
      "\n",
      "Increase the number of iterations (max_iter) or scale the data as shown in:\n",
      "    https://scikit-learn.org/stable/modules/preprocessing.html\n",
      "Please also refer to the documentation for alternative solver options:\n",
      "    https://scikit-learn.org/stable/modules/linear_model.html#logistic-regression\n",
      "  n_iter_i = _check_optimize_result(\n",
      "C:\\Users\\Armstrongs\\anaconda3\\lib\\site-packages\\sklearn\\linear_model\\_logistic.py:763: ConvergenceWarning: lbfgs failed to converge (status=1):\n",
      "STOP: TOTAL NO. of ITERATIONS REACHED LIMIT.\n",
      "\n",
      "Increase the number of iterations (max_iter) or scale the data as shown in:\n",
      "    https://scikit-learn.org/stable/modules/preprocessing.html\n",
      "Please also refer to the documentation for alternative solver options:\n",
      "    https://scikit-learn.org/stable/modules/linear_model.html#logistic-regression\n",
      "  n_iter_i = _check_optimize_result(\n",
      "C:\\Users\\Armstrongs\\anaconda3\\lib\\site-packages\\sklearn\\linear_model\\_logistic.py:763: ConvergenceWarning: lbfgs failed to converge (status=1):\n",
      "STOP: TOTAL NO. of ITERATIONS REACHED LIMIT.\n",
      "\n",
      "Increase the number of iterations (max_iter) or scale the data as shown in:\n",
      "    https://scikit-learn.org/stable/modules/preprocessing.html\n",
      "Please also refer to the documentation for alternative solver options:\n",
      "    https://scikit-learn.org/stable/modules/linear_model.html#logistic-regression\n",
      "  n_iter_i = _check_optimize_result(\n",
      "C:\\Users\\Armstrongs\\anaconda3\\lib\\site-packages\\sklearn\\linear_model\\_logistic.py:763: ConvergenceWarning: lbfgs failed to converge (status=1):\n",
      "STOP: TOTAL NO. of ITERATIONS REACHED LIMIT.\n",
      "\n",
      "Increase the number of iterations (max_iter) or scale the data as shown in:\n",
      "    https://scikit-learn.org/stable/modules/preprocessing.html\n",
      "Please also refer to the documentation for alternative solver options:\n",
      "    https://scikit-learn.org/stable/modules/linear_model.html#logistic-regression\n",
      "  n_iter_i = _check_optimize_result(\n"
     ]
    },
    {
     "data": {
      "text/plain": [
       "GridSearchCV(cv=10, estimator=LogisticRegression(),\n",
       "             param_grid={'C': array([1.e-03, 1.e-02, 1.e-01, 1.e+00, 1.e+01, 1.e+02, 1.e+03])})"
      ]
     },
     "execution_count": 89,
     "metadata": {},
     "output_type": "execute_result"
    }
   ],
   "source": [
    "grid={\"C\":np.logspace(-3,3,7)}# l1 lasso l2 ridge\n",
    "logreg=LogisticRegression()\n",
    "logreg_cv=GridSearchCV(logreg,grid,cv=10)\n",
    "logreg_cv.fit(X_train,y_train)\n",
    "#Code above adapted from https://www.kaggle.com/enespolat/grid-search-with-logistic-regression"
   ]
  },
  {
   "cell_type": "code",
   "execution_count": 90,
   "id": "8c334670",
   "metadata": {},
   "outputs": [
    {
     "name": "stdout",
     "output_type": "stream",
     "text": [
      "tuned hpyerparameters :(best parameters)  {'C': 10.0}\n",
      "accuracy : 0.48226381461675577\n"
     ]
    }
   ],
   "source": [
    "print(\"tuned hpyerparameters :(best parameters) \",logreg_cv.best_params_)\n",
    "print(\"accuracy :\",logreg_cv.best_score_)"
   ]
  },
  {
   "cell_type": "code",
   "execution_count": 93,
   "id": "15884eb5",
   "metadata": {},
   "outputs": [
    {
     "name": "stderr",
     "output_type": "stream",
     "text": [
      "C:\\Users\\Armstrongs\\anaconda3\\lib\\site-packages\\sklearn\\linear_model\\_logistic.py:763: ConvergenceWarning: lbfgs failed to converge (status=1):\n",
      "STOP: TOTAL NO. of ITERATIONS REACHED LIMIT.\n",
      "\n",
      "Increase the number of iterations (max_iter) or scale the data as shown in:\n",
      "    https://scikit-learn.org/stable/modules/preprocessing.html\n",
      "Please also refer to the documentation for alternative solver options:\n",
      "    https://scikit-learn.org/stable/modules/linear_model.html#logistic-regression\n",
      "  n_iter_i = _check_optimize_result(\n"
     ]
    }
   ],
   "source": [
    "tlrmodel = LogisticRegression(C = 10)\n",
    "tlrmodel.fit(X_train, y_train)\n",
    "tlr_y_pred = tlrmodel.predict(X_test)\n",
    "tlr_accuracy = tlrmodel.score(X_test, y_test)\n",
    "tlr_f1 = f1_score(y_test, tlr_y_pred, average='weighted')"
   ]
  },
  {
   "cell_type": "code",
   "execution_count": 94,
   "id": "94d6be1f",
   "metadata": {},
   "outputs": [
    {
     "name": "stdout",
     "output_type": "stream",
     "text": [
      "Logist Regression: Accuracy=0.494\n",
      "Logist Regression: f1-score=0.488\n"
     ]
    }
   ],
   "source": [
    "print('tLogist Regression: Accuracy=%.3f' % (tlr_accuracy))\n",
    "\n",
    "print('tLogist Regression: f1-score=%.3f' % (tlr_f1))"
   ]
  },
  {
   "cell_type": "code",
   "execution_count": 95,
   "id": "3702f665",
   "metadata": {},
   "outputs": [],
   "source": [
    "#Talk to mentor about losing accuracy and f1 after tuning"
   ]
  },
  {
   "cell_type": "markdown",
   "id": "35960f3a",
   "metadata": {},
   "source": [
    "### Random Forest"
   ]
  },
  {
   "cell_type": "code",
   "execution_count": 101,
   "id": "6babb0f4",
   "metadata": {},
   "outputs": [
    {
     "name": "stdout",
     "output_type": "stream",
     "text": [
      "Fitting 3 folds for each of 100 candidates, totalling 300 fits\n"
     ]
    },
    {
     "data": {
      "text/plain": [
       "RandomizedSearchCV(cv=3, estimator=RandomForestClassifier(), n_iter=100,\n",
       "                   n_jobs=-1,\n",
       "                   param_distributions={'bootstrap': [True, False],\n",
       "                                        'max_depth': [10, 20, 30, 40, 50, 60,\n",
       "                                                      70, 80, 90, 100, 110,\n",
       "                                                      None],\n",
       "                                        'max_features': ['auto', 'sqrt'],\n",
       "                                        'min_samples_leaf': [1, 2, 4],\n",
       "                                        'min_samples_split': [2, 5, 10],\n",
       "                                        'n_estimators': [200, 400, 600, 800,\n",
       "                                                         1000, 1200, 1400, 1600,\n",
       "                                                         1800, 2000]},\n",
       "                   random_state=42, verbose=2)"
      ]
     },
     "execution_count": 101,
     "metadata": {},
     "output_type": "execute_result"
    }
   ],
   "source": [
    "# Number of trees in random forest\n",
    "n_estimators = [int(x) for x in np.linspace(start = 200, stop = 2000, num = 10)]\n",
    "# Number of features to consider at every split\n",
    "max_features = ['auto', 'sqrt']\n",
    "# Maximum number of levels in tree\n",
    "max_depth = [int(x) for x in np.linspace(10, 110, num = 11)]\n",
    "max_depth.append(None)\n",
    "# Minimum number of samples required to split a node\n",
    "min_samples_split = [2, 5, 10]\n",
    "# Minimum number of samples required at each leaf node\n",
    "min_samples_leaf = [1, 2, 4]\n",
    "# Method of selecting samples for training each tree\n",
    "bootstrap = [True, False]\n",
    "# Create the random grid\n",
    "random_grid = {'n_estimators': n_estimators,\n",
    "               'max_features': max_features,\n",
    "               'max_depth': max_depth,\n",
    "               'min_samples_split': min_samples_split,\n",
    "               'min_samples_leaf': min_samples_leaf,\n",
    "               'bootstrap': bootstrap}\n",
    "# Use the random grid to search for best hyperparameters\n",
    "# First create the base model to tune\n",
    "rf = RandomForestClassifier()\n",
    "# Random search of parameters, using 3 fold cross validation, \n",
    "# search across 100 different combinations, and use all available cores\n",
    "rf_random = RandomizedSearchCV(estimator = rf, param_distributions = random_grid, n_iter = 100, cv = 3, verbose=2, random_state=42, n_jobs = -1)\n",
    "# Fit the random search model\n",
    "rf_random.fit(X_train, y_train)\n",
    "#Adapted from Random Forest Case Study Springboard"
   ]
  },
  {
   "cell_type": "code",
   "execution_count": 102,
   "id": "bd74bafd",
   "metadata": {},
   "outputs": [
    {
     "data": {
      "text/plain": [
       "{'n_estimators': 400,\n",
       " 'min_samples_split': 10,\n",
       " 'min_samples_leaf': 4,\n",
       " 'max_features': 'sqrt',\n",
       " 'max_depth': 90,\n",
       " 'bootstrap': True}"
      ]
     },
     "execution_count": 102,
     "metadata": {},
     "output_type": "execute_result"
    }
   ],
   "source": [
    "rf_random.best_params_"
   ]
  },
  {
   "cell_type": "code",
   "execution_count": 107,
   "id": "502e12a8",
   "metadata": {},
   "outputs": [
    {
     "name": "stdout",
     "output_type": "stream",
     "text": [
      "Random Forest: Accuracy=0.529\n",
      "Random Forest: f1-score=0.524\n"
     ]
    }
   ],
   "source": [
    "clf = RandomForestClassifier(n_estimators=1000, min_samples_split = 10, min_samples_leaf = 2, max_features = 'sqrt', \\\n",
    "                            max_depth = 10, bootstrap = True)\n",
    "model_res = clf.fit(X_train, y_train)\n",
    "rfy_pred = model_res.predict(X_test)\n",
    "rfy_pred_prob = model_res.predict_proba(X_test)\n",
    "lr_probs = rfy_pred_prob[:,1]\n",
    "rfac = accuracy_score(y_test, rfy_pred)\n",
    "\n",
    "rff1 = f1_score(y_test, rfy_pred, average='weighted')\n",
    "rfcm = confusion_matrix(y_test, rfy_pred)\n",
    "\n",
    "print('Random Forest: Accuracy=%.3f' % (rfac))\n",
    "\n",
    "print('Random Forest: f1-score=%.3f' % (rff1))"
   ]
  },
  {
   "cell_type": "code",
   "execution_count": 109,
   "id": "7549ece6",
   "metadata": {},
   "outputs": [
    {
     "name": "stdout",
     "output_type": "stream",
     "text": [
      "Normalized confusion matrix\n"
     ]
    },
    {
     "data": {
      "image/png": "[encoded data removed]",
      "text/plain": [
       "<Figure size 432x288 with 2 Axes>"
      ]
     },
     "metadata": {
      "needs_background": "light"
     },
     "output_type": "display_data"
    }
   ],
   "source": [
    "cnf_matrix = confusion_matrix(y_test, rfy_pred)\n",
    "np.set_printoptions(precision=2)\n",
    "plt.figure()\n",
    "plot_confusion_matrix(cnf_matrix, classes=class_names,\n",
    "                      title='Normalized confusion matrix Random Forest')"
   ]
  },
  {
   "cell_type": "code",
   "execution_count": 170,
   "id": "1efc9a96",
   "metadata": {},
   "outputs": [
    {
     "name": "stdout",
     "output_type": "stream",
     "text": [
      "                                  importance\n",
      "STAAR Progress from 2019            0.174185\n",
      "Special Ed_No                       0.071869\n",
      "At Risk_Yes                         0.071139\n",
      "Special Ed_Yes                      0.070265\n",
      "At Risk_No                          0.069043\n",
      "Campus Number_6                     0.039791\n",
      "Campus Number_5                     0.031857\n",
      "Economic Disadvantage Category_0    0.031689\n",
      "EthnicityRace_White                 0.026588\n",
      "Economic Disadvantage_Yes           0.025546\n",
      "                                                 importance\n",
      "Economic Disadvantage Category_2                   0.005226\n",
      "EthnicityRace_Two or More                          0.004908\n",
      ">=50.0% Remote SY 2020-21_No                       0.004311\n",
      ">=50.0% Remote SY 2020-21_Yes                      0.003437\n",
      "EthnicityRace_Asian                                0.000082\n",
      "Military Connected Student_1                       0.000076\n",
      "EthnicityRace_American Indian or Alaskan Native    0.000070\n",
      "Military Connected Student_0                       0.000016\n",
      "Tested Language_E                                  0.000000\n",
      "Tested Language_S                                  0.000000\n"
     ]
    }
   ],
   "source": [
    "feature_importances = pd.DataFrame(clf.feature_importances_, index = X.columns, columns = ['importance']).sort_values('importance', ascending = False)\n",
    "print(feature_importances.head(10))\n",
    "print(feature_importances.tail(10))\n",
    "#idea above inspire by Derek Samsom https://github.com/DerekSamsom/Capstone1-Predicting_Loan_ROI/blob/master/Code/Capstone_Project_1_In_Depth_Analysis.ipynb"
   ]
  },
  {
   "cell_type": "code",
   "execution_count": 172,
   "id": "3204acf2",
   "metadata": {},
   "outputs": [
    {
     "data": {
      "text/plain": [
       "['EthnicityRace_Asian',\n",
       " 'Military Connected Student_1',\n",
       " 'EthnicityRace_American Indian or Alaskan Native',\n",
       " 'Military Connected Student_0',\n",
       " 'Tested Language_E',\n",
       " 'Tested Language_S']"
      ]
     },
     "execution_count": 172,
     "metadata": {},
     "output_type": "execute_result"
    }
   ],
   "source": [
    "#I wonder how the model would perform if I removed some of the less useful features. \n",
    "drop_cols_rf = list(feature_importances[feature_importances.importance < 0.0015].index)\n",
    "drop_cols_rf"
   ]
  },
  {
   "cell_type": "code",
   "execution_count": 173,
   "id": "b0a44c1a",
   "metadata": {},
   "outputs": [],
   "source": [
    "X3 = X.drop(drop_cols_rf, axis = 1)"
   ]
  },
  {
   "cell_type": "code",
   "execution_count": 177,
   "id": "e2e752e0",
   "metadata": {},
   "outputs": [],
   "source": [
    "redX_train, redX_test, redy_train, redy_test = train_test_split(X3, y, test_size = 0.2, random_state=42)"
   ]
  },
  {
   "cell_type": "code",
   "execution_count": 178,
   "id": "ce823ff3",
   "metadata": {},
   "outputs": [
    {
     "name": "stdout",
     "output_type": "stream",
     "text": [
      "Reduced Random Forest: Accuracy=0.518\n",
      "Reduced Random Forest: f1-score=0.514\n"
     ]
    }
   ],
   "source": [
    "redmodel_res = clf.fit(redX_train, redy_train)\n",
    "redrfy_pred = redmodel_res.predict(redX_test)\n",
    "redrfy_pred_prob = redmodel_res.predict_proba(redX_test)\n",
    "redlr_probs = redrfy_pred_prob[:,1]\n",
    "redrfac = accuracy_score(redy_test, redrfy_pred)\n",
    "\n",
    "redrff1 = f1_score(redy_test, redrfy_pred, average='weighted')\n",
    "redrfcm = confusion_matrix(redy_test, redrfy_pred)\n",
    "\n",
    "print('Reduced Random Forest: Accuracy=%.3f' % (redrfac))\n",
    "\n",
    "print('Reduced Random Forest: f1-score=%.3f' % (redrff1))"
   ]
  },
  {
   "cell_type": "markdown",
   "id": "b2d306d3",
   "metadata": {},
   "source": [
    "Random Forest Slightly outperforms Logistic Regression with the added bonus of increased accuracy for the middle values. Suprisingly it loses some performance when culling low imporance features. Now I will examine how it performs on the pass/fail set"
   ]
  },
  {
   "cell_type": "code",
   "execution_count": 111,
   "id": "a416f4ca",
   "metadata": {},
   "outputs": [
    {
     "name": "stdout",
     "output_type": "stream",
     "text": [
      "Random Forest: Accuracy=0.765\n",
      "Random Forest: f1-score=0.736\n"
     ]
    }
   ],
   "source": [
    "smodel_res = clf.fit(sX_train, sy_train)\n",
    "srfy_pred = model_res.predict(sX_test)\n",
    "srfy_pred_prob = model_res.predict_proba(sX_test)\n",
    "lr_probs = srfy_pred_prob[:,1]\n",
    "srfac = accuracy_score(sy_test, srfy_pred)\n",
    "\n",
    "srff1 = f1_score(sy_test, srfy_pred, average='weighted')\n",
    "srfcm = confusion_matrix(sy_test, srfy_pred)\n",
    "\n",
    "print('Random Forest: Accuracy=%.3f' % (srfac))\n",
    "\n",
    "print('Random Forest: f1-score=%.3f' % (srff1))"
   ]
  },
  {
   "cell_type": "markdown",
   "id": "c899c410",
   "metadata": {},
   "source": [
    "Suprisingly the random forest model is less effective at the pass/fail set."
   ]
  },
  {
   "cell_type": "markdown",
   "id": "099b1b2b",
   "metadata": {},
   "source": [
    "### Gradient Boosting"
   ]
  },
  {
   "cell_type": "code",
   "execution_count": 116,
   "id": "230699c2",
   "metadata": {},
   "outputs": [
    {
     "name": "stdout",
     "output_type": "stream",
     "text": [
      "Fitting 3 folds for each of 100 candidates, totalling 300 fits\n"
     ]
    },
    {
     "data": {
      "text/plain": [
       "RandomizedSearchCV(cv=3, estimator=GradientBoostingClassifier(), n_iter=100,\n",
       "                   n_jobs=-1,\n",
       "                   param_distributions={'criterion': ['friedman_mse', 'mae'],\n",
       "                                        'learning_rate': [0.01, 0.025, 0.05,\n",
       "                                                          0.075, 0.1, 0.15,\n",
       "                                                          0.2],\n",
       "                                        'loss': ['deviance'],\n",
       "                                        'max_depth': [3, 5, 8],\n",
       "                                        'max_features': ['log2', 'sqrt'],\n",
       "                                        'min_samples_leaf': array([0.1 , 0.14, 0.17, 0.21, 0.25, 0.28, 0.32, 0.35, 0.39, 0.43, 0.46,\n",
       "       0.5 ]),\n",
       "                                        'min_samples_split': array([0.1 , 0.14, 0.17, 0.21, 0.25, 0.28, 0.32, 0.35, 0.39, 0.43, 0.46,\n",
       "       0.5 ]),\n",
       "                                        'n_estimators': [10],\n",
       "                                        'subsample': [0.5, 0.618, 0.8, 0.85,\n",
       "                                                      0.9, 0.95, 1.0]},\n",
       "                   random_state=42, verbose=2)"
      ]
     },
     "execution_count": 116,
     "metadata": {},
     "output_type": "execute_result"
    }
   ],
   "source": [
    "gbscoring= ['accuracy', 'precision','recall']\n",
    "gbparameters = {\n",
    "    \"loss\":[\"deviance\"],\n",
    "    \"learning_rate\": [0.01, 0.025, 0.05, 0.075, 0.1, 0.15, 0.2],\n",
    "    \"min_samples_split\": np.linspace(0.1, 0.5, 12),\n",
    "    \"min_samples_leaf\": np.linspace(0.1, 0.5, 12),\n",
    "    \"max_depth\":[3,5,8],\n",
    "    \"max_features\":[\"log2\",\"sqrt\"],\n",
    "    \"criterion\": [\"friedman_mse\",  \"mae\"],\n",
    "    \"subsample\":[0.5, 0.618, 0.8, 0.85, 0.9, 0.95, 1.0],\n",
    "    \"n_estimators\":[10]}\n",
    "gb = GradientBoostingClassifier()\n",
    "gb_random = RandomizedSearchCV(estimator = gb, param_distributions = gbparameters, n_iter = 100, cv = 3, verbose=2, random_state=42, n_jobs = -1)\n",
    "gb_random.fit(X_train, y_train)"
   ]
  },
  {
   "cell_type": "code",
   "execution_count": 117,
   "id": "421be106",
   "metadata": {},
   "outputs": [
    {
     "data": {
      "text/plain": [
       "{'n_estimators': 400,\n",
       " 'min_samples_split': 10,\n",
       " 'min_samples_leaf': 4,\n",
       " 'max_features': 'sqrt',\n",
       " 'max_depth': 90,\n",
       " 'bootstrap': True}"
      ]
     },
     "execution_count": 117,
     "metadata": {},
     "output_type": "execute_result"
    }
   ],
   "source": [
    "rf_random.best_params_"
   ]
  },
  {
   "cell_type": "code",
   "execution_count": 130,
   "id": "cc2d2a1a",
   "metadata": {},
   "outputs": [
    {
     "name": "stdout",
     "output_type": "stream",
     "text": [
      "Gradient Boosting: Accuracy=0.506\n",
      "Gradient Boosting: f1-score=0.491\n"
     ]
    }
   ],
   "source": [
    "gbmodel = GradientBoostingClassifier(n_estimators = 400, min_samples_split = 10, min_samples_leaf = 4, max_features = 'sqrt', max_depth = 90)\n",
    "gbmodel.fit(X_train, y_train)\n",
    "gby_pred = gbmodel.predict(X_test)\n",
    "gby_pred_prob = gbmodel.predict_proba(X_test)\n",
    "gb_probs = gby_pred_prob[:,1]\n",
    "gbac = accuracy_score(y_test, gby_pred)\n",
    "\n",
    "gbf1 = f1_score(y_test, gby_pred, average='weighted')\n",
    "gbcm = confusion_matrix(y_test, gby_pred)\n",
    "\n",
    "print('Gradient Boosting: Accuracy=%.3f' % (gbac))\n",
    "\n",
    "print('Gradient Boosting: f1-score=%.3f' % (gbf1))"
   ]
  },
  {
   "cell_type": "code",
   "execution_count": 120,
   "id": "4949cab4",
   "metadata": {},
   "outputs": [
    {
     "name": "stdout",
     "output_type": "stream",
     "text": [
      "Normalized confusion matrix\n"
     ]
    },
    {
     "data": {
      "image/png": "[encoded data removed]",
      "text/plain": [
       "<Figure size 432x288 with 2 Axes>"
      ]
     },
     "metadata": {
      "needs_background": "light"
     },
     "output_type": "display_data"
    }
   ],
   "source": [
    "cnf_matrix = confusion_matrix(y_test, gby_pred)\n",
    "np.set_printoptions(precision=2)\n",
    "plt.figure()\n",
    "plot_confusion_matrix(cnf_matrix, classes=class_names,\n",
    "                      title='Normalized confusion matrix Gradient Boosting')"
   ]
  },
  {
   "cell_type": "code",
   "execution_count": 132,
   "id": "721af1a0",
   "metadata": {},
   "outputs": [
    {
     "name": "stdout",
     "output_type": "stream",
     "text": [
      "Random Forest: Accuracy=0.800\n",
      "Random Forest: f1-score=0.799\n"
     ]
    }
   ],
   "source": [
    "gbmodel.fit(sX_train, sy_train)\n",
    "sgby_pred = gbmodel.predict(sX_test)\n",
    "sgby_pred_prob = gbmodel.predict_proba(sX_test)\n",
    "sgb_probs = sgby_pred_prob[:,1]\n",
    "sgbac = accuracy_score(sy_test, sgby_pred)\n",
    "\n",
    "sgbf1 = f1_score(sy_test, sgby_pred, average='weighted')\n",
    "sgbcm = confusion_matrix(sy_test, sgby_pred)\n",
    "\n",
    "print('Gradient Boosting Pass/Fail: Accuracy=%.3f' % (sgbac))\n",
    "\n",
    "print('Gradient Boosting Pass/Fail: f1-score=%.3f' % (sgbf1))"
   ]
  },
  {
   "cell_type": "markdown",
   "id": "c724833d",
   "metadata": {},
   "source": [
    "Gradient Boosting performs slightly worse than random forrest in general but slightly better at the pass/fail set"
   ]
  },
  {
   "cell_type": "markdown",
   "id": "0ec74f6b",
   "metadata": {},
   "source": [
    "### K-Nearest Neighbors"
   ]
  },
  {
   "cell_type": "code",
   "execution_count": 145,
   "id": "d7a81fb1",
   "metadata": {},
   "outputs": [],
   "source": [
    "test_scores = []\n",
    "train_scores = []\n",
    "\n",
    "for i in range(1,20):\n",
    "\n",
    "    knn = KNeighborsClassifier(i)\n",
    "    knn.fit(X_train,y_train)\n",
    "    \n",
    "    train_scores.append(knn.score(X_train,y_train))\n",
    "    test_scores.append(knn.score(X_test,y_test))"
   ]
  },
  {
   "cell_type": "code",
   "execution_count": 147,
   "id": "b1a8d119",
   "metadata": {},
   "outputs": [
    {
     "data": {
      "text/plain": [
       "12"
      ]
     },
     "execution_count": 147,
     "metadata": {},
     "output_type": "execute_result"
    }
   ],
   "source": [
    "test_scores.index(max(test_scores))\n",
    "#Here an index of 12 indicates 13 neighbors"
   ]
  },
  {
   "cell_type": "code",
   "execution_count": 148,
   "id": "97e7f4ce",
   "metadata": {},
   "outputs": [
    {
     "name": "stderr",
     "output_type": "stream",
     "text": [
      "C:\\Users\\Armstrongs\\anaconda3\\lib\\site-packages\\seaborn\\_decorators.py:36: FutureWarning: Pass the following variables as keyword args: x, y. From version 0.12, the only valid positional argument will be `data`, and passing other arguments without an explicit keyword will result in an error or misinterpretation.\n",
      "  warnings.warn(\n",
      "C:\\Users\\Armstrongs\\anaconda3\\lib\\site-packages\\seaborn\\_decorators.py:36: FutureWarning: Pass the following variables as keyword args: x, y. From version 0.12, the only valid positional argument will be `data`, and passing other arguments without an explicit keyword will result in an error or misinterpretation.\n",
      "  warnings.warn(\n"
     ]
    },
    {
     "data": {
      "image/png": "[encoded data removed]",
      "text/plain": [
       "<Figure size 864x360 with 1 Axes>"
      ]
     },
     "metadata": {
      "needs_background": "light"
     },
     "output_type": "display_data"
    }
   ],
   "source": [
    "plt.figure(figsize=(12,5))\n",
    "p = sns.lineplot(range(1,20),train_scores,marker='*',label='Train Score')\n",
    "p = sns.lineplot(range(1,20),test_scores,marker='o',label='Test Score')"
   ]
  },
  {
   "cell_type": "code",
   "execution_count": 159,
   "id": "9cb3d89e",
   "metadata": {},
   "outputs": [
    {
     "name": "stdout",
     "output_type": "stream",
     "text": [
      "KNN: Accuracy=0.506\n",
      "KNN: f1-score=0.507\n"
     ]
    }
   ],
   "source": [
    "knn = KNeighborsClassifier(13)\n",
    "knn.fit(X_train,y_train)\n",
    "knny_pred = knn.predict(X_test)\n",
    "knny_pred_prob = knn.predict_proba(X_test)\n",
    "knn_probs = knny_pred_prob[:,1]\n",
    "knnac = accuracy_score(y_test, knny_pred)\n",
    "\n",
    "knnf1 = f1_score(y_test, knny_pred, average='weighted')\n",
    "knncm = confusion_matrix(y_test, knny_pred)\n",
    "\n",
    "print('KNN: Accuracy=%.3f' % (knnac))\n",
    "\n",
    "print('KNN: f1-score=%.3f' % (knnf1))"
   ]
  },
  {
   "cell_type": "code",
   "execution_count": 160,
   "id": "d4944f04",
   "metadata": {},
   "outputs": [
    {
     "name": "stdout",
     "output_type": "stream",
     "text": [
      "Normalized confusion matrix\n"
     ]
    },
    {
     "data": {
      "image/png": "[encoded data removed]",
      "text/plain": [
       "<Figure size 432x288 with 2 Axes>"
      ]
     },
     "metadata": {
      "needs_background": "light"
     },
     "output_type": "display_data"
    }
   ],
   "source": [
    "cnf_matrix = confusion_matrix(y_test, knny_pred)\n",
    "np.set_printoptions(precision=2)\n",
    "plt.figure()\n",
    "plot_confusion_matrix(cnf_matrix, classes=class_names,\n",
    "                      title='Normalized confusion matrix KNN')"
   ]
  },
  {
   "cell_type": "code",
   "execution_count": 179,
   "id": "a6589a6c",
   "metadata": {},
   "outputs": [
    {
     "name": "stdout",
     "output_type": "stream",
     "text": [
      "Base Logistic Regression: Accuracy=0.506\n",
      "Base Logistic Regression: f1-score=0.498\n",
      "Logist Regression: Accuracy=0.494\n",
      "Logist Regression: f1-score=0.488\n",
      "Random Forest: Accuracy=0.529\n",
      "Random Forest: f1-score=0.524\n",
      "Reduced Random Forest: Accuracy=0.518\n",
      "Reduced Random Forest: f1-score=0.514\n",
      "Gradient Boosting: Accuracy=0.506\n",
      "Gradient Boosting: f1-score=0.491\n",
      "KNN: Accuracy=0.506\n",
      "KNN: f1-score=0.507\n"
     ]
    }
   ],
   "source": [
    "print('Base Logistic Regression: Accuracy=%.3f' % (lr_accuracy))\n",
    "\n",
    "print('Base Logistic Regression: f1-score=%.3f' % (lr_f1))\n",
    "\n",
    "print('Logist Regression: Accuracy=%.3f' % (tlr_accuracy))\n",
    "\n",
    "print('Logist Regression: f1-score=%.3f' % (tlr_f1))\n",
    "print('Random Forest: Accuracy=%.3f' % (rfac))\n",
    "\n",
    "print('Random Forest: f1-score=%.3f' % (rff1))\n",
    "print('Reduced Random Forest: Accuracy=%.3f' % (redrfac))\n",
    "\n",
    "print('Reduced Random Forest: f1-score=%.3f' % (redrff1))\n",
    "print('Gradient Boosting: Accuracy=%.3f' % (gbac))\n",
    "\n",
    "print('Gradient Boosting: f1-score=%.3f' % (gbf1))\n",
    "print('KNN: Accuracy=%.3f' % (knnac))\n",
    "\n",
    "print('KNN: f1-score=%.3f' % (knnf1))"
   ]
  },
  {
   "cell_type": "markdown",
   "id": "5d3c6011",
   "metadata": {},
   "source": [
    "It appears that the best model in terms of both accuracy and f1 scores is Random Forest."
   ]
  },
  {
   "cell_type": "code",
   "execution_count": 163,
   "id": "0bb48e90",
   "metadata": {},
   "outputs": [],
   "source": [
    "test_scores = []\n",
    "train_scores = []\n",
    "\n",
    "for i in range(1,20):\n",
    "\n",
    "    knn = KNeighborsClassifier(i)\n",
    "    knn.fit(sX_train,sy_train)\n",
    "    \n",
    "    train_scores.append(knn.score(sX_train,sy_train))\n",
    "    test_scores.append(knn.score(sX_test,sy_test))"
   ]
  },
  {
   "cell_type": "code",
   "execution_count": 164,
   "id": "af4d2e20",
   "metadata": {},
   "outputs": [
    {
     "data": {
      "text/plain": [
       "14"
      ]
     },
     "execution_count": 164,
     "metadata": {},
     "output_type": "execute_result"
    }
   ],
   "source": [
    "test_scores.index(max(test_scores))\n",
    "#Here an index of 14 indicates 15 neighbors"
   ]
  },
  {
   "cell_type": "code",
   "execution_count": 165,
   "id": "6f41a74f",
   "metadata": {},
   "outputs": [
    {
     "name": "stderr",
     "output_type": "stream",
     "text": [
      "C:\\Users\\Armstrongs\\anaconda3\\lib\\site-packages\\seaborn\\_decorators.py:36: FutureWarning: Pass the following variables as keyword args: x, y. From version 0.12, the only valid positional argument will be `data`, and passing other arguments without an explicit keyword will result in an error or misinterpretation.\n",
      "  warnings.warn(\n",
      "C:\\Users\\Armstrongs\\anaconda3\\lib\\site-packages\\seaborn\\_decorators.py:36: FutureWarning: Pass the following variables as keyword args: x, y. From version 0.12, the only valid positional argument will be `data`, and passing other arguments without an explicit keyword will result in an error or misinterpretation.\n",
      "  warnings.warn(\n"
     ]
    },
    {
     "data": {
      "image/png": "[encoded data removed]",
      "text/plain": [
       "<Figure size 864x360 with 1 Axes>"
      ]
     },
     "metadata": {
      "needs_background": "light"
     },
     "output_type": "display_data"
    }
   ],
   "source": [
    "plt.figure(figsize=(12,5))\n",
    "p = sns.lineplot(range(1,20),train_scores,marker='*',label='Train Score')\n",
    "p = sns.lineplot(range(1,20),test_scores,marker='o',label='Test Score')"
   ]
  },
  {
   "cell_type": "code",
   "execution_count": 167,
   "id": "aab62346",
   "metadata": {},
   "outputs": [
    {
     "name": "stdout",
     "output_type": "stream",
     "text": [
      "KNN: Accuracy=0.788\n",
      "KNN: f1-score=0.768\n"
     ]
    }
   ],
   "source": [
    "sknn = KNeighborsClassifier(15)\n",
    "sknn.fit(sX_train,sy_train)\n",
    "sknny_pred = knn.predict(sX_test)\n",
    "sknny_pred_prob = sknn.predict_proba(sX_test)\n",
    "sknn_probs = sknny_pred_prob[:,1]\n",
    "sknnac = accuracy_score(sy_test, sknny_pred)\n",
    "\n",
    "sknnf1 = f1_score(sy_test, sknny_pred, average='weighted')\n",
    "sknncm = confusion_matrix(sy_test,sknny_pred)\n",
    "\n",
    "print('Pass/Fail KNN: Accuracy=%.3f' % (sknnac))\n",
    "\n",
    "print('Pass/Fail KNN: f1-score=%.3f' % (sknnf1))"
   ]
  },
  {
   "cell_type": "code",
   "execution_count": 168,
   "id": "88749ecc",
   "metadata": {},
   "outputs": [
    {
     "name": "stdout",
     "output_type": "stream",
     "text": [
      "Pass/Fail Logist Regression: Accuracy=0.800\n",
      "Pass/Fail Logist Regression: f1-score=0.792\n",
      "Pass/Fail Random Forest: Accuracy=0.765\n",
      "Pass/Fail Random Forest: f1-score=0.736\n",
      "Gradient Boosting Pass/Fail: Accuracy=0.800\n",
      "Gradient Boosting Pass/Fail: f1-score=0.799\n",
      "Pass/Fail KNN: Accuracy=0.788\n",
      "Pass/Fail KNN: f1-score=0.768\n"
     ]
    }
   ],
   "source": [
    "print('Pass/Fail Logist Regression: Accuracy=%.3f' % (slr_accuracy))\n",
    "\n",
    "print('Pass/Fail Logist Regression: f1-score=%.3f' % (slr_f1))\n",
    "print('Pass/Fail Random Forest: Accuracy=%.3f' % (srfac))\n",
    "\n",
    "print('Pass/Fail Random Forest: f1-score=%.3f' % (srff1))\n",
    "print('Gradient Boosting Pass/Fail: Accuracy=%.3f' % (sgbac))\n",
    "\n",
    "print('Gradient Boosting Pass/Fail: f1-score=%.3f' % (sgbf1))\n",
    "print('Pass/Fail KNN: Accuracy=%.3f' % (sknnac))\n",
    "\n",
    "print('Pass/Fail KNN: f1-score=%.3f' % (sknnf1))"
   ]
  },
  {
   "cell_type": "markdown",
   "id": "d2e399bc",
   "metadata": {},
   "source": [
    "However, in terms of Pass/Fail the Gradient Boosting model wins out by a small margin. In this case the random forrest is actually the *least* performing model"
   ]
  },
  {
   "cell_type": "markdown",
   "id": "a751d6d8",
   "metadata": {},
   "source": [
    "## Findings / Suggestions"
   ]
  },
  {
   "cell_type": "markdown",
   "id": "021103f9",
   "metadata": {},
   "source": [
    "The top performing model was able to predict with reasonable accuracy the top and bottom performing students. Most teachers would be able to do the same after having worked with a student for a grading period. However the benefit here is that these results were not based on any academic data (with the exception of special education status), only inherent student demographic data as well relative staar progress. This means that resources could be targeted at specific students much earlier than traditional teacher recommendation methods would allow. It is interesting to note that the most important features for the algorithm were relative staar progress from the previous year, special ed status, economic status, and whether or not the student attended campuses 5 and 6, just as EDA suggested. It is also worth noting that whether the student took the test in Spanish or English was of no use to the algorithm, although the small sample size may be a contributing factor in this case. \n",
    "\n",
    "It is unfortunate that no algorithm was able to predict Approaches and Meets level students with a high level of accuracy as these are the students where it is likely to be most important to focus resources on. In the future, an algorithm could be trained on specific math academic data on a student by student basis, a pipeline could then automatically learn from the data as more grades were input into the system, and a recommendation could automatically be produced on a periodic basis. "
   ]
  },
  {
   "cell_type": "code",
   "execution_count": null,
   "id": "8c41ae15",
   "metadata": {},
   "outputs": [],
   "source": []
  }
 ],
 "metadata": {
  "kernelspec": {
   "display_name": "Python 3 (ipykernel)",
   "language": "python",
   "name": "python3"
  },
  "language_info": {
   "codemirror_mode": {
    "name": "ipython",
    "version": 3
   },
   "file_extension": ".py",
   "mimetype": "text/x-python",
   "name": "python",
   "nbconvert_exporter": "python",
   "pygments_lexer": "ipython3",
   "version": "3.9.7"
  }
 },
 "nbformat": 4,
 "nbformat_minor": 5
}
